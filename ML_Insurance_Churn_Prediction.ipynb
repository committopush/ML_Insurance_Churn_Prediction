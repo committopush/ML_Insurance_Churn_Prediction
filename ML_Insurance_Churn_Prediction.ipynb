{
 "cells": [
  {
   "cell_type": "markdown",
   "metadata": {},
   "source": [
    "# ABC Insurance Customer Data Analysis and Predictive Modeling"
   ]
  },
  {
   "cell_type": "markdown",
   "metadata": {},
   "source": [
    "## Background Story  "
   ]
  },
  {
   "cell_type": "markdown",
   "metadata": {},
   "source": [
    "ABC Insurance, once a market leader, has been noticing a worrying trend in its customer base – a gradual but steady increase in customer churn, alongside a static, sometimes faltering, customer lifetime value. The CEO, in a recent town hall, made it clear: \"Our customers are the lifeblood of our business. Understanding them isn't just part of the job — it is the job.\"\n",
    "\n",
    "Your task comes directly from the top: The CEO, in collaboration with the head of the marketing department, has formally requested a comprehensive analysis to unearth the hidden patterns within the customer data. They believe that the data holds the key to revitalizing ABC Insurance's customer engagement strategy, tailoring product offerings to individual needs, and ultimately turning the tide on churn."
   ]
  },
  {
   "cell_type": "markdown",
   "metadata": {},
   "source": [
    "## Data Description"
   ]
  },
  {
   "cell_type": "markdown",
   "metadata": {},
   "source": [
    "The IT extracted three tables that contains the available information asked by the Head of Marketing: ABC_costumer, ABC_demographics, ABC_termination. \n",
    "\n",
    "Please download the data from: *redacted*"
   ]
  },
  {
   "cell_type": "markdown",
   "metadata": {},
   "source": [
    "### Dataframes details "
   ]
  },
  {
   "cell_type": "markdown",
   "metadata": {},
   "source": [
    "#### df_customer:\n",
    "\n",
    "Contains details about the customers, including their ID, address, policy start dates, and the current annual amounts for car, health, and house insurance.\n",
    "\n",
    "##### Variables\n",
    "INDIVIDUAL_ID: Unique identifier for the customer.\n",
    "\n",
    "ADDRESS_ID: Address identifier for the customer.\n",
    "\n",
    "CUST_ORIG_DATE: The original date when the customer joined.\n",
    "\n",
    "DATE_OF_BIRTH: Customer's date of birth.\n",
    "\n",
    "SOCIAL_SECURITY_NUMBER: Customer's SSN (for identification).\n",
    "\n",
    "CUST_START_DATE: The start date of the customer's current policy.\n",
    "\n",
    "CURR_ANN_AMT_CAR: Current annual amount paid for car insurance.\n",
    "\n",
    "CURR_ANN_AMT_HEALTH: Current annual amount paid for health insurance.\n",
    "\n",
    "CURR_ANN_AMT_HOUSE: Current annual amount paid for house insurance.\n"
   ]
  },
  {
   "cell_type": "markdown",
   "metadata": {},
   "source": [
    "#### df_demographics:\n",
    "Includes demographic information about the customers, such as income, family status, home ownership, and credit rating.\n",
    "\n",
    "##### Variables\n",
    "\n",
    "INDIVIDUAL_ID: Unique identifier for the customer (links to df_customer).\n",
    "\n",
    "INCOME: Customer's income.\n",
    "\n",
    "HAS_CHILDREN: Indicates if the customer has children.\n",
    "\n",
    "LENGTH_OF_RESIDENCE: How long the customer has lived in their current residence.\n",
    "\n",
    "MARITAL_STATUS: Customer's marital status.\n",
    "\n",
    "HOME_MARKET_VALUE: Market value of the customer's home.\n",
    "\n",
    "HOME_OWNER: Indicates if the customer owns their home.\n",
    "\n",
    "COLLEGE_DEGREE: Indicates if the customer has a college degree.\n",
    "\n",
    "GOOD_CREDIT: Indicates if the customer has good credit.\n",
    "\n",
    "ADVANCED_STUDIES: Indicates if the customer has pursued advanced studies.\n"
   ]
  },
  {
   "cell_type": "markdown",
   "metadata": {},
   "source": [
    "#### df_termination:\n",
    "\n",
    "Lists customers who have suspended their policies, including the suspension date.\n",
    "\n",
    "##### Variables\n",
    "\n",
    "INDIVIDUAL_ID: Unique identifier for the customer (links to df_customer).\n",
    "\n",
    "SUSPD_DATE: The date when the customer's policy was suspended."
   ]
  },
  {
   "cell_type": "markdown",
   "metadata": {},
   "source": [
    "## Part 1: Data Quality and Customer Understanding \n",
    "\n",
    "#### Background: Before delving into sophisticated analyses and model building, ensuring the integrity and quality of data is paramount. The provided datasets are critical for understanding ABC Insurance's clientele but may contain issues affecting their utility for further analysis."
   ]
  },
  {
   "cell_type": "markdown",
   "metadata": {},
   "source": [
    "#### 1.1 The exploratory data analysis of the data"
   ]
  },
  {
   "cell_type": "code",
   "metadata": {
    "ExecuteTime": {
     "end_time": "2025-03-23T21:02:53.299949Z",
     "start_time": "2025-03-23T21:02:53.295383Z"
    }
   },
   "source": [
    "#load required libraries\n",
    "import pandas as pd\n",
    "import numpy as np\n",
    "import matplotlib.pyplot as plt\n",
    "import seaborn as sns\n",
    "import os\n",
    "from datetime import datetime"
   ],
   "outputs": [],
   "execution_count": 1
  },
  {
   "cell_type": "markdown",
   "metadata": {},
   "source": [
    "#### Load of the datasets and basic statistics"
   ]
  },
  {
   "cell_type": "markdown",
   "metadata": {},
   "source": [
    "#### 1) CUSTOMERS DATASET"
   ]
  },
  {
   "cell_type": "code",
   "metadata": {
    "ExecuteTime": {
     "end_time": "2025-03-23T21:02:56.104628Z",
     "start_time": "2025-03-23T21:02:53.363400Z"
    }
   },
   "source": [
    "#load customer dataset\n",
    "file_path = os.path.join(\"data\",\"ABC_customer.csv\")\n",
    "df_customer = pd.read_csv(file_path, low_memory=False)\n",
    "df_customer.head()"
   ],
   "outputs": [
    {
     "data": {
      "text/plain": [
       "   Unnamed: 0  INDIVIDUAL_ID    ADDRESS_ID CUST_ORIG_DATE DATE_OF_BIRTH  \\\n",
       "0           0   2.213000e+11  5.213000e+11     2018-12-09    1978-06-23   \n",
       "1           1   2.213001e+11  5.213001e+11     2018-01-02    1950-05-30   \n",
       "2           2   2.213007e+11  5.213002e+11     2009-09-23    1967-07-07   \n",
       "3           3   2.213016e+11  5.213006e+11     2022-07-25    1969-05-25   \n",
       "4           4   2.213016e+11  5.213006e+11     2006-10-11    1972-09-25   \n",
       "\n",
       "  SOCIAL_SECURITY_NUMBER CUST_START_DATE  CURR_ANN_AMT_CAR  \\\n",
       "0            608-XX-7640      2018-12-09       1318.877997   \n",
       "1            342-XX-6908      2018-01-02       1474.199182   \n",
       "2            240-XX-9224      2009-09-23       1467.375112   \n",
       "3            775-XX-6249      2022-07-25       1492.409561   \n",
       "4            629-XX-7298      2006-10-11       1284.633494   \n",
       "\n",
       "   CURR_ANN_AMT_HEALTH  CURR_ANN_AMT_HOUSE  \n",
       "0           517.999317                 411  \n",
       "1           558.417779                 414  \n",
       "2           701.649310                 442  \n",
       "3           401.517490                 463  \n",
       "4           772.857222                 366  "
      ],
      "text/html": [
       "<div>\n",
       "<style scoped>\n",
       "    .dataframe tbody tr th:only-of-type {\n",
       "        vertical-align: middle;\n",
       "    }\n",
       "\n",
       "    .dataframe tbody tr th {\n",
       "        vertical-align: top;\n",
       "    }\n",
       "\n",
       "    .dataframe thead th {\n",
       "        text-align: right;\n",
       "    }\n",
       "</style>\n",
       "<table border=\"1\" class=\"dataframe\">\n",
       "  <thead>\n",
       "    <tr style=\"text-align: right;\">\n",
       "      <th></th>\n",
       "      <th>Unnamed: 0</th>\n",
       "      <th>INDIVIDUAL_ID</th>\n",
       "      <th>ADDRESS_ID</th>\n",
       "      <th>CUST_ORIG_DATE</th>\n",
       "      <th>DATE_OF_BIRTH</th>\n",
       "      <th>SOCIAL_SECURITY_NUMBER</th>\n",
       "      <th>CUST_START_DATE</th>\n",
       "      <th>CURR_ANN_AMT_CAR</th>\n",
       "      <th>CURR_ANN_AMT_HEALTH</th>\n",
       "      <th>CURR_ANN_AMT_HOUSE</th>\n",
       "    </tr>\n",
       "  </thead>\n",
       "  <tbody>\n",
       "    <tr>\n",
       "      <th>0</th>\n",
       "      <td>0</td>\n",
       "      <td>2.213000e+11</td>\n",
       "      <td>5.213000e+11</td>\n",
       "      <td>2018-12-09</td>\n",
       "      <td>1978-06-23</td>\n",
       "      <td>608-XX-7640</td>\n",
       "      <td>2018-12-09</td>\n",
       "      <td>1318.877997</td>\n",
       "      <td>517.999317</td>\n",
       "      <td>411</td>\n",
       "    </tr>\n",
       "    <tr>\n",
       "      <th>1</th>\n",
       "      <td>1</td>\n",
       "      <td>2.213001e+11</td>\n",
       "      <td>5.213001e+11</td>\n",
       "      <td>2018-01-02</td>\n",
       "      <td>1950-05-30</td>\n",
       "      <td>342-XX-6908</td>\n",
       "      <td>2018-01-02</td>\n",
       "      <td>1474.199182</td>\n",
       "      <td>558.417779</td>\n",
       "      <td>414</td>\n",
       "    </tr>\n",
       "    <tr>\n",
       "      <th>2</th>\n",
       "      <td>2</td>\n",
       "      <td>2.213007e+11</td>\n",
       "      <td>5.213002e+11</td>\n",
       "      <td>2009-09-23</td>\n",
       "      <td>1967-07-07</td>\n",
       "      <td>240-XX-9224</td>\n",
       "      <td>2009-09-23</td>\n",
       "      <td>1467.375112</td>\n",
       "      <td>701.649310</td>\n",
       "      <td>442</td>\n",
       "    </tr>\n",
       "    <tr>\n",
       "      <th>3</th>\n",
       "      <td>3</td>\n",
       "      <td>2.213016e+11</td>\n",
       "      <td>5.213006e+11</td>\n",
       "      <td>2022-07-25</td>\n",
       "      <td>1969-05-25</td>\n",
       "      <td>775-XX-6249</td>\n",
       "      <td>2022-07-25</td>\n",
       "      <td>1492.409561</td>\n",
       "      <td>401.517490</td>\n",
       "      <td>463</td>\n",
       "    </tr>\n",
       "    <tr>\n",
       "      <th>4</th>\n",
       "      <td>4</td>\n",
       "      <td>2.213016e+11</td>\n",
       "      <td>5.213006e+11</td>\n",
       "      <td>2006-10-11</td>\n",
       "      <td>1972-09-25</td>\n",
       "      <td>629-XX-7298</td>\n",
       "      <td>2006-10-11</td>\n",
       "      <td>1284.633494</td>\n",
       "      <td>772.857222</td>\n",
       "      <td>366</td>\n",
       "    </tr>\n",
       "  </tbody>\n",
       "</table>\n",
       "</div>"
      ]
     },
     "execution_count": 2,
     "metadata": {},
     "output_type": "execute_result"
    }
   ],
   "execution_count": 2
  },
  {
   "cell_type": "code",
   "metadata": {
    "ExecuteTime": {
     "end_time": "2025-03-23T21:02:56.262449Z",
     "start_time": "2025-03-23T21:02:56.256056Z"
    }
   },
   "source": [
    "df_customer.tail()"
   ],
   "outputs": [
    {
     "data": {
      "text/plain": [
       "         Unnamed: 0  INDIVIDUAL_ID    ADDRESS_ID CUST_ORIG_DATE DATE_OF_BIRTH  \\\n",
       "2303119     2303119   2.213003e+11  5.213001e+11     2014-02-15    1967-07-07   \n",
       "2303120     2303120   2.213031e+11  5.213013e+11     2022-02-16    1965-05-26   \n",
       "2303121     2303121   2.213013e+11  5.213005e+11     2019-08-16    1967-07-07   \n",
       "2303122     2303122   2.213021e+11  5.213008e+11     2005-09-11    1948-10-31   \n",
       "2303123     2303123   2.213025e+11  5.213009e+11     2008-09-10    1981-04-22   \n",
       "\n",
       "        SOCIAL_SECURITY_NUMBER CUST_START_DATE  CURR_ANN_AMT_CAR  \\\n",
       "2303119            882-XX-4608             NaN       1361.290041   \n",
       "2303120            709-XX-1726             NaN       1563.921158   \n",
       "2303121            317-XX-1336             NaN       1128.048444   \n",
       "2303122            110-XX-9215             NaN       1380.204016   \n",
       "2303123            102-XX-6555             NaN       1348.650555   \n",
       "\n",
       "         CURR_ANN_AMT_HEALTH  CURR_ANN_AMT_HOUSE  \n",
       "2303119           623.368014                 426  \n",
       "2303120           997.482828                 507  \n",
       "2303121           393.819352                 300  \n",
       "2303122           556.785305                 424  \n",
       "2303123           294.226518                 408  "
      ],
      "text/html": [
       "<div>\n",
       "<style scoped>\n",
       "    .dataframe tbody tr th:only-of-type {\n",
       "        vertical-align: middle;\n",
       "    }\n",
       "\n",
       "    .dataframe tbody tr th {\n",
       "        vertical-align: top;\n",
       "    }\n",
       "\n",
       "    .dataframe thead th {\n",
       "        text-align: right;\n",
       "    }\n",
       "</style>\n",
       "<table border=\"1\" class=\"dataframe\">\n",
       "  <thead>\n",
       "    <tr style=\"text-align: right;\">\n",
       "      <th></th>\n",
       "      <th>Unnamed: 0</th>\n",
       "      <th>INDIVIDUAL_ID</th>\n",
       "      <th>ADDRESS_ID</th>\n",
       "      <th>CUST_ORIG_DATE</th>\n",
       "      <th>DATE_OF_BIRTH</th>\n",
       "      <th>SOCIAL_SECURITY_NUMBER</th>\n",
       "      <th>CUST_START_DATE</th>\n",
       "      <th>CURR_ANN_AMT_CAR</th>\n",
       "      <th>CURR_ANN_AMT_HEALTH</th>\n",
       "      <th>CURR_ANN_AMT_HOUSE</th>\n",
       "    </tr>\n",
       "  </thead>\n",
       "  <tbody>\n",
       "    <tr>\n",
       "      <th>2303119</th>\n",
       "      <td>2303119</td>\n",
       "      <td>2.213003e+11</td>\n",
       "      <td>5.213001e+11</td>\n",
       "      <td>2014-02-15</td>\n",
       "      <td>1967-07-07</td>\n",
       "      <td>882-XX-4608</td>\n",
       "      <td>NaN</td>\n",
       "      <td>1361.290041</td>\n",
       "      <td>623.368014</td>\n",
       "      <td>426</td>\n",
       "    </tr>\n",
       "    <tr>\n",
       "      <th>2303120</th>\n",
       "      <td>2303120</td>\n",
       "      <td>2.213031e+11</td>\n",
       "      <td>5.213013e+11</td>\n",
       "      <td>2022-02-16</td>\n",
       "      <td>1965-05-26</td>\n",
       "      <td>709-XX-1726</td>\n",
       "      <td>NaN</td>\n",
       "      <td>1563.921158</td>\n",
       "      <td>997.482828</td>\n",
       "      <td>507</td>\n",
       "    </tr>\n",
       "    <tr>\n",
       "      <th>2303121</th>\n",
       "      <td>2303121</td>\n",
       "      <td>2.213013e+11</td>\n",
       "      <td>5.213005e+11</td>\n",
       "      <td>2019-08-16</td>\n",
       "      <td>1967-07-07</td>\n",
       "      <td>317-XX-1336</td>\n",
       "      <td>NaN</td>\n",
       "      <td>1128.048444</td>\n",
       "      <td>393.819352</td>\n",
       "      <td>300</td>\n",
       "    </tr>\n",
       "    <tr>\n",
       "      <th>2303122</th>\n",
       "      <td>2303122</td>\n",
       "      <td>2.213021e+11</td>\n",
       "      <td>5.213008e+11</td>\n",
       "      <td>2005-09-11</td>\n",
       "      <td>1948-10-31</td>\n",
       "      <td>110-XX-9215</td>\n",
       "      <td>NaN</td>\n",
       "      <td>1380.204016</td>\n",
       "      <td>556.785305</td>\n",
       "      <td>424</td>\n",
       "    </tr>\n",
       "    <tr>\n",
       "      <th>2303123</th>\n",
       "      <td>2303123</td>\n",
       "      <td>2.213025e+11</td>\n",
       "      <td>5.213009e+11</td>\n",
       "      <td>2008-09-10</td>\n",
       "      <td>1981-04-22</td>\n",
       "      <td>102-XX-6555</td>\n",
       "      <td>NaN</td>\n",
       "      <td>1348.650555</td>\n",
       "      <td>294.226518</td>\n",
       "      <td>408</td>\n",
       "    </tr>\n",
       "  </tbody>\n",
       "</table>\n",
       "</div>"
      ]
     },
     "execution_count": 3,
     "metadata": {},
     "output_type": "execute_result"
    }
   ],
   "execution_count": 3
  },
  {
   "cell_type": "code",
   "metadata": {
    "ExecuteTime": {
     "end_time": "2025-03-23T21:02:56.431273Z",
     "start_time": "2025-03-23T21:02:56.428333Z"
    }
   },
   "source": "df_customer.shape",
   "outputs": [
    {
     "data": {
      "text/plain": [
       "(2303124, 10)"
      ]
     },
     "execution_count": 4,
     "metadata": {},
     "output_type": "execute_result"
    }
   ],
   "execution_count": 4
  },
  {
   "cell_type": "code",
   "metadata": {
    "ExecuteTime": {
     "end_time": "2025-03-23T21:02:56.839194Z",
     "start_time": "2025-03-23T21:02:56.834265Z"
    }
   },
   "source": [
    "df_customer.info()"
   ],
   "outputs": [
    {
     "name": "stdout",
     "output_type": "stream",
     "text": [
      "<class 'pandas.core.frame.DataFrame'>\n",
      "RangeIndex: 2303124 entries, 0 to 2303123\n",
      "Data columns (total 10 columns):\n",
      " #   Column                  Dtype  \n",
      "---  ------                  -----  \n",
      " 0   Unnamed: 0              int64  \n",
      " 1   INDIVIDUAL_ID           float64\n",
      " 2   ADDRESS_ID              float64\n",
      " 3   CUST_ORIG_DATE          object \n",
      " 4   DATE_OF_BIRTH           object \n",
      " 5   SOCIAL_SECURITY_NUMBER  object \n",
      " 6   CUST_START_DATE         object \n",
      " 7   CURR_ANN_AMT_CAR        float64\n",
      " 8   CURR_ANN_AMT_HEALTH     float64\n",
      " 9   CURR_ANN_AMT_HOUSE      int64  \n",
      "dtypes: float64(4), int64(2), object(4)\n",
      "memory usage: 175.7+ MB\n"
     ]
    }
   ],
   "execution_count": 5
  },
  {
   "cell_type": "code",
   "metadata": {
    "ExecuteTime": {
     "end_time": "2025-03-23T21:02:59.980632Z",
     "start_time": "2025-03-23T21:02:57.730398Z"
    }
   },
   "source": [
    "#get a clearer understanding of the data\n",
    "df_customer.describe(include='all')"
   ],
   "outputs": [
    {
     "data": {
      "text/plain": [
       "          Unnamed: 0  INDIVIDUAL_ID    ADDRESS_ID CUST_ORIG_DATE  \\\n",
       "count   2.303124e+06   2.303123e+06  2.303123e+06        2303124   \n",
       "unique           NaN            NaN           NaN           5253   \n",
       "top              NaN            NaN           NaN     2005-09-11   \n",
       "freq             NaN            NaN           NaN         599153   \n",
       "mean    1.151562e+06   2.213018e+11  5.213007e+11            NaN   \n",
       "std     6.648548e+05   9.915268e+05  4.170653e+05            NaN   \n",
       "min     0.000000e+00   2.213000e+11  5.213000e+11            NaN   \n",
       "25%     5.757808e+05   2.213009e+11  5.213003e+11            NaN   \n",
       "50%     1.151562e+06   2.213018e+11  5.213007e+11            NaN   \n",
       "75%     1.727342e+06   2.213027e+11  5.213010e+11            NaN   \n",
       "max     2.303123e+06   2.213033e+11  5.213015e+11            NaN   \n",
       "\n",
       "       DATE_OF_BIRTH SOCIAL_SECURITY_NUMBER CUST_START_DATE  CURR_ANN_AMT_CAR  \\\n",
       "count        2303124                2303124         2211911      2.303124e+06   \n",
       "unique          3492                1986833           18275               NaN   \n",
       "top       1967-07-07            217-XX-6487      2005-09-11               NaN   \n",
       "freq          404695                      6          535157               NaN   \n",
       "mean             NaN                    NaN             NaN      1.431069e+03   \n",
       "std              NaN                    NaN             NaN      2.439311e+02   \n",
       "min              NaN                    NaN             NaN      2.869633e+02   \n",
       "25%              NaN                    NaN             NaN      1.264830e+03   \n",
       "50%              NaN                    NaN             NaN      1.425758e+03   \n",
       "75%              NaN                    NaN             NaN      1.591793e+03   \n",
       "max              NaN                    NaN             NaN      2.769374e+03   \n",
       "\n",
       "        CURR_ANN_AMT_HEALTH  CURR_ANN_AMT_HOUSE  \n",
       "count          2.303124e+06        2.303124e+06  \n",
       "unique                  NaN                 NaN  \n",
       "top                     NaN                 NaN  \n",
       "freq                    NaN                 NaN  \n",
       "mean           5.725299e+02        4.293221e+02  \n",
       "std            1.896686e+02        7.606463e+01  \n",
       "min           -3.516244e+02        9.000000e+01  \n",
       "25%            4.442061e+02        3.770000e+02  \n",
       "50%            5.720247e+02        4.270000e+02  \n",
       "75%            7.001292e+02        4.790000e+02  \n",
       "max            1.617531e+03        8.870000e+02  "
      ],
      "text/html": [
       "<div>\n",
       "<style scoped>\n",
       "    .dataframe tbody tr th:only-of-type {\n",
       "        vertical-align: middle;\n",
       "    }\n",
       "\n",
       "    .dataframe tbody tr th {\n",
       "        vertical-align: top;\n",
       "    }\n",
       "\n",
       "    .dataframe thead th {\n",
       "        text-align: right;\n",
       "    }\n",
       "</style>\n",
       "<table border=\"1\" class=\"dataframe\">\n",
       "  <thead>\n",
       "    <tr style=\"text-align: right;\">\n",
       "      <th></th>\n",
       "      <th>Unnamed: 0</th>\n",
       "      <th>INDIVIDUAL_ID</th>\n",
       "      <th>ADDRESS_ID</th>\n",
       "      <th>CUST_ORIG_DATE</th>\n",
       "      <th>DATE_OF_BIRTH</th>\n",
       "      <th>SOCIAL_SECURITY_NUMBER</th>\n",
       "      <th>CUST_START_DATE</th>\n",
       "      <th>CURR_ANN_AMT_CAR</th>\n",
       "      <th>CURR_ANN_AMT_HEALTH</th>\n",
       "      <th>CURR_ANN_AMT_HOUSE</th>\n",
       "    </tr>\n",
       "  </thead>\n",
       "  <tbody>\n",
       "    <tr>\n",
       "      <th>count</th>\n",
       "      <td>2.303124e+06</td>\n",
       "      <td>2.303123e+06</td>\n",
       "      <td>2.303123e+06</td>\n",
       "      <td>2303124</td>\n",
       "      <td>2303124</td>\n",
       "      <td>2303124</td>\n",
       "      <td>2211911</td>\n",
       "      <td>2.303124e+06</td>\n",
       "      <td>2.303124e+06</td>\n",
       "      <td>2.303124e+06</td>\n",
       "    </tr>\n",
       "    <tr>\n",
       "      <th>unique</th>\n",
       "      <td>NaN</td>\n",
       "      <td>NaN</td>\n",
       "      <td>NaN</td>\n",
       "      <td>5253</td>\n",
       "      <td>3492</td>\n",
       "      <td>1986833</td>\n",
       "      <td>18275</td>\n",
       "      <td>NaN</td>\n",
       "      <td>NaN</td>\n",
       "      <td>NaN</td>\n",
       "    </tr>\n",
       "    <tr>\n",
       "      <th>top</th>\n",
       "      <td>NaN</td>\n",
       "      <td>NaN</td>\n",
       "      <td>NaN</td>\n",
       "      <td>2005-09-11</td>\n",
       "      <td>1967-07-07</td>\n",
       "      <td>217-XX-6487</td>\n",
       "      <td>2005-09-11</td>\n",
       "      <td>NaN</td>\n",
       "      <td>NaN</td>\n",
       "      <td>NaN</td>\n",
       "    </tr>\n",
       "    <tr>\n",
       "      <th>freq</th>\n",
       "      <td>NaN</td>\n",
       "      <td>NaN</td>\n",
       "      <td>NaN</td>\n",
       "      <td>599153</td>\n",
       "      <td>404695</td>\n",
       "      <td>6</td>\n",
       "      <td>535157</td>\n",
       "      <td>NaN</td>\n",
       "      <td>NaN</td>\n",
       "      <td>NaN</td>\n",
       "    </tr>\n",
       "    <tr>\n",
       "      <th>mean</th>\n",
       "      <td>1.151562e+06</td>\n",
       "      <td>2.213018e+11</td>\n",
       "      <td>5.213007e+11</td>\n",
       "      <td>NaN</td>\n",
       "      <td>NaN</td>\n",
       "      <td>NaN</td>\n",
       "      <td>NaN</td>\n",
       "      <td>1.431069e+03</td>\n",
       "      <td>5.725299e+02</td>\n",
       "      <td>4.293221e+02</td>\n",
       "    </tr>\n",
       "    <tr>\n",
       "      <th>std</th>\n",
       "      <td>6.648548e+05</td>\n",
       "      <td>9.915268e+05</td>\n",
       "      <td>4.170653e+05</td>\n",
       "      <td>NaN</td>\n",
       "      <td>NaN</td>\n",
       "      <td>NaN</td>\n",
       "      <td>NaN</td>\n",
       "      <td>2.439311e+02</td>\n",
       "      <td>1.896686e+02</td>\n",
       "      <td>7.606463e+01</td>\n",
       "    </tr>\n",
       "    <tr>\n",
       "      <th>min</th>\n",
       "      <td>0.000000e+00</td>\n",
       "      <td>2.213000e+11</td>\n",
       "      <td>5.213000e+11</td>\n",
       "      <td>NaN</td>\n",
       "      <td>NaN</td>\n",
       "      <td>NaN</td>\n",
       "      <td>NaN</td>\n",
       "      <td>2.869633e+02</td>\n",
       "      <td>-3.516244e+02</td>\n",
       "      <td>9.000000e+01</td>\n",
       "    </tr>\n",
       "    <tr>\n",
       "      <th>25%</th>\n",
       "      <td>5.757808e+05</td>\n",
       "      <td>2.213009e+11</td>\n",
       "      <td>5.213003e+11</td>\n",
       "      <td>NaN</td>\n",
       "      <td>NaN</td>\n",
       "      <td>NaN</td>\n",
       "      <td>NaN</td>\n",
       "      <td>1.264830e+03</td>\n",
       "      <td>4.442061e+02</td>\n",
       "      <td>3.770000e+02</td>\n",
       "    </tr>\n",
       "    <tr>\n",
       "      <th>50%</th>\n",
       "      <td>1.151562e+06</td>\n",
       "      <td>2.213018e+11</td>\n",
       "      <td>5.213007e+11</td>\n",
       "      <td>NaN</td>\n",
       "      <td>NaN</td>\n",
       "      <td>NaN</td>\n",
       "      <td>NaN</td>\n",
       "      <td>1.425758e+03</td>\n",
       "      <td>5.720247e+02</td>\n",
       "      <td>4.270000e+02</td>\n",
       "    </tr>\n",
       "    <tr>\n",
       "      <th>75%</th>\n",
       "      <td>1.727342e+06</td>\n",
       "      <td>2.213027e+11</td>\n",
       "      <td>5.213010e+11</td>\n",
       "      <td>NaN</td>\n",
       "      <td>NaN</td>\n",
       "      <td>NaN</td>\n",
       "      <td>NaN</td>\n",
       "      <td>1.591793e+03</td>\n",
       "      <td>7.001292e+02</td>\n",
       "      <td>4.790000e+02</td>\n",
       "    </tr>\n",
       "    <tr>\n",
       "      <th>max</th>\n",
       "      <td>2.303123e+06</td>\n",
       "      <td>2.213033e+11</td>\n",
       "      <td>5.213015e+11</td>\n",
       "      <td>NaN</td>\n",
       "      <td>NaN</td>\n",
       "      <td>NaN</td>\n",
       "      <td>NaN</td>\n",
       "      <td>2.769374e+03</td>\n",
       "      <td>1.617531e+03</td>\n",
       "      <td>8.870000e+02</td>\n",
       "    </tr>\n",
       "  </tbody>\n",
       "</table>\n",
       "</div>"
      ]
     },
     "execution_count": 6,
     "metadata": {},
     "output_type": "execute_result"
    }
   ],
   "execution_count": 6
  },
  {
   "cell_type": "markdown",
   "metadata": {},
   "source": [
    "#### 1) DEMOGRAPHICS DATASET"
   ]
  },
  {
   "cell_type": "code",
   "metadata": {
    "ExecuteTime": {
     "end_time": "2025-03-23T21:03:02.229494Z",
     "start_time": "2025-03-23T21:03:00.765958Z"
    }
   },
   "source": [
    "#load transaction dataset\n",
    "file_path = os.path.join(\"data\",\"ABC_demographic.csv\")\n",
    "df_demographic= pd.read_csv(file_path, low_memory=False)\n",
    "df_demographic.head()"
   ],
   "outputs": [
    {
     "data": {
      "text/plain": [
       "   Unnamed: 0  INDIVIDUAL_ID      INCOME  HAS_CHILDREN  LENGTH_OF_RESIDENCE  \\\n",
       "0           0   2.213028e+11  187500.000           1.0                  8.0   \n",
       "1           1   2.213032e+11   63750.000           0.0                  0.0   \n",
       "2           2   2.213032e+11   41250.000           0.0                 15.0   \n",
       "3           3   2.213032e+11  120558.264           0.0                  0.0   \n",
       "4           4   2.213032e+11  187500.000           0.0                  0.0   \n",
       "\n",
       "  MARITAL_STATUS HOME_MARKET_VALUE  HOME_OWNER  COLLEGE_DEGREE  GOOD_CREDIT  \\\n",
       "0         Single   300000 - 349999           1               1            1   \n",
       "1         Single               NaN           0               0            0   \n",
       "2        Married     75000 - 99999           1               0            1   \n",
       "3            NaN      1000 - 24999           1               0            0   \n",
       "4            NaN               NaN           0               0            1   \n",
       "\n",
       "  ADVANCED_STUDIES  \n",
       "0                Y  \n",
       "1                N  \n",
       "2                N  \n",
       "3                N  \n",
       "4                Y  "
      ],
      "text/html": [
       "<div>\n",
       "<style scoped>\n",
       "    .dataframe tbody tr th:only-of-type {\n",
       "        vertical-align: middle;\n",
       "    }\n",
       "\n",
       "    .dataframe tbody tr th {\n",
       "        vertical-align: top;\n",
       "    }\n",
       "\n",
       "    .dataframe thead th {\n",
       "        text-align: right;\n",
       "    }\n",
       "</style>\n",
       "<table border=\"1\" class=\"dataframe\">\n",
       "  <thead>\n",
       "    <tr style=\"text-align: right;\">\n",
       "      <th></th>\n",
       "      <th>Unnamed: 0</th>\n",
       "      <th>INDIVIDUAL_ID</th>\n",
       "      <th>INCOME</th>\n",
       "      <th>HAS_CHILDREN</th>\n",
       "      <th>LENGTH_OF_RESIDENCE</th>\n",
       "      <th>MARITAL_STATUS</th>\n",
       "      <th>HOME_MARKET_VALUE</th>\n",
       "      <th>HOME_OWNER</th>\n",
       "      <th>COLLEGE_DEGREE</th>\n",
       "      <th>GOOD_CREDIT</th>\n",
       "      <th>ADVANCED_STUDIES</th>\n",
       "    </tr>\n",
       "  </thead>\n",
       "  <tbody>\n",
       "    <tr>\n",
       "      <th>0</th>\n",
       "      <td>0</td>\n",
       "      <td>2.213028e+11</td>\n",
       "      <td>187500.000</td>\n",
       "      <td>1.0</td>\n",
       "      <td>8.0</td>\n",
       "      <td>Single</td>\n",
       "      <td>300000 - 349999</td>\n",
       "      <td>1</td>\n",
       "      <td>1</td>\n",
       "      <td>1</td>\n",
       "      <td>Y</td>\n",
       "    </tr>\n",
       "    <tr>\n",
       "      <th>1</th>\n",
       "      <td>1</td>\n",
       "      <td>2.213032e+11</td>\n",
       "      <td>63750.000</td>\n",
       "      <td>0.0</td>\n",
       "      <td>0.0</td>\n",
       "      <td>Single</td>\n",
       "      <td>NaN</td>\n",
       "      <td>0</td>\n",
       "      <td>0</td>\n",
       "      <td>0</td>\n",
       "      <td>N</td>\n",
       "    </tr>\n",
       "    <tr>\n",
       "      <th>2</th>\n",
       "      <td>2</td>\n",
       "      <td>2.213032e+11</td>\n",
       "      <td>41250.000</td>\n",
       "      <td>0.0</td>\n",
       "      <td>15.0</td>\n",
       "      <td>Married</td>\n",
       "      <td>75000 - 99999</td>\n",
       "      <td>1</td>\n",
       "      <td>0</td>\n",
       "      <td>1</td>\n",
       "      <td>N</td>\n",
       "    </tr>\n",
       "    <tr>\n",
       "      <th>3</th>\n",
       "      <td>3</td>\n",
       "      <td>2.213032e+11</td>\n",
       "      <td>120558.264</td>\n",
       "      <td>0.0</td>\n",
       "      <td>0.0</td>\n",
       "      <td>NaN</td>\n",
       "      <td>1000 - 24999</td>\n",
       "      <td>1</td>\n",
       "      <td>0</td>\n",
       "      <td>0</td>\n",
       "      <td>N</td>\n",
       "    </tr>\n",
       "    <tr>\n",
       "      <th>4</th>\n",
       "      <td>4</td>\n",
       "      <td>2.213032e+11</td>\n",
       "      <td>187500.000</td>\n",
       "      <td>0.0</td>\n",
       "      <td>0.0</td>\n",
       "      <td>NaN</td>\n",
       "      <td>NaN</td>\n",
       "      <td>0</td>\n",
       "      <td>0</td>\n",
       "      <td>1</td>\n",
       "      <td>Y</td>\n",
       "    </tr>\n",
       "  </tbody>\n",
       "</table>\n",
       "</div>"
      ]
     },
     "execution_count": 7,
     "metadata": {},
     "output_type": "execute_result"
    }
   ],
   "execution_count": 7
  },
  {
   "cell_type": "code",
   "metadata": {
    "ExecuteTime": {
     "end_time": "2025-03-23T21:03:02.297706Z",
     "start_time": "2025-03-23T21:03:02.290457Z"
    }
   },
   "source": [
    "df_demographic.tail()\n"
   ],
   "outputs": [
    {
     "data": {
      "text/plain": [
       "         Unnamed: 0  INDIVIDUAL_ID    INCOME  HAS_CHILDREN  \\\n",
       "2112574     2112574   2.213006e+11  131250.0           1.0   \n",
       "2112575     2112575   2.213006e+11   56250.0           1.0   \n",
       "2112576     2112576   2.213006e+11  187500.0           0.0   \n",
       "2112577     2112577   2.213006e+11  187500.0           2.0   \n",
       "2112578     2112578   2.213006e+11   63750.0           1.0   \n",
       "\n",
       "         LENGTH_OF_RESIDENCE MARITAL_STATUS HOME_MARKET_VALUE  HOME_OWNER  \\\n",
       "2112574                 12.0        Married     50000 - 74999           1   \n",
       "2112575                  5.0         Single     50000 - 74999           0   \n",
       "2112576                 13.0        Married   225000 - 249999           1   \n",
       "2112577                 12.0        Married   100000 - 124999           1   \n",
       "2112578                  4.0         Single   100000 - 124999           1   \n",
       "\n",
       "         COLLEGE_DEGREE  GOOD_CREDIT ADVANCED_STUDIES  \n",
       "2112574               0            1                N  \n",
       "2112575               0            1                N  \n",
       "2112576               1            1                N  \n",
       "2112577               0            1                Y  \n",
       "2112578               0            0                N  "
      ],
      "text/html": [
       "<div>\n",
       "<style scoped>\n",
       "    .dataframe tbody tr th:only-of-type {\n",
       "        vertical-align: middle;\n",
       "    }\n",
       "\n",
       "    .dataframe tbody tr th {\n",
       "        vertical-align: top;\n",
       "    }\n",
       "\n",
       "    .dataframe thead th {\n",
       "        text-align: right;\n",
       "    }\n",
       "</style>\n",
       "<table border=\"1\" class=\"dataframe\">\n",
       "  <thead>\n",
       "    <tr style=\"text-align: right;\">\n",
       "      <th></th>\n",
       "      <th>Unnamed: 0</th>\n",
       "      <th>INDIVIDUAL_ID</th>\n",
       "      <th>INCOME</th>\n",
       "      <th>HAS_CHILDREN</th>\n",
       "      <th>LENGTH_OF_RESIDENCE</th>\n",
       "      <th>MARITAL_STATUS</th>\n",
       "      <th>HOME_MARKET_VALUE</th>\n",
       "      <th>HOME_OWNER</th>\n",
       "      <th>COLLEGE_DEGREE</th>\n",
       "      <th>GOOD_CREDIT</th>\n",
       "      <th>ADVANCED_STUDIES</th>\n",
       "    </tr>\n",
       "  </thead>\n",
       "  <tbody>\n",
       "    <tr>\n",
       "      <th>2112574</th>\n",
       "      <td>2112574</td>\n",
       "      <td>2.213006e+11</td>\n",
       "      <td>131250.0</td>\n",
       "      <td>1.0</td>\n",
       "      <td>12.0</td>\n",
       "      <td>Married</td>\n",
       "      <td>50000 - 74999</td>\n",
       "      <td>1</td>\n",
       "      <td>0</td>\n",
       "      <td>1</td>\n",
       "      <td>N</td>\n",
       "    </tr>\n",
       "    <tr>\n",
       "      <th>2112575</th>\n",
       "      <td>2112575</td>\n",
       "      <td>2.213006e+11</td>\n",
       "      <td>56250.0</td>\n",
       "      <td>1.0</td>\n",
       "      <td>5.0</td>\n",
       "      <td>Single</td>\n",
       "      <td>50000 - 74999</td>\n",
       "      <td>0</td>\n",
       "      <td>0</td>\n",
       "      <td>1</td>\n",
       "      <td>N</td>\n",
       "    </tr>\n",
       "    <tr>\n",
       "      <th>2112576</th>\n",
       "      <td>2112576</td>\n",
       "      <td>2.213006e+11</td>\n",
       "      <td>187500.0</td>\n",
       "      <td>0.0</td>\n",
       "      <td>13.0</td>\n",
       "      <td>Married</td>\n",
       "      <td>225000 - 249999</td>\n",
       "      <td>1</td>\n",
       "      <td>1</td>\n",
       "      <td>1</td>\n",
       "      <td>N</td>\n",
       "    </tr>\n",
       "    <tr>\n",
       "      <th>2112577</th>\n",
       "      <td>2112577</td>\n",
       "      <td>2.213006e+11</td>\n",
       "      <td>187500.0</td>\n",
       "      <td>2.0</td>\n",
       "      <td>12.0</td>\n",
       "      <td>Married</td>\n",
       "      <td>100000 - 124999</td>\n",
       "      <td>1</td>\n",
       "      <td>0</td>\n",
       "      <td>1</td>\n",
       "      <td>Y</td>\n",
       "    </tr>\n",
       "    <tr>\n",
       "      <th>2112578</th>\n",
       "      <td>2112578</td>\n",
       "      <td>2.213006e+11</td>\n",
       "      <td>63750.0</td>\n",
       "      <td>1.0</td>\n",
       "      <td>4.0</td>\n",
       "      <td>Single</td>\n",
       "      <td>100000 - 124999</td>\n",
       "      <td>1</td>\n",
       "      <td>0</td>\n",
       "      <td>0</td>\n",
       "      <td>N</td>\n",
       "    </tr>\n",
       "  </tbody>\n",
       "</table>\n",
       "</div>"
      ]
     },
     "execution_count": 8,
     "metadata": {},
     "output_type": "execute_result"
    }
   ],
   "execution_count": 8
  },
  {
   "cell_type": "code",
   "metadata": {
    "ExecuteTime": {
     "end_time": "2025-03-23T21:03:02.677987Z",
     "start_time": "2025-03-23T21:03:02.674965Z"
    }
   },
   "source": "df_demographic.shape",
   "outputs": [
    {
     "data": {
      "text/plain": [
       "(2112579, 11)"
      ]
     },
     "execution_count": 9,
     "metadata": {},
     "output_type": "execute_result"
    }
   ],
   "execution_count": 9
  },
  {
   "cell_type": "code",
   "metadata": {
    "ExecuteTime": {
     "end_time": "2025-03-23T21:03:03.073612Z",
     "start_time": "2025-03-23T21:03:03.069154Z"
    }
   },
   "source": "df_demographic.info()",
   "outputs": [
    {
     "name": "stdout",
     "output_type": "stream",
     "text": [
      "<class 'pandas.core.frame.DataFrame'>\n",
      "RangeIndex: 2112579 entries, 0 to 2112578\n",
      "Data columns (total 11 columns):\n",
      " #   Column               Dtype  \n",
      "---  ------               -----  \n",
      " 0   Unnamed: 0           int64  \n",
      " 1   INDIVIDUAL_ID        float64\n",
      " 2   INCOME               float64\n",
      " 3   HAS_CHILDREN         float64\n",
      " 4   LENGTH_OF_RESIDENCE  float64\n",
      " 5   MARITAL_STATUS       object \n",
      " 6   HOME_MARKET_VALUE    object \n",
      " 7   HOME_OWNER           int64  \n",
      " 8   COLLEGE_DEGREE       int64  \n",
      " 9   GOOD_CREDIT          int64  \n",
      " 10  ADVANCED_STUDIES     object \n",
      "dtypes: float64(4), int64(4), object(3)\n",
      "memory usage: 177.3+ MB\n"
     ]
    }
   ],
   "execution_count": 10
  },
  {
   "cell_type": "code",
   "metadata": {
    "ExecuteTime": {
     "end_time": "2025-03-23T21:03:04.077572Z",
     "start_time": "2025-03-23T21:03:03.433429Z"
    }
   },
   "source": "df_demographic.describe(include='all')",
   "outputs": [
    {
     "data": {
      "text/plain": [
       "          Unnamed: 0  INDIVIDUAL_ID        INCOME  HAS_CHILDREN  \\\n",
       "count   2.112579e+06   2.112579e+06  2.112579e+06  2.112579e+06   \n",
       "unique           NaN            NaN           NaN           NaN   \n",
       "top              NaN            NaN           NaN           NaN   \n",
       "freq             NaN            NaN           NaN           NaN   \n",
       "mean    1.056289e+06   2.213018e+11  1.205583e+05  4.684885e-01   \n",
       "std     6.098492e+05   9.916207e+05  7.504165e+04  5.853729e-01   \n",
       "min     0.000000e+00   2.213000e+11  7.500000e+03  0.000000e+00   \n",
       "25%     5.281445e+05   2.213009e+11  7.125000e+04  0.000000e+00   \n",
       "50%     1.056289e+06   2.213018e+11  1.205583e+05  0.000000e+00   \n",
       "75%     1.584434e+06   2.213027e+11  1.312500e+05  1.000000e+00   \n",
       "max     2.112578e+06   2.213033e+11  3.750000e+05  6.000000e+00   \n",
       "\n",
       "        LENGTH_OF_RESIDENCE MARITAL_STATUS HOME_MARKET_VALUE    HOME_OWNER  \\\n",
       "count          2.112579e+06        1680931           1922374  2.112579e+06   \n",
       "unique                  NaN              2                19           NaN   \n",
       "top                     NaN        Married     75000 - 99999           NaN   \n",
       "freq                    NaN        1048472            365838           NaN   \n",
       "mean           6.800571e+00            NaN               NaN  6.983649e-01   \n",
       "std            5.090825e+00            NaN               NaN  4.589678e-01   \n",
       "min            0.000000e+00            NaN               NaN  0.000000e+00   \n",
       "25%            2.000000e+00            NaN               NaN  0.000000e+00   \n",
       "50%            6.801000e+00            NaN               NaN  1.000000e+00   \n",
       "75%            1.100000e+01            NaN               NaN  1.000000e+00   \n",
       "max            1.500000e+01            NaN               NaN  1.000000e+00   \n",
       "\n",
       "        COLLEGE_DEGREE   GOOD_CREDIT ADVANCED_STUDIES  \n",
       "count     2.112579e+06  2.112579e+06          2112579  \n",
       "unique             NaN           NaN                2  \n",
       "top                NaN           NaN                N  \n",
       "freq               NaN           NaN          1563128  \n",
       "mean      3.016152e-01  8.195779e-01              NaN  \n",
       "std       4.589592e-01  3.845388e-01              NaN  \n",
       "min       0.000000e+00  0.000000e+00              NaN  \n",
       "25%       0.000000e+00  1.000000e+00              NaN  \n",
       "50%       0.000000e+00  1.000000e+00              NaN  \n",
       "75%       1.000000e+00  1.000000e+00              NaN  \n",
       "max       1.000000e+00  1.000000e+00              NaN  "
      ],
      "text/html": [
       "<div>\n",
       "<style scoped>\n",
       "    .dataframe tbody tr th:only-of-type {\n",
       "        vertical-align: middle;\n",
       "    }\n",
       "\n",
       "    .dataframe tbody tr th {\n",
       "        vertical-align: top;\n",
       "    }\n",
       "\n",
       "    .dataframe thead th {\n",
       "        text-align: right;\n",
       "    }\n",
       "</style>\n",
       "<table border=\"1\" class=\"dataframe\">\n",
       "  <thead>\n",
       "    <tr style=\"text-align: right;\">\n",
       "      <th></th>\n",
       "      <th>Unnamed: 0</th>\n",
       "      <th>INDIVIDUAL_ID</th>\n",
       "      <th>INCOME</th>\n",
       "      <th>HAS_CHILDREN</th>\n",
       "      <th>LENGTH_OF_RESIDENCE</th>\n",
       "      <th>MARITAL_STATUS</th>\n",
       "      <th>HOME_MARKET_VALUE</th>\n",
       "      <th>HOME_OWNER</th>\n",
       "      <th>COLLEGE_DEGREE</th>\n",
       "      <th>GOOD_CREDIT</th>\n",
       "      <th>ADVANCED_STUDIES</th>\n",
       "    </tr>\n",
       "  </thead>\n",
       "  <tbody>\n",
       "    <tr>\n",
       "      <th>count</th>\n",
       "      <td>2.112579e+06</td>\n",
       "      <td>2.112579e+06</td>\n",
       "      <td>2.112579e+06</td>\n",
       "      <td>2.112579e+06</td>\n",
       "      <td>2.112579e+06</td>\n",
       "      <td>1680931</td>\n",
       "      <td>1922374</td>\n",
       "      <td>2.112579e+06</td>\n",
       "      <td>2.112579e+06</td>\n",
       "      <td>2.112579e+06</td>\n",
       "      <td>2112579</td>\n",
       "    </tr>\n",
       "    <tr>\n",
       "      <th>unique</th>\n",
       "      <td>NaN</td>\n",
       "      <td>NaN</td>\n",
       "      <td>NaN</td>\n",
       "      <td>NaN</td>\n",
       "      <td>NaN</td>\n",
       "      <td>2</td>\n",
       "      <td>19</td>\n",
       "      <td>NaN</td>\n",
       "      <td>NaN</td>\n",
       "      <td>NaN</td>\n",
       "      <td>2</td>\n",
       "    </tr>\n",
       "    <tr>\n",
       "      <th>top</th>\n",
       "      <td>NaN</td>\n",
       "      <td>NaN</td>\n",
       "      <td>NaN</td>\n",
       "      <td>NaN</td>\n",
       "      <td>NaN</td>\n",
       "      <td>Married</td>\n",
       "      <td>75000 - 99999</td>\n",
       "      <td>NaN</td>\n",
       "      <td>NaN</td>\n",
       "      <td>NaN</td>\n",
       "      <td>N</td>\n",
       "    </tr>\n",
       "    <tr>\n",
       "      <th>freq</th>\n",
       "      <td>NaN</td>\n",
       "      <td>NaN</td>\n",
       "      <td>NaN</td>\n",
       "      <td>NaN</td>\n",
       "      <td>NaN</td>\n",
       "      <td>1048472</td>\n",
       "      <td>365838</td>\n",
       "      <td>NaN</td>\n",
       "      <td>NaN</td>\n",
       "      <td>NaN</td>\n",
       "      <td>1563128</td>\n",
       "    </tr>\n",
       "    <tr>\n",
       "      <th>mean</th>\n",
       "      <td>1.056289e+06</td>\n",
       "      <td>2.213018e+11</td>\n",
       "      <td>1.205583e+05</td>\n",
       "      <td>4.684885e-01</td>\n",
       "      <td>6.800571e+00</td>\n",
       "      <td>NaN</td>\n",
       "      <td>NaN</td>\n",
       "      <td>6.983649e-01</td>\n",
       "      <td>3.016152e-01</td>\n",
       "      <td>8.195779e-01</td>\n",
       "      <td>NaN</td>\n",
       "    </tr>\n",
       "    <tr>\n",
       "      <th>std</th>\n",
       "      <td>6.098492e+05</td>\n",
       "      <td>9.916207e+05</td>\n",
       "      <td>7.504165e+04</td>\n",
       "      <td>5.853729e-01</td>\n",
       "      <td>5.090825e+00</td>\n",
       "      <td>NaN</td>\n",
       "      <td>NaN</td>\n",
       "      <td>4.589678e-01</td>\n",
       "      <td>4.589592e-01</td>\n",
       "      <td>3.845388e-01</td>\n",
       "      <td>NaN</td>\n",
       "    </tr>\n",
       "    <tr>\n",
       "      <th>min</th>\n",
       "      <td>0.000000e+00</td>\n",
       "      <td>2.213000e+11</td>\n",
       "      <td>7.500000e+03</td>\n",
       "      <td>0.000000e+00</td>\n",
       "      <td>0.000000e+00</td>\n",
       "      <td>NaN</td>\n",
       "      <td>NaN</td>\n",
       "      <td>0.000000e+00</td>\n",
       "      <td>0.000000e+00</td>\n",
       "      <td>0.000000e+00</td>\n",
       "      <td>NaN</td>\n",
       "    </tr>\n",
       "    <tr>\n",
       "      <th>25%</th>\n",
       "      <td>5.281445e+05</td>\n",
       "      <td>2.213009e+11</td>\n",
       "      <td>7.125000e+04</td>\n",
       "      <td>0.000000e+00</td>\n",
       "      <td>2.000000e+00</td>\n",
       "      <td>NaN</td>\n",
       "      <td>NaN</td>\n",
       "      <td>0.000000e+00</td>\n",
       "      <td>0.000000e+00</td>\n",
       "      <td>1.000000e+00</td>\n",
       "      <td>NaN</td>\n",
       "    </tr>\n",
       "    <tr>\n",
       "      <th>50%</th>\n",
       "      <td>1.056289e+06</td>\n",
       "      <td>2.213018e+11</td>\n",
       "      <td>1.205583e+05</td>\n",
       "      <td>0.000000e+00</td>\n",
       "      <td>6.801000e+00</td>\n",
       "      <td>NaN</td>\n",
       "      <td>NaN</td>\n",
       "      <td>1.000000e+00</td>\n",
       "      <td>0.000000e+00</td>\n",
       "      <td>1.000000e+00</td>\n",
       "      <td>NaN</td>\n",
       "    </tr>\n",
       "    <tr>\n",
       "      <th>75%</th>\n",
       "      <td>1.584434e+06</td>\n",
       "      <td>2.213027e+11</td>\n",
       "      <td>1.312500e+05</td>\n",
       "      <td>1.000000e+00</td>\n",
       "      <td>1.100000e+01</td>\n",
       "      <td>NaN</td>\n",
       "      <td>NaN</td>\n",
       "      <td>1.000000e+00</td>\n",
       "      <td>1.000000e+00</td>\n",
       "      <td>1.000000e+00</td>\n",
       "      <td>NaN</td>\n",
       "    </tr>\n",
       "    <tr>\n",
       "      <th>max</th>\n",
       "      <td>2.112578e+06</td>\n",
       "      <td>2.213033e+11</td>\n",
       "      <td>3.750000e+05</td>\n",
       "      <td>6.000000e+00</td>\n",
       "      <td>1.500000e+01</td>\n",
       "      <td>NaN</td>\n",
       "      <td>NaN</td>\n",
       "      <td>1.000000e+00</td>\n",
       "      <td>1.000000e+00</td>\n",
       "      <td>1.000000e+00</td>\n",
       "      <td>NaN</td>\n",
       "    </tr>\n",
       "  </tbody>\n",
       "</table>\n",
       "</div>"
      ]
     },
     "execution_count": 11,
     "metadata": {},
     "output_type": "execute_result"
    }
   ],
   "execution_count": 11
  },
  {
   "cell_type": "markdown",
   "metadata": {},
   "source": [
    "#### 1) TERMINATION DATASET"
   ]
  },
  {
   "cell_type": "code",
   "metadata": {
    "ExecuteTime": {
     "end_time": "2025-03-23T21:03:04.182369Z",
     "start_time": "2025-03-23T21:03:04.114225Z"
    }
   },
   "source": [
    "#load the transaction dataset\n",
    "file_path = os.path.join(\"data\",\"ABC_termination.csv\")\n",
    "df_termination= pd.read_csv(file_path, low_memory=False)\n",
    "df_termination.head()"
   ],
   "outputs": [
    {
     "data": {
      "text/plain": [
       "   Unnamed: 0  INDIVIDUAL_ID  SUSPD_DATE\n",
       "0           0   2.213026e+11  2022-10-09\n",
       "1           1   2.213028e+11  2022-04-24\n",
       "2           2   2.213027e+11  2022-05-21\n",
       "3           3   2.213002e+11  2022-04-27\n",
       "4           4   2.213026e+11  2022-09-16"
      ],
      "text/html": [
       "<div>\n",
       "<style scoped>\n",
       "    .dataframe tbody tr th:only-of-type {\n",
       "        vertical-align: middle;\n",
       "    }\n",
       "\n",
       "    .dataframe tbody tr th {\n",
       "        vertical-align: top;\n",
       "    }\n",
       "\n",
       "    .dataframe thead th {\n",
       "        text-align: right;\n",
       "    }\n",
       "</style>\n",
       "<table border=\"1\" class=\"dataframe\">\n",
       "  <thead>\n",
       "    <tr style=\"text-align: right;\">\n",
       "      <th></th>\n",
       "      <th>Unnamed: 0</th>\n",
       "      <th>INDIVIDUAL_ID</th>\n",
       "      <th>SUSPD_DATE</th>\n",
       "    </tr>\n",
       "  </thead>\n",
       "  <tbody>\n",
       "    <tr>\n",
       "      <th>0</th>\n",
       "      <td>0</td>\n",
       "      <td>2.213026e+11</td>\n",
       "      <td>2022-10-09</td>\n",
       "    </tr>\n",
       "    <tr>\n",
       "      <th>1</th>\n",
       "      <td>1</td>\n",
       "      <td>2.213028e+11</td>\n",
       "      <td>2022-04-24</td>\n",
       "    </tr>\n",
       "    <tr>\n",
       "      <th>2</th>\n",
       "      <td>2</td>\n",
       "      <td>2.213027e+11</td>\n",
       "      <td>2022-05-21</td>\n",
       "    </tr>\n",
       "    <tr>\n",
       "      <th>3</th>\n",
       "      <td>3</td>\n",
       "      <td>2.213002e+11</td>\n",
       "      <td>2022-04-27</td>\n",
       "    </tr>\n",
       "    <tr>\n",
       "      <th>4</th>\n",
       "      <td>4</td>\n",
       "      <td>2.213026e+11</td>\n",
       "      <td>2022-09-16</td>\n",
       "    </tr>\n",
       "  </tbody>\n",
       "</table>\n",
       "</div>"
      ]
     },
     "execution_count": 12,
     "metadata": {},
     "output_type": "execute_result"
    }
   ],
   "execution_count": 12
  },
  {
   "cell_type": "code",
   "metadata": {
    "ExecuteTime": {
     "end_time": "2025-03-23T21:03:04.273031Z",
     "start_time": "2025-03-23T21:03:04.268314Z"
    }
   },
   "source": [
    "df_termination.tail()"
   ],
   "outputs": [
    {
     "data": {
      "text/plain": [
       "        Unnamed: 0  INDIVIDUAL_ID  SUSPD_DATE\n",
       "269254      269254   2.213022e+11  2022-01-09\n",
       "269255      269255   2.213007e+11  2022-02-27\n",
       "269256      269256   2.213030e+11  2022-03-21\n",
       "269257      269257   2.213025e+11  2022-02-26\n",
       "269258      269258   2.213024e+11  2022-09-23"
      ],
      "text/html": [
       "<div>\n",
       "<style scoped>\n",
       "    .dataframe tbody tr th:only-of-type {\n",
       "        vertical-align: middle;\n",
       "    }\n",
       "\n",
       "    .dataframe tbody tr th {\n",
       "        vertical-align: top;\n",
       "    }\n",
       "\n",
       "    .dataframe thead th {\n",
       "        text-align: right;\n",
       "    }\n",
       "</style>\n",
       "<table border=\"1\" class=\"dataframe\">\n",
       "  <thead>\n",
       "    <tr style=\"text-align: right;\">\n",
       "      <th></th>\n",
       "      <th>Unnamed: 0</th>\n",
       "      <th>INDIVIDUAL_ID</th>\n",
       "      <th>SUSPD_DATE</th>\n",
       "    </tr>\n",
       "  </thead>\n",
       "  <tbody>\n",
       "    <tr>\n",
       "      <th>269254</th>\n",
       "      <td>269254</td>\n",
       "      <td>2.213022e+11</td>\n",
       "      <td>2022-01-09</td>\n",
       "    </tr>\n",
       "    <tr>\n",
       "      <th>269255</th>\n",
       "      <td>269255</td>\n",
       "      <td>2.213007e+11</td>\n",
       "      <td>2022-02-27</td>\n",
       "    </tr>\n",
       "    <tr>\n",
       "      <th>269256</th>\n",
       "      <td>269256</td>\n",
       "      <td>2.213030e+11</td>\n",
       "      <td>2022-03-21</td>\n",
       "    </tr>\n",
       "    <tr>\n",
       "      <th>269257</th>\n",
       "      <td>269257</td>\n",
       "      <td>2.213025e+11</td>\n",
       "      <td>2022-02-26</td>\n",
       "    </tr>\n",
       "    <tr>\n",
       "      <th>269258</th>\n",
       "      <td>269258</td>\n",
       "      <td>2.213024e+11</td>\n",
       "      <td>2022-09-23</td>\n",
       "    </tr>\n",
       "  </tbody>\n",
       "</table>\n",
       "</div>"
      ]
     },
     "execution_count": 13,
     "metadata": {},
     "output_type": "execute_result"
    }
   ],
   "execution_count": 13
  },
  {
   "cell_type": "code",
   "metadata": {
    "ExecuteTime": {
     "end_time": "2025-03-23T21:03:04.482941Z",
     "start_time": "2025-03-23T21:03:04.480181Z"
    }
   },
   "source": [
    "df_termination.shape"
   ],
   "outputs": [
    {
     "data": {
      "text/plain": [
       "(269259, 3)"
      ]
     },
     "execution_count": 14,
     "metadata": {},
     "output_type": "execute_result"
    }
   ],
   "execution_count": 14
  },
  {
   "cell_type": "code",
   "metadata": {
    "ExecuteTime": {
     "end_time": "2025-03-23T21:03:04.787417Z",
     "start_time": "2025-03-23T21:03:04.762307Z"
    }
   },
   "source": [
    "df_termination.info()"
   ],
   "outputs": [
    {
     "name": "stdout",
     "output_type": "stream",
     "text": [
      "<class 'pandas.core.frame.DataFrame'>\n",
      "RangeIndex: 269259 entries, 0 to 269258\n",
      "Data columns (total 3 columns):\n",
      " #   Column         Non-Null Count   Dtype  \n",
      "---  ------         --------------   -----  \n",
      " 0   Unnamed: 0     269259 non-null  int64  \n",
      " 1   INDIVIDUAL_ID  269259 non-null  float64\n",
      " 2   SUSPD_DATE     266566 non-null  object \n",
      "dtypes: float64(1), int64(1), object(1)\n",
      "memory usage: 6.2+ MB\n"
     ]
    }
   ],
   "execution_count": 15
  },
  {
   "cell_type": "code",
   "metadata": {
    "ExecuteTime": {
     "end_time": "2025-03-23T21:03:05.050218Z",
     "start_time": "2025-03-23T21:03:05.017080Z"
    }
   },
   "source": [
    "df_termination.describe(include='all')"
   ],
   "outputs": [
    {
     "data": {
      "text/plain": [
       "           Unnamed: 0  INDIVIDUAL_ID  SUSPD_DATE\n",
       "count   269259.000000   2.692590e+05      266566\n",
       "unique            NaN            NaN        2086\n",
       "top               NaN            NaN  2022-03-17\n",
       "freq              NaN            NaN         938\n",
       "mean    134629.000000   2.213018e+11         NaN\n",
       "std      77728.522403   9.890987e+05         NaN\n",
       "min          0.000000   2.213000e+11         NaN\n",
       "25%      67314.500000   2.213009e+11         NaN\n",
       "50%     134629.000000   2.213018e+11         NaN\n",
       "75%     201943.500000   2.213027e+11         NaN\n",
       "max     269258.000000   2.213033e+11         NaN"
      ],
      "text/html": [
       "<div>\n",
       "<style scoped>\n",
       "    .dataframe tbody tr th:only-of-type {\n",
       "        vertical-align: middle;\n",
       "    }\n",
       "\n",
       "    .dataframe tbody tr th {\n",
       "        vertical-align: top;\n",
       "    }\n",
       "\n",
       "    .dataframe thead th {\n",
       "        text-align: right;\n",
       "    }\n",
       "</style>\n",
       "<table border=\"1\" class=\"dataframe\">\n",
       "  <thead>\n",
       "    <tr style=\"text-align: right;\">\n",
       "      <th></th>\n",
       "      <th>Unnamed: 0</th>\n",
       "      <th>INDIVIDUAL_ID</th>\n",
       "      <th>SUSPD_DATE</th>\n",
       "    </tr>\n",
       "  </thead>\n",
       "  <tbody>\n",
       "    <tr>\n",
       "      <th>count</th>\n",
       "      <td>269259.000000</td>\n",
       "      <td>2.692590e+05</td>\n",
       "      <td>266566</td>\n",
       "    </tr>\n",
       "    <tr>\n",
       "      <th>unique</th>\n",
       "      <td>NaN</td>\n",
       "      <td>NaN</td>\n",
       "      <td>2086</td>\n",
       "    </tr>\n",
       "    <tr>\n",
       "      <th>top</th>\n",
       "      <td>NaN</td>\n",
       "      <td>NaN</td>\n",
       "      <td>2022-03-17</td>\n",
       "    </tr>\n",
       "    <tr>\n",
       "      <th>freq</th>\n",
       "      <td>NaN</td>\n",
       "      <td>NaN</td>\n",
       "      <td>938</td>\n",
       "    </tr>\n",
       "    <tr>\n",
       "      <th>mean</th>\n",
       "      <td>134629.000000</td>\n",
       "      <td>2.213018e+11</td>\n",
       "      <td>NaN</td>\n",
       "    </tr>\n",
       "    <tr>\n",
       "      <th>std</th>\n",
       "      <td>77728.522403</td>\n",
       "      <td>9.890987e+05</td>\n",
       "      <td>NaN</td>\n",
       "    </tr>\n",
       "    <tr>\n",
       "      <th>min</th>\n",
       "      <td>0.000000</td>\n",
       "      <td>2.213000e+11</td>\n",
       "      <td>NaN</td>\n",
       "    </tr>\n",
       "    <tr>\n",
       "      <th>25%</th>\n",
       "      <td>67314.500000</td>\n",
       "      <td>2.213009e+11</td>\n",
       "      <td>NaN</td>\n",
       "    </tr>\n",
       "    <tr>\n",
       "      <th>50%</th>\n",
       "      <td>134629.000000</td>\n",
       "      <td>2.213018e+11</td>\n",
       "      <td>NaN</td>\n",
       "    </tr>\n",
       "    <tr>\n",
       "      <th>75%</th>\n",
       "      <td>201943.500000</td>\n",
       "      <td>2.213027e+11</td>\n",
       "      <td>NaN</td>\n",
       "    </tr>\n",
       "    <tr>\n",
       "      <th>max</th>\n",
       "      <td>269258.000000</td>\n",
       "      <td>2.213033e+11</td>\n",
       "      <td>NaN</td>\n",
       "    </tr>\n",
       "  </tbody>\n",
       "</table>\n",
       "</div>"
      ]
     },
     "execution_count": 16,
     "metadata": {},
     "output_type": "execute_result"
    }
   ],
   "execution_count": 16
  },
  {
   "cell_type": "markdown",
   "metadata": {},
   "source": [
    "#### Dataset Preparation for Merging\n",
    "\n",
    "Before we can merge our datasets for comprehensive analysis and modeling, we need to ensure that the datasets are properly formatted and that any unnecessary columns are removed.\n",
    "\n",
    "Removing Unnecessary Columns:\n",
    "\n",
    "In the loading process, an extra column named 'Unnamed: 0' was generated, which is not necessary for our analysis. This could be an artifact from an index column in the CSV file that doesn't provide any meaningful information. We'll proceed to remove this column from all datasets to clean up our data.\n",
    "\n",
    "Converting ID Columns to Integer Type:\n",
    "\n",
    "The ID columns, which will be used as keys for merging, must be of a uniform type across all datasets. Currently, these ID columns are not in integer format, which could lead to issues during the merge. We will convert these ID columns (INDIVIDUAL_ID, ADDRESS_ID) to integers for several reasons:\n",
    "- **Semantic Correctness**: Integer representation aligns with the discrete and non-fractional nature of identifiers, ensuring clarity and data integrity.\n",
    "- **Enhanced Compatibility**: Integer IDs ensure better interoperability with databases and external applications, reducing integration issues."
   ]
  },
  {
   "metadata": {
    "ExecuteTime": {
     "end_time": "2025-03-23T21:03:05.167948Z",
     "start_time": "2025-03-23T21:03:05.159364Z"
    }
   },
   "cell_type": "code",
   "source": "df_customer",
   "outputs": [
    {
     "data": {
      "text/plain": [
       "         Unnamed: 0  INDIVIDUAL_ID    ADDRESS_ID CUST_ORIG_DATE DATE_OF_BIRTH  \\\n",
       "0                 0   2.213000e+11  5.213000e+11     2018-12-09    1978-06-23   \n",
       "1                 1   2.213001e+11  5.213001e+11     2018-01-02    1950-05-30   \n",
       "2                 2   2.213007e+11  5.213002e+11     2009-09-23    1967-07-07   \n",
       "3                 3   2.213016e+11  5.213006e+11     2022-07-25    1969-05-25   \n",
       "4                 4   2.213016e+11  5.213006e+11     2006-10-11    1972-09-25   \n",
       "...             ...            ...           ...            ...           ...   \n",
       "2303119     2303119   2.213003e+11  5.213001e+11     2014-02-15    1967-07-07   \n",
       "2303120     2303120   2.213031e+11  5.213013e+11     2022-02-16    1965-05-26   \n",
       "2303121     2303121   2.213013e+11  5.213005e+11     2019-08-16    1967-07-07   \n",
       "2303122     2303122   2.213021e+11  5.213008e+11     2005-09-11    1948-10-31   \n",
       "2303123     2303123   2.213025e+11  5.213009e+11     2008-09-10    1981-04-22   \n",
       "\n",
       "        SOCIAL_SECURITY_NUMBER CUST_START_DATE  CURR_ANN_AMT_CAR  \\\n",
       "0                  608-XX-7640      2018-12-09       1318.877997   \n",
       "1                  342-XX-6908      2018-01-02       1474.199182   \n",
       "2                  240-XX-9224      2009-09-23       1467.375112   \n",
       "3                  775-XX-6249      2022-07-25       1492.409561   \n",
       "4                  629-XX-7298      2006-10-11       1284.633494   \n",
       "...                        ...             ...               ...   \n",
       "2303119            882-XX-4608             NaN       1361.290041   \n",
       "2303120            709-XX-1726             NaN       1563.921158   \n",
       "2303121            317-XX-1336             NaN       1128.048444   \n",
       "2303122            110-XX-9215             NaN       1380.204016   \n",
       "2303123            102-XX-6555             NaN       1348.650555   \n",
       "\n",
       "         CURR_ANN_AMT_HEALTH  CURR_ANN_AMT_HOUSE  \n",
       "0                 517.999317                 411  \n",
       "1                 558.417779                 414  \n",
       "2                 701.649310                 442  \n",
       "3                 401.517490                 463  \n",
       "4                 772.857222                 366  \n",
       "...                      ...                 ...  \n",
       "2303119           623.368014                 426  \n",
       "2303120           997.482828                 507  \n",
       "2303121           393.819352                 300  \n",
       "2303122           556.785305                 424  \n",
       "2303123           294.226518                 408  \n",
       "\n",
       "[2303124 rows x 10 columns]"
      ],
      "text/html": [
       "<div>\n",
       "<style scoped>\n",
       "    .dataframe tbody tr th:only-of-type {\n",
       "        vertical-align: middle;\n",
       "    }\n",
       "\n",
       "    .dataframe tbody tr th {\n",
       "        vertical-align: top;\n",
       "    }\n",
       "\n",
       "    .dataframe thead th {\n",
       "        text-align: right;\n",
       "    }\n",
       "</style>\n",
       "<table border=\"1\" class=\"dataframe\">\n",
       "  <thead>\n",
       "    <tr style=\"text-align: right;\">\n",
       "      <th></th>\n",
       "      <th>Unnamed: 0</th>\n",
       "      <th>INDIVIDUAL_ID</th>\n",
       "      <th>ADDRESS_ID</th>\n",
       "      <th>CUST_ORIG_DATE</th>\n",
       "      <th>DATE_OF_BIRTH</th>\n",
       "      <th>SOCIAL_SECURITY_NUMBER</th>\n",
       "      <th>CUST_START_DATE</th>\n",
       "      <th>CURR_ANN_AMT_CAR</th>\n",
       "      <th>CURR_ANN_AMT_HEALTH</th>\n",
       "      <th>CURR_ANN_AMT_HOUSE</th>\n",
       "    </tr>\n",
       "  </thead>\n",
       "  <tbody>\n",
       "    <tr>\n",
       "      <th>0</th>\n",
       "      <td>0</td>\n",
       "      <td>2.213000e+11</td>\n",
       "      <td>5.213000e+11</td>\n",
       "      <td>2018-12-09</td>\n",
       "      <td>1978-06-23</td>\n",
       "      <td>608-XX-7640</td>\n",
       "      <td>2018-12-09</td>\n",
       "      <td>1318.877997</td>\n",
       "      <td>517.999317</td>\n",
       "      <td>411</td>\n",
       "    </tr>\n",
       "    <tr>\n",
       "      <th>1</th>\n",
       "      <td>1</td>\n",
       "      <td>2.213001e+11</td>\n",
       "      <td>5.213001e+11</td>\n",
       "      <td>2018-01-02</td>\n",
       "      <td>1950-05-30</td>\n",
       "      <td>342-XX-6908</td>\n",
       "      <td>2018-01-02</td>\n",
       "      <td>1474.199182</td>\n",
       "      <td>558.417779</td>\n",
       "      <td>414</td>\n",
       "    </tr>\n",
       "    <tr>\n",
       "      <th>2</th>\n",
       "      <td>2</td>\n",
       "      <td>2.213007e+11</td>\n",
       "      <td>5.213002e+11</td>\n",
       "      <td>2009-09-23</td>\n",
       "      <td>1967-07-07</td>\n",
       "      <td>240-XX-9224</td>\n",
       "      <td>2009-09-23</td>\n",
       "      <td>1467.375112</td>\n",
       "      <td>701.649310</td>\n",
       "      <td>442</td>\n",
       "    </tr>\n",
       "    <tr>\n",
       "      <th>3</th>\n",
       "      <td>3</td>\n",
       "      <td>2.213016e+11</td>\n",
       "      <td>5.213006e+11</td>\n",
       "      <td>2022-07-25</td>\n",
       "      <td>1969-05-25</td>\n",
       "      <td>775-XX-6249</td>\n",
       "      <td>2022-07-25</td>\n",
       "      <td>1492.409561</td>\n",
       "      <td>401.517490</td>\n",
       "      <td>463</td>\n",
       "    </tr>\n",
       "    <tr>\n",
       "      <th>4</th>\n",
       "      <td>4</td>\n",
       "      <td>2.213016e+11</td>\n",
       "      <td>5.213006e+11</td>\n",
       "      <td>2006-10-11</td>\n",
       "      <td>1972-09-25</td>\n",
       "      <td>629-XX-7298</td>\n",
       "      <td>2006-10-11</td>\n",
       "      <td>1284.633494</td>\n",
       "      <td>772.857222</td>\n",
       "      <td>366</td>\n",
       "    </tr>\n",
       "    <tr>\n",
       "      <th>...</th>\n",
       "      <td>...</td>\n",
       "      <td>...</td>\n",
       "      <td>...</td>\n",
       "      <td>...</td>\n",
       "      <td>...</td>\n",
       "      <td>...</td>\n",
       "      <td>...</td>\n",
       "      <td>...</td>\n",
       "      <td>...</td>\n",
       "      <td>...</td>\n",
       "    </tr>\n",
       "    <tr>\n",
       "      <th>2303119</th>\n",
       "      <td>2303119</td>\n",
       "      <td>2.213003e+11</td>\n",
       "      <td>5.213001e+11</td>\n",
       "      <td>2014-02-15</td>\n",
       "      <td>1967-07-07</td>\n",
       "      <td>882-XX-4608</td>\n",
       "      <td>NaN</td>\n",
       "      <td>1361.290041</td>\n",
       "      <td>623.368014</td>\n",
       "      <td>426</td>\n",
       "    </tr>\n",
       "    <tr>\n",
       "      <th>2303120</th>\n",
       "      <td>2303120</td>\n",
       "      <td>2.213031e+11</td>\n",
       "      <td>5.213013e+11</td>\n",
       "      <td>2022-02-16</td>\n",
       "      <td>1965-05-26</td>\n",
       "      <td>709-XX-1726</td>\n",
       "      <td>NaN</td>\n",
       "      <td>1563.921158</td>\n",
       "      <td>997.482828</td>\n",
       "      <td>507</td>\n",
       "    </tr>\n",
       "    <tr>\n",
       "      <th>2303121</th>\n",
       "      <td>2303121</td>\n",
       "      <td>2.213013e+11</td>\n",
       "      <td>5.213005e+11</td>\n",
       "      <td>2019-08-16</td>\n",
       "      <td>1967-07-07</td>\n",
       "      <td>317-XX-1336</td>\n",
       "      <td>NaN</td>\n",
       "      <td>1128.048444</td>\n",
       "      <td>393.819352</td>\n",
       "      <td>300</td>\n",
       "    </tr>\n",
       "    <tr>\n",
       "      <th>2303122</th>\n",
       "      <td>2303122</td>\n",
       "      <td>2.213021e+11</td>\n",
       "      <td>5.213008e+11</td>\n",
       "      <td>2005-09-11</td>\n",
       "      <td>1948-10-31</td>\n",
       "      <td>110-XX-9215</td>\n",
       "      <td>NaN</td>\n",
       "      <td>1380.204016</td>\n",
       "      <td>556.785305</td>\n",
       "      <td>424</td>\n",
       "    </tr>\n",
       "    <tr>\n",
       "      <th>2303123</th>\n",
       "      <td>2303123</td>\n",
       "      <td>2.213025e+11</td>\n",
       "      <td>5.213009e+11</td>\n",
       "      <td>2008-09-10</td>\n",
       "      <td>1981-04-22</td>\n",
       "      <td>102-XX-6555</td>\n",
       "      <td>NaN</td>\n",
       "      <td>1348.650555</td>\n",
       "      <td>294.226518</td>\n",
       "      <td>408</td>\n",
       "    </tr>\n",
       "  </tbody>\n",
       "</table>\n",
       "<p>2303124 rows × 10 columns</p>\n",
       "</div>"
      ]
     },
     "execution_count": 17,
     "metadata": {},
     "output_type": "execute_result"
    }
   ],
   "execution_count": 17
  },
  {
   "cell_type": "code",
   "metadata": {
    "ExecuteTime": {
     "end_time": "2025-03-23T21:03:05.443711Z",
     "start_time": "2025-03-23T21:03:05.297343Z"
    }
   },
   "source": [
    "#Let's remove the columns that are not required for the analysis\n",
    "df_customer.drop('Unnamed: 0', axis=1, inplace=True)\n",
    "\n",
    "df_demographic.drop( 'Unnamed: 0', axis=1, inplace=True)\n",
    "\n",
    "df_termination.drop('Unnamed: 0', axis=1, inplace=True)"
   ],
   "outputs": [],
   "execution_count": 18
  },
  {
   "cell_type": "code",
   "metadata": {
    "ExecuteTime": {
     "end_time": "2025-03-23T21:03:06.039120Z",
     "start_time": "2025-03-23T21:03:05.615070Z"
    }
   },
   "source": [
    "# Check if the INDIVIDUAL_ID and ADDRESS_ID columns have any decimal part by comparing them with their integer conversion\n",
    "individual_id_decimal_check = (df_customer['INDIVIDUAL_ID'] % 1).sum()\n",
    "address_id_decimal_check = (df_customer['ADDRESS_ID'] % 1).sum()\n",
    "\n",
    "individual_id_decimal_check, address_id_decimal_check"
   ],
   "outputs": [
    {
     "data": {
      "text/plain": [
       "(np.float64(0.0), np.float64(0.0))"
      ]
     },
     "execution_count": 19,
     "metadata": {},
     "output_type": "execute_result"
    }
   ],
   "execution_count": 19
  },
  {
   "cell_type": "code",
   "metadata": {
    "ExecuteTime": {
     "end_time": "2025-03-23T21:03:06.340552Z",
     "start_time": "2025-03-23T21:03:06.092430Z"
    }
   },
   "source": [
    "# Drop rows with missing values in 'INDIVIDUAL_ID' and 'ADDRESS_ID' and create a new DataFrame\n",
    "df_customer = df_customer.dropna(subset=['INDIVIDUAL_ID', 'ADDRESS_ID']).copy()\n",
    "\n",
    "# Convert the columns to integers safely\n",
    "df_customer.loc[:, 'INDIVIDUAL_ID'] = df_customer['INDIVIDUAL_ID'].astype(int)\n",
    "df_customer.loc[:, 'ADDRESS_ID'] = df_customer['ADDRESS_ID'].astype(int)"
   ],
   "outputs": [],
   "execution_count": 20
  },
  {
   "metadata": {
    "ExecuteTime": {
     "end_time": "2025-03-23T21:03:06.578638Z",
     "start_time": "2025-03-23T21:03:06.344440Z"
    }
   },
   "cell_type": "code",
   "source": [
    "# Drop rows with missing values in 'INDIVIDUAL_ID' and 'ADDRESS_ID' and create a new DataFrame\n",
    "df_customer = df_customer.dropna(subset=['INDIVIDUAL_ID', 'ADDRESS_ID']).copy()\n",
    "\n",
    "# Convert the columns to integers safely\n",
    "df_customer.loc[:, 'INDIVIDUAL_ID'] = df_customer['INDIVIDUAL_ID'].astype(int)\n",
    "df_customer.loc[:, 'ADDRESS_ID'] = df_customer['ADDRESS_ID'].astype(int)"
   ],
   "outputs": [],
   "execution_count": 21
  },
  {
   "cell_type": "code",
   "metadata": {
    "ExecuteTime": {
     "end_time": "2025-03-23T21:03:06.763564Z",
     "start_time": "2025-03-23T21:03:06.590742Z"
    }
   },
   "source": [
    "individual_id_decimal_check = (df_demographic['INDIVIDUAL_ID'] % 1).sum()\n",
    "individual_id_decimal_check"
   ],
   "outputs": [
    {
     "data": {
      "text/plain": [
       "np.float64(0.0)"
      ]
     },
     "execution_count": 22,
     "metadata": {},
     "output_type": "execute_result"
    }
   ],
   "execution_count": 22
  },
  {
   "cell_type": "code",
   "metadata": {
    "ExecuteTime": {
     "end_time": "2025-03-23T21:03:07.041818Z",
     "start_time": "2025-03-23T21:03:06.960646Z"
    }
   },
   "source": [
    "df_demographic = df_demographic.dropna(subset=['INDIVIDUAL_ID'])\n",
    "\n",
    "#Convert the INDIVIDUAL_ID column to integer\n",
    "df_demographic['INDIVIDUAL_ID'] = df_demographic['INDIVIDUAL_ID'].astype(int)"
   ],
   "outputs": [],
   "execution_count": 23
  },
  {
   "cell_type": "code",
   "metadata": {
    "ExecuteTime": {
     "end_time": "2025-03-23T21:03:07.077567Z",
     "start_time": "2025-03-23T21:03:07.052903Z"
    }
   },
   "source": [
    "individual_id_decimal_check = (df_termination['INDIVIDUAL_ID'] % 1).sum()\n",
    "individual_id_decimal_check"
   ],
   "outputs": [
    {
     "data": {
      "text/plain": [
       "np.float64(0.0)"
      ]
     },
     "execution_count": 24,
     "metadata": {},
     "output_type": "execute_result"
    }
   ],
   "execution_count": 24
  },
  {
   "cell_type": "code",
   "metadata": {
    "ExecuteTime": {
     "end_time": "2025-03-23T21:03:07.150273Z",
     "start_time": "2025-03-23T21:03:07.143273Z"
    }
   },
   "source": [
    "df_termination = df_termination.dropna(subset=['INDIVIDUAL_ID'])\n",
    "df_termination['INDIVIDUAL_ID'] = df_termination['INDIVIDUAL_ID'].astype(int)"
   ],
   "outputs": [],
   "execution_count": 25
  },
  {
   "cell_type": "code",
   "metadata": {
    "ExecuteTime": {
     "end_time": "2025-03-23T21:03:08.125327Z",
     "start_time": "2025-03-23T21:03:07.249394Z"
    }
   },
   "source": [
    "#merge the customer demographic and termination dataframes on the INDIVIDUAL_ID column\n",
    "df = pd.merge(df_customer, df_demographic, on='INDIVIDUAL_ID', how='inner')\n",
    "df.head()"
   ],
   "outputs": [
    {
     "data": {
      "text/plain": [
       "   INDIVIDUAL_ID    ADDRESS_ID CUST_ORIG_DATE DATE_OF_BIRTH  \\\n",
       "0   2.213000e+11  5.213000e+11     2018-12-09    1978-06-23   \n",
       "1   2.213001e+11  5.213001e+11     2018-01-02    1950-05-30   \n",
       "2   2.213007e+11  5.213002e+11     2009-09-23    1967-07-07   \n",
       "3   2.213016e+11  5.213006e+11     2022-07-25    1969-05-25   \n",
       "4   2.213016e+11  5.213006e+11     2006-10-11    1972-09-25   \n",
       "\n",
       "  SOCIAL_SECURITY_NUMBER CUST_START_DATE  CURR_ANN_AMT_CAR  \\\n",
       "0            608-XX-7640      2018-12-09       1318.877997   \n",
       "1            342-XX-6908      2018-01-02       1474.199182   \n",
       "2            240-XX-9224      2009-09-23       1467.375112   \n",
       "3            775-XX-6249      2022-07-25       1492.409561   \n",
       "4            629-XX-7298      2006-10-11       1284.633494   \n",
       "\n",
       "   CURR_ANN_AMT_HEALTH  CURR_ANN_AMT_HOUSE    INCOME  HAS_CHILDREN  \\\n",
       "0           517.999317                 411   33750.0           2.0   \n",
       "1           558.417779                 414   41250.0           0.0   \n",
       "2           701.649310                 442   63750.0           0.0   \n",
       "3           401.517490                 463  187500.0           2.0   \n",
       "4           772.857222                 366  131250.0           1.0   \n",
       "\n",
       "   LENGTH_OF_RESIDENCE MARITAL_STATUS HOME_MARKET_VALUE  HOME_OWNER  \\\n",
       "0                 15.0        Married     50000 - 74999           1   \n",
       "1                  2.0         Single     50000 - 74999           1   \n",
       "2                 10.0        Married     75000 - 99999           1   \n",
       "3                  6.0        Married   175000 - 199999           1   \n",
       "4                  4.0        Married   225000 - 249999           1   \n",
       "\n",
       "   COLLEGE_DEGREE  GOOD_CREDIT ADVANCED_STUDIES  \n",
       "0               1            1                N  \n",
       "1               0            0                N  \n",
       "2               0            0                N  \n",
       "3               0            1                N  \n",
       "4               1            1                Y  "
      ],
      "text/html": [
       "<div>\n",
       "<style scoped>\n",
       "    .dataframe tbody tr th:only-of-type {\n",
       "        vertical-align: middle;\n",
       "    }\n",
       "\n",
       "    .dataframe tbody tr th {\n",
       "        vertical-align: top;\n",
       "    }\n",
       "\n",
       "    .dataframe thead th {\n",
       "        text-align: right;\n",
       "    }\n",
       "</style>\n",
       "<table border=\"1\" class=\"dataframe\">\n",
       "  <thead>\n",
       "    <tr style=\"text-align: right;\">\n",
       "      <th></th>\n",
       "      <th>INDIVIDUAL_ID</th>\n",
       "      <th>ADDRESS_ID</th>\n",
       "      <th>CUST_ORIG_DATE</th>\n",
       "      <th>DATE_OF_BIRTH</th>\n",
       "      <th>SOCIAL_SECURITY_NUMBER</th>\n",
       "      <th>CUST_START_DATE</th>\n",
       "      <th>CURR_ANN_AMT_CAR</th>\n",
       "      <th>CURR_ANN_AMT_HEALTH</th>\n",
       "      <th>CURR_ANN_AMT_HOUSE</th>\n",
       "      <th>INCOME</th>\n",
       "      <th>HAS_CHILDREN</th>\n",
       "      <th>LENGTH_OF_RESIDENCE</th>\n",
       "      <th>MARITAL_STATUS</th>\n",
       "      <th>HOME_MARKET_VALUE</th>\n",
       "      <th>HOME_OWNER</th>\n",
       "      <th>COLLEGE_DEGREE</th>\n",
       "      <th>GOOD_CREDIT</th>\n",
       "      <th>ADVANCED_STUDIES</th>\n",
       "    </tr>\n",
       "  </thead>\n",
       "  <tbody>\n",
       "    <tr>\n",
       "      <th>0</th>\n",
       "      <td>2.213000e+11</td>\n",
       "      <td>5.213000e+11</td>\n",
       "      <td>2018-12-09</td>\n",
       "      <td>1978-06-23</td>\n",
       "      <td>608-XX-7640</td>\n",
       "      <td>2018-12-09</td>\n",
       "      <td>1318.877997</td>\n",
       "      <td>517.999317</td>\n",
       "      <td>411</td>\n",
       "      <td>33750.0</td>\n",
       "      <td>2.0</td>\n",
       "      <td>15.0</td>\n",
       "      <td>Married</td>\n",
       "      <td>50000 - 74999</td>\n",
       "      <td>1</td>\n",
       "      <td>1</td>\n",
       "      <td>1</td>\n",
       "      <td>N</td>\n",
       "    </tr>\n",
       "    <tr>\n",
       "      <th>1</th>\n",
       "      <td>2.213001e+11</td>\n",
       "      <td>5.213001e+11</td>\n",
       "      <td>2018-01-02</td>\n",
       "      <td>1950-05-30</td>\n",
       "      <td>342-XX-6908</td>\n",
       "      <td>2018-01-02</td>\n",
       "      <td>1474.199182</td>\n",
       "      <td>558.417779</td>\n",
       "      <td>414</td>\n",
       "      <td>41250.0</td>\n",
       "      <td>0.0</td>\n",
       "      <td>2.0</td>\n",
       "      <td>Single</td>\n",
       "      <td>50000 - 74999</td>\n",
       "      <td>1</td>\n",
       "      <td>0</td>\n",
       "      <td>0</td>\n",
       "      <td>N</td>\n",
       "    </tr>\n",
       "    <tr>\n",
       "      <th>2</th>\n",
       "      <td>2.213007e+11</td>\n",
       "      <td>5.213002e+11</td>\n",
       "      <td>2009-09-23</td>\n",
       "      <td>1967-07-07</td>\n",
       "      <td>240-XX-9224</td>\n",
       "      <td>2009-09-23</td>\n",
       "      <td>1467.375112</td>\n",
       "      <td>701.649310</td>\n",
       "      <td>442</td>\n",
       "      <td>63750.0</td>\n",
       "      <td>0.0</td>\n",
       "      <td>10.0</td>\n",
       "      <td>Married</td>\n",
       "      <td>75000 - 99999</td>\n",
       "      <td>1</td>\n",
       "      <td>0</td>\n",
       "      <td>0</td>\n",
       "      <td>N</td>\n",
       "    </tr>\n",
       "    <tr>\n",
       "      <th>3</th>\n",
       "      <td>2.213016e+11</td>\n",
       "      <td>5.213006e+11</td>\n",
       "      <td>2022-07-25</td>\n",
       "      <td>1969-05-25</td>\n",
       "      <td>775-XX-6249</td>\n",
       "      <td>2022-07-25</td>\n",
       "      <td>1492.409561</td>\n",
       "      <td>401.517490</td>\n",
       "      <td>463</td>\n",
       "      <td>187500.0</td>\n",
       "      <td>2.0</td>\n",
       "      <td>6.0</td>\n",
       "      <td>Married</td>\n",
       "      <td>175000 - 199999</td>\n",
       "      <td>1</td>\n",
       "      <td>0</td>\n",
       "      <td>1</td>\n",
       "      <td>N</td>\n",
       "    </tr>\n",
       "    <tr>\n",
       "      <th>4</th>\n",
       "      <td>2.213016e+11</td>\n",
       "      <td>5.213006e+11</td>\n",
       "      <td>2006-10-11</td>\n",
       "      <td>1972-09-25</td>\n",
       "      <td>629-XX-7298</td>\n",
       "      <td>2006-10-11</td>\n",
       "      <td>1284.633494</td>\n",
       "      <td>772.857222</td>\n",
       "      <td>366</td>\n",
       "      <td>131250.0</td>\n",
       "      <td>1.0</td>\n",
       "      <td>4.0</td>\n",
       "      <td>Married</td>\n",
       "      <td>225000 - 249999</td>\n",
       "      <td>1</td>\n",
       "      <td>1</td>\n",
       "      <td>1</td>\n",
       "      <td>Y</td>\n",
       "    </tr>\n",
       "  </tbody>\n",
       "</table>\n",
       "</div>"
      ]
     },
     "execution_count": 26,
     "metadata": {},
     "output_type": "execute_result"
    }
   ],
   "execution_count": 26
  },
  {
   "cell_type": "code",
   "metadata": {
    "ExecuteTime": {
     "end_time": "2025-03-23T21:03:08.171419Z",
     "start_time": "2025-03-23T21:03:08.166892Z"
    }
   },
   "source": [
    "df.info()"
   ],
   "outputs": [
    {
     "name": "stdout",
     "output_type": "stream",
     "text": [
      "<class 'pandas.core.frame.DataFrame'>\n",
      "RangeIndex: 2133685 entries, 0 to 2133684\n",
      "Data columns (total 18 columns):\n",
      " #   Column                  Dtype  \n",
      "---  ------                  -----  \n",
      " 0   INDIVIDUAL_ID           float64\n",
      " 1   ADDRESS_ID              float64\n",
      " 2   CUST_ORIG_DATE          object \n",
      " 3   DATE_OF_BIRTH           object \n",
      " 4   SOCIAL_SECURITY_NUMBER  object \n",
      " 5   CUST_START_DATE         object \n",
      " 6   CURR_ANN_AMT_CAR        float64\n",
      " 7   CURR_ANN_AMT_HEALTH     float64\n",
      " 8   CURR_ANN_AMT_HOUSE      int64  \n",
      " 9   INCOME                  float64\n",
      " 10  HAS_CHILDREN            float64\n",
      " 11  LENGTH_OF_RESIDENCE     float64\n",
      " 12  MARITAL_STATUS          object \n",
      " 13  HOME_MARKET_VALUE       object \n",
      " 14  HOME_OWNER              int64  \n",
      " 15  COLLEGE_DEGREE          int64  \n",
      " 16  GOOD_CREDIT             int64  \n",
      " 17  ADVANCED_STUDIES        object \n",
      "dtypes: float64(7), int64(4), object(7)\n",
      "memory usage: 293.0+ MB\n"
     ]
    }
   ],
   "execution_count": 27
  },
  {
   "cell_type": "markdown",
   "metadata": {},
   "source": [
    "#### Data Quality Assessment Plan\n",
    "\n",
    "We will now embark on a thorough data quality assessment based on the data quality framework. Our goal is to ensure that our dataset adheres to the following dimensions of data quality:\n",
    "\n",
    "- **Completeness**: We will check for and address any missing values in our columns.\n",
    "- **Consistency**: We will verify that all data is in the correct format and that the dataset conforms to logical constraints.\n",
    "- **Correctness**: We will validate the accuracy of the data and correct any erroneous values.\n",
    "- **Uniqueness**: We will ensure that each customer is represented uniquely without any duplicates.\n",
    "- **Timeliness**: We will examine date columns to ensure the data is current and relevant for our analysis.\n",
    "- **Stability**: We will assess whether the dataset includes any volatile data that could change frequently and affect analysis.\n",
    "- **Relevance**: We will evaluate whether all included features are necessary for the analysis or if some may be redundant.\n",
    "- **Contextualization**: We will make sure that the data is well-understood in terms of its collection context and meaning.\n",
    "- **Trustworthiness**: We will discuss the source and collection process of the data to ensure its reliability.\n",
    "\n",
    "#### Initial Observations from `info()`\n",
    "- The `CUST_START_DATE`, `MARITAL_STATUS`, `HOME_MARKET_VALUE`, and `SUSPD_DATE` columns contain missing values that will need to be addressed.\n",
    "- The date columns (`CUST_ORIG_DATE`, `DATE_OF_BIRTH`, `CUST_START_DATE`, `SUSPD_DATE`) are of `object` type and likely need to be converted to `datetime` for proper analysis.\n",
    "- The `SOCIAL_SECURITY_NUMBER` should be examined to ensure it meets the correct format and privacy standards.\n",
    "- The `HOME_MARKET_VALUE` is listed as an object type, which suggests it may contain non-numeric values or special characters that will require cleaning.\n",
    "\n",
    "#### Next Steps\n",
    "We will proceed with the data quality assessment by examining each column in detail, identifying data quality issues, and applying corrective measures. This will involve:\n",
    "- Converting date columns to the appropriate `datetime` format.\n",
    "- Handling missing values strategically, deciding on imputation or removal.\n",
    "- Normalizing numerical columns like `HOME_MARKET_VALUE` to ensure they are in the correct format for analysis.\n",
    "- Verifying the uniqueness of the `INDIVIDUAL_ID` to avoid duplicate records."
   ]
  },
  {
   "cell_type": "code",
   "metadata": {
    "ExecuteTime": {
     "end_time": "2025-03-23T21:03:08.756945Z",
     "start_time": "2025-03-23T21:03:08.333704Z"
    }
   },
   "source": "df.isnull().sum()",
   "outputs": [
    {
     "data": {
      "text/plain": [
       "INDIVIDUAL_ID                  0\n",
       "ADDRESS_ID                     0\n",
       "CUST_ORIG_DATE                 0\n",
       "DATE_OF_BIRTH                  0\n",
       "SOCIAL_SECURITY_NUMBER         0\n",
       "CUST_START_DATE            84472\n",
       "CURR_ANN_AMT_CAR               0\n",
       "CURR_ANN_AMT_HEALTH            0\n",
       "CURR_ANN_AMT_HOUSE             0\n",
       "INCOME                         0\n",
       "HAS_CHILDREN                   0\n",
       "LENGTH_OF_RESIDENCE            0\n",
       "MARITAL_STATUS            435895\n",
       "HOME_MARKET_VALUE         192147\n",
       "HOME_OWNER                     0\n",
       "COLLEGE_DEGREE                 0\n",
       "GOOD_CREDIT                    0\n",
       "ADVANCED_STUDIES               0\n",
       "dtype: int64"
      ]
     },
     "execution_count": 28,
     "metadata": {},
     "output_type": "execute_result"
    }
   ],
   "execution_count": 28
  },
  {
   "cell_type": "code",
   "metadata": {
    "ExecuteTime": {
     "end_time": "2025-03-23T21:03:09.232338Z",
     "start_time": "2025-03-23T21:03:08.792682Z"
    }
   },
   "source": "df[['CUST_START_DATE','MARITAL_STATUS','HOME_MARKET_VALUE']].describe()",
   "outputs": [
    {
     "data": {
      "text/plain": [
       "       CUST_START_DATE MARITAL_STATUS HOME_MARKET_VALUE\n",
       "count          2049213        1697790           1941538\n",
       "unique           18084              2                19\n",
       "top         2005-09-11        Married     75000 - 99999\n",
       "freq            496029        1058961            369562"
      ],
      "text/html": [
       "<div>\n",
       "<style scoped>\n",
       "    .dataframe tbody tr th:only-of-type {\n",
       "        vertical-align: middle;\n",
       "    }\n",
       "\n",
       "    .dataframe tbody tr th {\n",
       "        vertical-align: top;\n",
       "    }\n",
       "\n",
       "    .dataframe thead th {\n",
       "        text-align: right;\n",
       "    }\n",
       "</style>\n",
       "<table border=\"1\" class=\"dataframe\">\n",
       "  <thead>\n",
       "    <tr style=\"text-align: right;\">\n",
       "      <th></th>\n",
       "      <th>CUST_START_DATE</th>\n",
       "      <th>MARITAL_STATUS</th>\n",
       "      <th>HOME_MARKET_VALUE</th>\n",
       "    </tr>\n",
       "  </thead>\n",
       "  <tbody>\n",
       "    <tr>\n",
       "      <th>count</th>\n",
       "      <td>2049213</td>\n",
       "      <td>1697790</td>\n",
       "      <td>1941538</td>\n",
       "    </tr>\n",
       "    <tr>\n",
       "      <th>unique</th>\n",
       "      <td>18084</td>\n",
       "      <td>2</td>\n",
       "      <td>19</td>\n",
       "    </tr>\n",
       "    <tr>\n",
       "      <th>top</th>\n",
       "      <td>2005-09-11</td>\n",
       "      <td>Married</td>\n",
       "      <td>75000 - 99999</td>\n",
       "    </tr>\n",
       "    <tr>\n",
       "      <th>freq</th>\n",
       "      <td>496029</td>\n",
       "      <td>1058961</td>\n",
       "      <td>369562</td>\n",
       "    </tr>\n",
       "  </tbody>\n",
       "</table>\n",
       "</div>"
      ]
     },
     "execution_count": 29,
     "metadata": {},
     "output_type": "execute_result"
    }
   ],
   "execution_count": 29
  },
  {
   "cell_type": "code",
   "metadata": {
    "ExecuteTime": {
     "end_time": "2025-03-23T21:03:09.328652Z",
     "start_time": "2025-03-23T21:03:09.271149Z"
    }
   },
   "source": [
    "#percentage of missing values in the CUST_START_DATE column\n",
    "df['CUST_START_DATE'].isnull().mean()"
   ],
   "outputs": [
    {
     "data": {
      "text/plain": [
       "np.float64(0.03958972388145392)"
      ]
     },
     "execution_count": 30,
     "metadata": {},
     "output_type": "execute_result"
    }
   ],
   "execution_count": 30
  },
  {
   "cell_type": "code",
   "metadata": {
    "ExecuteTime": {
     "end_time": "2025-03-23T21:03:09.544Z",
     "start_time": "2025-03-23T21:03:09.485784Z"
    }
   },
   "source": [
    "#percentage of missing values in the MARITAL_STATUS column\n",
    "df['MARITAL_STATUS'].isnull().mean()"
   ],
   "outputs": [
    {
     "data": {
      "text/plain": [
       "np.float64(0.20429210497332081)"
      ]
     },
     "execution_count": 31,
     "metadata": {},
     "output_type": "execute_result"
    }
   ],
   "execution_count": 31
  },
  {
   "cell_type": "code",
   "metadata": {
    "ExecuteTime": {
     "end_time": "2025-03-23T21:03:09.750444Z",
     "start_time": "2025-03-23T21:03:09.693069Z"
    }
   },
   "source": [
    "#percentage of missing values in the MARITAL_STATUS column\n",
    "df['MARITAL_STATUS'].isnull().mean()"
   ],
   "outputs": [
    {
     "data": {
      "text/plain": [
       "np.float64(0.20429210497332081)"
      ]
     },
     "execution_count": 32,
     "metadata": {},
     "output_type": "execute_result"
    }
   ],
   "execution_count": 32
  },
  {
   "cell_type": "markdown",
   "metadata": {},
   "source": [
    "In our merged dataset, we have identified missing values in several columns, which are critical to address for maintaining data quality. Specifically, we have observed missing values in the `CUST_START_DATE` column. Additionally, there are significant gaps in the `MARITAL_STATUS` and `HOME_MARKET_VALUE` columns.\n",
    "\n",
    "Strategy:\n",
    "\n",
    "- **Remove records with missing `CUST_START_DATE`**: The absence of a policy start date would impede any analysis that depends on the policy's age or duration.\n",
    "\n",
    "The `MARITAL_STATUS` and `HOME_MARKET_VALUE` fields have missing values that may not be as straightforward to handle. These variables are potentially significant for demographic segmentation and risk assessment. Therefore, we will take a closer analytical approach to understand the nature of these gaps:\n",
    "\n",
    "- **Analyzing `MARITAL_STATUS` missing values**: We will investigate patterns in the data that might explain why these values are missing. If there is a pattern that is explainable, we may impute the missing values using a statistical method.\n",
    "\n",
    "- **Investigating `HOME_MARKET_VALUE` missing values**: Given that this is a financial metric, we need to consider if the absence of this value correlates with other customer characteristics. Depending on the distribution and relationship with other variables, we might impute these missing values using the median home market value or a model-based imputation method."
   ]
  },
  {
   "cell_type": "code",
   "metadata": {
    "ExecuteTime": {
     "end_time": "2025-03-23T21:03:10.546011Z",
     "start_time": "2025-03-23T21:03:09.895081Z"
    }
   },
   "source": [
    "df = df.dropna(subset=['CUST_START_DATE'])\n",
    "df.isnull().sum()"
   ],
   "outputs": [
    {
     "data": {
      "text/plain": [
       "INDIVIDUAL_ID                  0\n",
       "ADDRESS_ID                     0\n",
       "CUST_ORIG_DATE                 0\n",
       "DATE_OF_BIRTH                  0\n",
       "SOCIAL_SECURITY_NUMBER         0\n",
       "CUST_START_DATE                0\n",
       "CURR_ANN_AMT_CAR               0\n",
       "CURR_ANN_AMT_HEALTH            0\n",
       "CURR_ANN_AMT_HOUSE             0\n",
       "INCOME                         0\n",
       "HAS_CHILDREN                   0\n",
       "LENGTH_OF_RESIDENCE            0\n",
       "MARITAL_STATUS            418829\n",
       "HOME_MARKET_VALUE         184472\n",
       "HOME_OWNER                     0\n",
       "COLLEGE_DEGREE                 0\n",
       "GOOD_CREDIT                    0\n",
       "ADVANCED_STUDIES               0\n",
       "dtype: int64"
      ]
     },
     "execution_count": 33,
     "metadata": {},
     "output_type": "execute_result"
    }
   ],
   "execution_count": 33
  },
  {
   "cell_type": "code",
   "metadata": {
    "ExecuteTime": {
     "end_time": "2025-03-23T21:03:10.632153Z",
     "start_time": "2025-03-23T21:03:10.603620Z"
    }
   },
   "source": [
    "df['MARITAL_STATUS'].value_counts(dropna=False)"
   ],
   "outputs": [
    {
     "data": {
      "text/plain": [
       "MARITAL_STATUS\n",
       "Married    1016927\n",
       "Single      613457\n",
       "NaN         418829\n",
       "Name: count, dtype: int64"
      ]
     },
     "execution_count": 34,
     "metadata": {},
     "output_type": "execute_result"
    }
   ],
   "execution_count": 34
  },
  {
   "cell_type": "code",
   "metadata": {
    "ExecuteTime": {
     "end_time": "2025-03-23T21:03:10.766775Z",
     "start_time": "2025-03-23T21:03:10.724234Z"
    }
   },
   "source": "df['MARITAL_STATUS'].unique()",
   "outputs": [
    {
     "data": {
      "text/plain": [
       "array(['Married', 'Single', nan], dtype=object)"
      ]
     },
     "execution_count": 35,
     "metadata": {},
     "output_type": "execute_result"
    }
   ],
   "execution_count": 35
  },
  {
   "cell_type": "code",
   "metadata": {
    "ExecuteTime": {
     "end_time": "2025-03-23T21:03:11.012836Z",
     "start_time": "2025-03-23T21:03:10.900344Z"
    }
   },
   "source": [
    "df['MARITAL_STATUS'].value_counts(dropna=False).plot(kind='bar')"
   ],
   "outputs": [
    {
     "data": {
      "text/plain": [
       "<Axes: xlabel='MARITAL_STATUS'>"
      ]
     },
     "execution_count": 36,
     "metadata": {},
     "output_type": "execute_result"
    },
    {
     "data": {
      "text/plain": [
       "<Figure size 640x480 with 1 Axes>"
      ],
      "image/png": "[encoded data removed]"
     },
     "metadata": {},
     "output_type": "display_data"
    }
   ],
   "execution_count": 36
  },
  {
   "metadata": {
    "ExecuteTime": {
     "end_time": "2025-03-23T21:03:11.484560Z",
     "start_time": "2025-03-23T21:03:11.194390Z"
    }
   },
   "cell_type": "code",
   "source": [
    "df_numeric = df.select_dtypes(include='number')\n",
    "df_numeric.corrwith(df['MARITAL_STATUS'].isnull())"
   ],
   "outputs": [
    {
     "data": {
      "text/plain": [
       "INDIVIDUAL_ID          0.003958\n",
       "ADDRESS_ID             0.003605\n",
       "CURR_ANN_AMT_CAR      -0.075115\n",
       "CURR_ANN_AMT_HEALTH   -0.038149\n",
       "CURR_ANN_AMT_HOUSE    -0.072495\n",
       "INCOME                -0.044278\n",
       "HAS_CHILDREN          -0.322825\n",
       "LENGTH_OF_RESIDENCE   -0.271842\n",
       "HOME_OWNER            -0.523379\n",
       "COLLEGE_DEGREE        -0.214478\n",
       "GOOD_CREDIT           -0.110804\n",
       "dtype: float64"
      ]
     },
     "execution_count": 37,
     "metadata": {},
     "output_type": "execute_result"
    }
   ],
   "execution_count": 37
  },
  {
   "cell_type": "code",
   "metadata": {
    "ExecuteTime": {
     "end_time": "2025-03-23T21:03:12.242455Z",
     "start_time": "2025-03-23T21:03:11.517314Z"
    }
   },
   "source": [
    "# Before applying one-hot encoding, handle NaN values\n",
    "df['MARITAL_STATUS'] = df['MARITAL_STATUS'].fillna('Unknown')\n",
    "\n",
    "# Apply one-hot encoding to the MARITAL_STATUS column\n",
    "marital_status_dummies = pd.get_dummies(df['MARITAL_STATUS'], prefix='MARITAL_STATUS')\n",
    "\n",
    "# concatenate the new columns (one-hot encoded)\n",
    "df = pd.concat([df, marital_status_dummies], axis=1)\n",
    "\n",
    "# drop the original 'MARITAL_STATUS'\n",
    "df = df.drop('MARITAL_STATUS', axis=1)"
   ],
   "outputs": [],
   "execution_count": 38
  },
  {
   "cell_type": "markdown",
   "metadata": {},
   "source": [
    "The `MARITAL_STATUS` feature presents an interesting dimension in our dataset, accounting for the diversity in our customers' life stages. Initially, we faced the challenge of handling its missing values and integrating this categorical variable into our predictive models. To ensure we fully capture the nuances it may introduce, we've decided to retain `MARITAL_STATUS` during the exploratory phase of our analysis.\n",
    "\n",
    "To effectively incorporate this feature into our machine learning models, we have applied one-hot encoding, which transforms `MARITAL_STATUS` into multiple binary columns, each representing a potential category. This technique allows us to:\n",
    "\n",
    "- Represent 'Married' as a separate feature column where the presence of this marital status is indicated by `1`, and its absence by `0`.\n",
    "- Similarly, 'Single' is denoted by `1` in its respective feature column when applicable.\n",
    "- Address missing values by treating 'Unknown' as its own category, thereby preserving data integrity without imputing arbitrary values.\n",
    "\n",
    "By employing one-hot encoding, we leverage the categorical nature of `MARITAL_STATUS` without assuming ordinality, and we ensure that our models can interpret this feature without bias towards any particular order or magnitude. This approach allows each category to contribute individually to the predictive power of our models, paving the way for insights into how marital status might correlate with customer value.\n"
   ]
  },
  {
   "cell_type": "code",
   "metadata": {
    "ExecuteTime": {
     "end_time": "2025-03-23T21:03:12.282812Z",
     "start_time": "2025-03-23T21:03:12.274482Z"
    }
   },
   "source": [
    "df.head()"
   ],
   "outputs": [
    {
     "data": {
      "text/plain": [
       "   INDIVIDUAL_ID    ADDRESS_ID CUST_ORIG_DATE DATE_OF_BIRTH  \\\n",
       "0   2.213000e+11  5.213000e+11     2018-12-09    1978-06-23   \n",
       "1   2.213001e+11  5.213001e+11     2018-01-02    1950-05-30   \n",
       "2   2.213007e+11  5.213002e+11     2009-09-23    1967-07-07   \n",
       "3   2.213016e+11  5.213006e+11     2022-07-25    1969-05-25   \n",
       "4   2.213016e+11  5.213006e+11     2006-10-11    1972-09-25   \n",
       "\n",
       "  SOCIAL_SECURITY_NUMBER CUST_START_DATE  CURR_ANN_AMT_CAR  \\\n",
       "0            608-XX-7640      2018-12-09       1318.877997   \n",
       "1            342-XX-6908      2018-01-02       1474.199182   \n",
       "2            240-XX-9224      2009-09-23       1467.375112   \n",
       "3            775-XX-6249      2022-07-25       1492.409561   \n",
       "4            629-XX-7298      2006-10-11       1284.633494   \n",
       "\n",
       "   CURR_ANN_AMT_HEALTH  CURR_ANN_AMT_HOUSE    INCOME  HAS_CHILDREN  \\\n",
       "0           517.999317                 411   33750.0           2.0   \n",
       "1           558.417779                 414   41250.0           0.0   \n",
       "2           701.649310                 442   63750.0           0.0   \n",
       "3           401.517490                 463  187500.0           2.0   \n",
       "4           772.857222                 366  131250.0           1.0   \n",
       "\n",
       "   LENGTH_OF_RESIDENCE HOME_MARKET_VALUE  HOME_OWNER  COLLEGE_DEGREE  \\\n",
       "0                 15.0     50000 - 74999           1               1   \n",
       "1                  2.0     50000 - 74999           1               0   \n",
       "2                 10.0     75000 - 99999           1               0   \n",
       "3                  6.0   175000 - 199999           1               0   \n",
       "4                  4.0   225000 - 249999           1               1   \n",
       "\n",
       "   GOOD_CREDIT ADVANCED_STUDIES  MARITAL_STATUS_Married  \\\n",
       "0            1                N                    True   \n",
       "1            0                N                   False   \n",
       "2            0                N                    True   \n",
       "3            1                N                    True   \n",
       "4            1                Y                    True   \n",
       "\n",
       "   MARITAL_STATUS_Single  MARITAL_STATUS_Unknown  \n",
       "0                  False                   False  \n",
       "1                   True                   False  \n",
       "2                  False                   False  \n",
       "3                  False                   False  \n",
       "4                  False                   False  "
      ],
      "text/html": [
       "<div>\n",
       "<style scoped>\n",
       "    .dataframe tbody tr th:only-of-type {\n",
       "        vertical-align: middle;\n",
       "    }\n",
       "\n",
       "    .dataframe tbody tr th {\n",
       "        vertical-align: top;\n",
       "    }\n",
       "\n",
       "    .dataframe thead th {\n",
       "        text-align: right;\n",
       "    }\n",
       "</style>\n",
       "<table border=\"1\" class=\"dataframe\">\n",
       "  <thead>\n",
       "    <tr style=\"text-align: right;\">\n",
       "      <th></th>\n",
       "      <th>INDIVIDUAL_ID</th>\n",
       "      <th>ADDRESS_ID</th>\n",
       "      <th>CUST_ORIG_DATE</th>\n",
       "      <th>DATE_OF_BIRTH</th>\n",
       "      <th>SOCIAL_SECURITY_NUMBER</th>\n",
       "      <th>CUST_START_DATE</th>\n",
       "      <th>CURR_ANN_AMT_CAR</th>\n",
       "      <th>CURR_ANN_AMT_HEALTH</th>\n",
       "      <th>CURR_ANN_AMT_HOUSE</th>\n",
       "      <th>INCOME</th>\n",
       "      <th>HAS_CHILDREN</th>\n",
       "      <th>LENGTH_OF_RESIDENCE</th>\n",
       "      <th>HOME_MARKET_VALUE</th>\n",
       "      <th>HOME_OWNER</th>\n",
       "      <th>COLLEGE_DEGREE</th>\n",
       "      <th>GOOD_CREDIT</th>\n",
       "      <th>ADVANCED_STUDIES</th>\n",
       "      <th>MARITAL_STATUS_Married</th>\n",
       "      <th>MARITAL_STATUS_Single</th>\n",
       "      <th>MARITAL_STATUS_Unknown</th>\n",
       "    </tr>\n",
       "  </thead>\n",
       "  <tbody>\n",
       "    <tr>\n",
       "      <th>0</th>\n",
       "      <td>2.213000e+11</td>\n",
       "      <td>5.213000e+11</td>\n",
       "      <td>2018-12-09</td>\n",
       "      <td>1978-06-23</td>\n",
       "      <td>608-XX-7640</td>\n",
       "      <td>2018-12-09</td>\n",
       "      <td>1318.877997</td>\n",
       "      <td>517.999317</td>\n",
       "      <td>411</td>\n",
       "      <td>33750.0</td>\n",
       "      <td>2.0</td>\n",
       "      <td>15.0</td>\n",
       "      <td>50000 - 74999</td>\n",
       "      <td>1</td>\n",
       "      <td>1</td>\n",
       "      <td>1</td>\n",
       "      <td>N</td>\n",
       "      <td>True</td>\n",
       "      <td>False</td>\n",
       "      <td>False</td>\n",
       "    </tr>\n",
       "    <tr>\n",
       "      <th>1</th>\n",
       "      <td>2.213001e+11</td>\n",
       "      <td>5.213001e+11</td>\n",
       "      <td>2018-01-02</td>\n",
       "      <td>1950-05-30</td>\n",
       "      <td>342-XX-6908</td>\n",
       "      <td>2018-01-02</td>\n",
       "      <td>1474.199182</td>\n",
       "      <td>558.417779</td>\n",
       "      <td>414</td>\n",
       "      <td>41250.0</td>\n",
       "      <td>0.0</td>\n",
       "      <td>2.0</td>\n",
       "      <td>50000 - 74999</td>\n",
       "      <td>1</td>\n",
       "      <td>0</td>\n",
       "      <td>0</td>\n",
       "      <td>N</td>\n",
       "      <td>False</td>\n",
       "      <td>True</td>\n",
       "      <td>False</td>\n",
       "    </tr>\n",
       "    <tr>\n",
       "      <th>2</th>\n",
       "      <td>2.213007e+11</td>\n",
       "      <td>5.213002e+11</td>\n",
       "      <td>2009-09-23</td>\n",
       "      <td>1967-07-07</td>\n",
       "      <td>240-XX-9224</td>\n",
       "      <td>2009-09-23</td>\n",
       "      <td>1467.375112</td>\n",
       "      <td>701.649310</td>\n",
       "      <td>442</td>\n",
       "      <td>63750.0</td>\n",
       "      <td>0.0</td>\n",
       "      <td>10.0</td>\n",
       "      <td>75000 - 99999</td>\n",
       "      <td>1</td>\n",
       "      <td>0</td>\n",
       "      <td>0</td>\n",
       "      <td>N</td>\n",
       "      <td>True</td>\n",
       "      <td>False</td>\n",
       "      <td>False</td>\n",
       "    </tr>\n",
       "    <tr>\n",
       "      <th>3</th>\n",
       "      <td>2.213016e+11</td>\n",
       "      <td>5.213006e+11</td>\n",
       "      <td>2022-07-25</td>\n",
       "      <td>1969-05-25</td>\n",
       "      <td>775-XX-6249</td>\n",
       "      <td>2022-07-25</td>\n",
       "      <td>1492.409561</td>\n",
       "      <td>401.517490</td>\n",
       "      <td>463</td>\n",
       "      <td>187500.0</td>\n",
       "      <td>2.0</td>\n",
       "      <td>6.0</td>\n",
       "      <td>175000 - 199999</td>\n",
       "      <td>1</td>\n",
       "      <td>0</td>\n",
       "      <td>1</td>\n",
       "      <td>N</td>\n",
       "      <td>True</td>\n",
       "      <td>False</td>\n",
       "      <td>False</td>\n",
       "    </tr>\n",
       "    <tr>\n",
       "      <th>4</th>\n",
       "      <td>2.213016e+11</td>\n",
       "      <td>5.213006e+11</td>\n",
       "      <td>2006-10-11</td>\n",
       "      <td>1972-09-25</td>\n",
       "      <td>629-XX-7298</td>\n",
       "      <td>2006-10-11</td>\n",
       "      <td>1284.633494</td>\n",
       "      <td>772.857222</td>\n",
       "      <td>366</td>\n",
       "      <td>131250.0</td>\n",
       "      <td>1.0</td>\n",
       "      <td>4.0</td>\n",
       "      <td>225000 - 249999</td>\n",
       "      <td>1</td>\n",
       "      <td>1</td>\n",
       "      <td>1</td>\n",
       "      <td>Y</td>\n",
       "      <td>True</td>\n",
       "      <td>False</td>\n",
       "      <td>False</td>\n",
       "    </tr>\n",
       "  </tbody>\n",
       "</table>\n",
       "</div>"
      ]
     },
     "execution_count": 39,
     "metadata": {},
     "output_type": "execute_result"
    }
   ],
   "execution_count": 39
  },
  {
   "cell_type": "code",
   "metadata": {
    "ExecuteTime": {
     "end_time": "2025-03-23T21:03:12.374763Z",
     "start_time": "2025-03-23T21:03:12.349401Z"
    }
   },
   "source": [
    "df['HOME_MARKET_VALUE'].value_counts(dropna=False)"
   ],
   "outputs": [
    {
     "data": {
      "text/plain": [
       "HOME_MARKET_VALUE\n",
       "75000 - 99999      354951\n",
       "100000 - 124999    320300\n",
       "50000 - 74999      259463\n",
       "125000 - 149999    243269\n",
       "NaN                184472\n",
       "150000 - 174999    170959\n",
       "175000 - 199999    113191\n",
       "25000 - 49999      107464\n",
       "200000 - 224999     78557\n",
       "225000 - 249999     53686\n",
       "250000 - 274999     36322\n",
       "1000 - 24999        34541\n",
       "300000 - 349999     24528\n",
       "275000 - 299999     21949\n",
       "350000 - 399999     13646\n",
       "500000 - 749999     11943\n",
       "400000 - 449999      7868\n",
       "450000 - 499999      5822\n",
       "750000 - 999999      3799\n",
       "1000000 Plus         2483\n",
       "Name: count, dtype: int64"
      ]
     },
     "execution_count": 40,
     "metadata": {},
     "output_type": "execute_result"
    }
   ],
   "execution_count": 40
  },
  {
   "cell_type": "code",
   "metadata": {
    "ExecuteTime": {
     "end_time": "2025-03-23T21:03:12.727150Z",
     "start_time": "2025-03-23T21:03:12.520781Z"
    }
   },
   "source": [
    "df['HOME_MARKET_VALUE'].unique()\n",
    "df['HOME_MARKET_VALUE'].value_counts(dropna=False).plot(kind='bar')"
   ],
   "outputs": [
    {
     "data": {
      "text/plain": [
       "<Axes: xlabel='HOME_MARKET_VALUE'>"
      ]
     },
     "execution_count": 41,
     "metadata": {},
     "output_type": "execute_result"
    },
    {
     "data": {
      "text/plain": [
       "<Figure size 640x480 with 1 Axes>"
      ],
      "image/png": "[encoded data removed]"
     },
     "metadata": {},
     "output_type": "display_data"
    }
   ],
   "execution_count": 41
  },
  {
   "cell_type": "code",
   "metadata": {
    "ExecuteTime": {
     "end_time": "2025-03-23T21:03:14.234564Z",
     "start_time": "2025-03-23T21:03:12.874465Z"
    }
   },
   "source": [
    "#feature engineering of the HOME_MARKET_VALUE column, assuming a uniform distribution in each bin \n",
    "def convert_home_market_value_to_midpoint(value):\n",
    "    if pd.isnull(value):\n",
    "        return np.nan  \n",
    "    elif value == '1000000 Plus':\n",
    "        return 1000000  \n",
    "    else:\n",
    "        # Split the string on the dash and take the average of the low and high end\n",
    "        low, high = value.split('-')\n",
    "        return (int(low) + int(high)) / 2\n",
    "\n",
    "# Apply the function to the HOME_MARKET_VALUE column\n",
    "df['HOME_MARKET_VALUE_NUMERIC'] = df['HOME_MARKET_VALUE'].apply(convert_home_market_value_to_midpoint)"
   ],
   "outputs": [],
   "execution_count": 42
  },
  {
   "cell_type": "code",
   "metadata": {
    "ExecuteTime": {
     "end_time": "2025-03-23T21:03:14.285596Z",
     "start_time": "2025-03-23T21:03:14.275197Z"
    }
   },
   "source": [
    "df.head()"
   ],
   "outputs": [
    {
     "data": {
      "text/plain": [
       "   INDIVIDUAL_ID    ADDRESS_ID CUST_ORIG_DATE DATE_OF_BIRTH  \\\n",
       "0   2.213000e+11  5.213000e+11     2018-12-09    1978-06-23   \n",
       "1   2.213001e+11  5.213001e+11     2018-01-02    1950-05-30   \n",
       "2   2.213007e+11  5.213002e+11     2009-09-23    1967-07-07   \n",
       "3   2.213016e+11  5.213006e+11     2022-07-25    1969-05-25   \n",
       "4   2.213016e+11  5.213006e+11     2006-10-11    1972-09-25   \n",
       "\n",
       "  SOCIAL_SECURITY_NUMBER CUST_START_DATE  CURR_ANN_AMT_CAR  \\\n",
       "0            608-XX-7640      2018-12-09       1318.877997   \n",
       "1            342-XX-6908      2018-01-02       1474.199182   \n",
       "2            240-XX-9224      2009-09-23       1467.375112   \n",
       "3            775-XX-6249      2022-07-25       1492.409561   \n",
       "4            629-XX-7298      2006-10-11       1284.633494   \n",
       "\n",
       "   CURR_ANN_AMT_HEALTH  CURR_ANN_AMT_HOUSE    INCOME  ...  \\\n",
       "0           517.999317                 411   33750.0  ...   \n",
       "1           558.417779                 414   41250.0  ...   \n",
       "2           701.649310                 442   63750.0  ...   \n",
       "3           401.517490                 463  187500.0  ...   \n",
       "4           772.857222                 366  131250.0  ...   \n",
       "\n",
       "   LENGTH_OF_RESIDENCE  HOME_MARKET_VALUE HOME_OWNER  COLLEGE_DEGREE  \\\n",
       "0                 15.0      50000 - 74999          1               1   \n",
       "1                  2.0      50000 - 74999          1               0   \n",
       "2                 10.0      75000 - 99999          1               0   \n",
       "3                  6.0    175000 - 199999          1               0   \n",
       "4                  4.0    225000 - 249999          1               1   \n",
       "\n",
       "   GOOD_CREDIT  ADVANCED_STUDIES MARITAL_STATUS_Married  \\\n",
       "0            1                 N                   True   \n",
       "1            0                 N                  False   \n",
       "2            0                 N                   True   \n",
       "3            1                 N                   True   \n",
       "4            1                 Y                   True   \n",
       "\n",
       "   MARITAL_STATUS_Single  MARITAL_STATUS_Unknown  HOME_MARKET_VALUE_NUMERIC  \n",
       "0                  False                   False                    62499.5  \n",
       "1                   True                   False                    62499.5  \n",
       "2                  False                   False                    87499.5  \n",
       "3                  False                   False                   187499.5  \n",
       "4                  False                   False                   237499.5  \n",
       "\n",
       "[5 rows x 21 columns]"
      ],
      "text/html": [
       "<div>\n",
       "<style scoped>\n",
       "    .dataframe tbody tr th:only-of-type {\n",
       "        vertical-align: middle;\n",
       "    }\n",
       "\n",
       "    .dataframe tbody tr th {\n",
       "        vertical-align: top;\n",
       "    }\n",
       "\n",
       "    .dataframe thead th {\n",
       "        text-align: right;\n",
       "    }\n",
       "</style>\n",
       "<table border=\"1\" class=\"dataframe\">\n",
       "  <thead>\n",
       "    <tr style=\"text-align: right;\">\n",
       "      <th></th>\n",
       "      <th>INDIVIDUAL_ID</th>\n",
       "      <th>ADDRESS_ID</th>\n",
       "      <th>CUST_ORIG_DATE</th>\n",
       "      <th>DATE_OF_BIRTH</th>\n",
       "      <th>SOCIAL_SECURITY_NUMBER</th>\n",
       "      <th>CUST_START_DATE</th>\n",
       "      <th>CURR_ANN_AMT_CAR</th>\n",
       "      <th>CURR_ANN_AMT_HEALTH</th>\n",
       "      <th>CURR_ANN_AMT_HOUSE</th>\n",
       "      <th>INCOME</th>\n",
       "      <th>...</th>\n",
       "      <th>LENGTH_OF_RESIDENCE</th>\n",
       "      <th>HOME_MARKET_VALUE</th>\n",
       "      <th>HOME_OWNER</th>\n",
       "      <th>COLLEGE_DEGREE</th>\n",
       "      <th>GOOD_CREDIT</th>\n",
       "      <th>ADVANCED_STUDIES</th>\n",
       "      <th>MARITAL_STATUS_Married</th>\n",
       "      <th>MARITAL_STATUS_Single</th>\n",
       "      <th>MARITAL_STATUS_Unknown</th>\n",
       "      <th>HOME_MARKET_VALUE_NUMERIC</th>\n",
       "    </tr>\n",
       "  </thead>\n",
       "  <tbody>\n",
       "    <tr>\n",
       "      <th>0</th>\n",
       "      <td>2.213000e+11</td>\n",
       "      <td>5.213000e+11</td>\n",
       "      <td>2018-12-09</td>\n",
       "      <td>1978-06-23</td>\n",
       "      <td>608-XX-7640</td>\n",
       "      <td>2018-12-09</td>\n",
       "      <td>1318.877997</td>\n",
       "      <td>517.999317</td>\n",
       "      <td>411</td>\n",
       "      <td>33750.0</td>\n",
       "      <td>...</td>\n",
       "      <td>15.0</td>\n",
       "      <td>50000 - 74999</td>\n",
       "      <td>1</td>\n",
       "      <td>1</td>\n",
       "      <td>1</td>\n",
       "      <td>N</td>\n",
       "      <td>True</td>\n",
       "      <td>False</td>\n",
       "      <td>False</td>\n",
       "      <td>62499.5</td>\n",
       "    </tr>\n",
       "    <tr>\n",
       "      <th>1</th>\n",
       "      <td>2.213001e+11</td>\n",
       "      <td>5.213001e+11</td>\n",
       "      <td>2018-01-02</td>\n",
       "      <td>1950-05-30</td>\n",
       "      <td>342-XX-6908</td>\n",
       "      <td>2018-01-02</td>\n",
       "      <td>1474.199182</td>\n",
       "      <td>558.417779</td>\n",
       "      <td>414</td>\n",
       "      <td>41250.0</td>\n",
       "      <td>...</td>\n",
       "      <td>2.0</td>\n",
       "      <td>50000 - 74999</td>\n",
       "      <td>1</td>\n",
       "      <td>0</td>\n",
       "      <td>0</td>\n",
       "      <td>N</td>\n",
       "      <td>False</td>\n",
       "      <td>True</td>\n",
       "      <td>False</td>\n",
       "      <td>62499.5</td>\n",
       "    </tr>\n",
       "    <tr>\n",
       "      <th>2</th>\n",
       "      <td>2.213007e+11</td>\n",
       "      <td>5.213002e+11</td>\n",
       "      <td>2009-09-23</td>\n",
       "      <td>1967-07-07</td>\n",
       "      <td>240-XX-9224</td>\n",
       "      <td>2009-09-23</td>\n",
       "      <td>1467.375112</td>\n",
       "      <td>701.649310</td>\n",
       "      <td>442</td>\n",
       "      <td>63750.0</td>\n",
       "      <td>...</td>\n",
       "      <td>10.0</td>\n",
       "      <td>75000 - 99999</td>\n",
       "      <td>1</td>\n",
       "      <td>0</td>\n",
       "      <td>0</td>\n",
       "      <td>N</td>\n",
       "      <td>True</td>\n",
       "      <td>False</td>\n",
       "      <td>False</td>\n",
       "      <td>87499.5</td>\n",
       "    </tr>\n",
       "    <tr>\n",
       "      <th>3</th>\n",
       "      <td>2.213016e+11</td>\n",
       "      <td>5.213006e+11</td>\n",
       "      <td>2022-07-25</td>\n",
       "      <td>1969-05-25</td>\n",
       "      <td>775-XX-6249</td>\n",
       "      <td>2022-07-25</td>\n",
       "      <td>1492.409561</td>\n",
       "      <td>401.517490</td>\n",
       "      <td>463</td>\n",
       "      <td>187500.0</td>\n",
       "      <td>...</td>\n",
       "      <td>6.0</td>\n",
       "      <td>175000 - 199999</td>\n",
       "      <td>1</td>\n",
       "      <td>0</td>\n",
       "      <td>1</td>\n",
       "      <td>N</td>\n",
       "      <td>True</td>\n",
       "      <td>False</td>\n",
       "      <td>False</td>\n",
       "      <td>187499.5</td>\n",
       "    </tr>\n",
       "    <tr>\n",
       "      <th>4</th>\n",
       "      <td>2.213016e+11</td>\n",
       "      <td>5.213006e+11</td>\n",
       "      <td>2006-10-11</td>\n",
       "      <td>1972-09-25</td>\n",
       "      <td>629-XX-7298</td>\n",
       "      <td>2006-10-11</td>\n",
       "      <td>1284.633494</td>\n",
       "      <td>772.857222</td>\n",
       "      <td>366</td>\n",
       "      <td>131250.0</td>\n",
       "      <td>...</td>\n",
       "      <td>4.0</td>\n",
       "      <td>225000 - 249999</td>\n",
       "      <td>1</td>\n",
       "      <td>1</td>\n",
       "      <td>1</td>\n",
       "      <td>Y</td>\n",
       "      <td>True</td>\n",
       "      <td>False</td>\n",
       "      <td>False</td>\n",
       "      <td>237499.5</td>\n",
       "    </tr>\n",
       "  </tbody>\n",
       "</table>\n",
       "<p>5 rows × 21 columns</p>\n",
       "</div>"
      ]
     },
     "execution_count": 43,
     "metadata": {},
     "output_type": "execute_result"
    }
   ],
   "execution_count": 43
  },
  {
   "metadata": {
    "ExecuteTime": {
     "end_time": "2025-03-23T21:03:14.651187Z",
     "start_time": "2025-03-23T21:03:14.386463Z"
    }
   },
   "cell_type": "code",
   "source": [
    "# Create the mask for missing home market values\n",
    "missing_mask = df['HOME_MARKET_VALUE_NUMERIC'].isnull().astype(float)\n",
    "\n",
    "# Select numeric columns only, drop the one being evaluated\n",
    "df_numeric = df.select_dtypes(include='number').drop(columns=['HOME_MARKET_VALUE_NUMERIC'], errors='ignore')\n",
    "\n",
    "# Ensure index alignment and calculate correlation\n",
    "correlations = df_numeric.corrwith(missing_mask)\n",
    "\n",
    "# Show sorted result\n",
    "print(correlations.dropna().sort_values(ascending=False))"
   ],
   "outputs": [
    {
     "name": "stdout",
     "output_type": "stream",
     "text": [
      "ADDRESS_ID             0.012056\n",
      "INDIVIDUAL_ID          0.011772\n",
      "INCOME                -0.039296\n",
      "CURR_ANN_AMT_HEALTH   -0.040591\n",
      "GOOD_CREDIT           -0.062917\n",
      "CURR_ANN_AMT_HOUSE    -0.076766\n",
      "CURR_ANN_AMT_CAR      -0.079484\n",
      "COLLEGE_DEGREE        -0.084614\n",
      "HAS_CHILDREN          -0.086397\n",
      "LENGTH_OF_RESIDENCE   -0.396976\n",
      "HOME_OWNER            -0.454982\n",
      "dtype: float64\n"
     ]
    }
   ],
   "execution_count": 44
  },
  {
   "cell_type": "code",
   "metadata": {
    "ExecuteTime": {
     "end_time": "2025-03-23T21:03:14.817337Z",
     "start_time": "2025-03-23T21:03:14.686592Z"
    }
   },
   "source": "df['HOME_MARKET_VALUE_NUMERIC'].hist(bins=10)",
   "outputs": [
    {
     "data": {
      "text/plain": [
       "<Axes: >"
      ]
     },
     "execution_count": 45,
     "metadata": {},
     "output_type": "execute_result"
    },
    {
     "data": {
      "text/plain": [
       "<Figure size 640x480 with 1 Axes>"
      ],
      "image/png": "[encoded data removed]"
     },
     "metadata": {},
     "output_type": "display_data"
    }
   ],
   "execution_count": 45
  },
  {
   "cell_type": "code",
   "metadata": {
    "ExecuteTime": {
     "end_time": "2025-03-23T21:03:14.918701Z",
     "start_time": "2025-03-23T21:03:14.913700Z"
    }
   },
   "source": "df['HOME_MARKET_VALUE_NUMERIC'].isnull().mean()",
   "outputs": [
    {
     "data": {
      "text/plain": [
       "np.float64(0.09002090070675914)"
      ]
     },
     "execution_count": 46,
     "metadata": {},
     "output_type": "execute_result"
    }
   ],
   "execution_count": 46
  },
  {
   "cell_type": "code",
   "metadata": {
    "ExecuteTime": {
     "end_time": "2025-03-23T21:03:15.689248Z",
     "start_time": "2025-03-23T21:03:15.213610Z"
    }
   },
   "source": [
    "#remove null rows from the HOME_MARKET_VALUE_NUMERIC column\n",
    "df = df.dropna(subset=['HOME_MARKET_VALUE_NUMERIC'])\n",
    "df.isnull().mean()"
   ],
   "outputs": [
    {
     "data": {
      "text/plain": [
       "INDIVIDUAL_ID                0.0\n",
       "ADDRESS_ID                   0.0\n",
       "CUST_ORIG_DATE               0.0\n",
       "DATE_OF_BIRTH                0.0\n",
       "SOCIAL_SECURITY_NUMBER       0.0\n",
       "CUST_START_DATE              0.0\n",
       "CURR_ANN_AMT_CAR             0.0\n",
       "CURR_ANN_AMT_HEALTH          0.0\n",
       "CURR_ANN_AMT_HOUSE           0.0\n",
       "INCOME                       0.0\n",
       "HAS_CHILDREN                 0.0\n",
       "LENGTH_OF_RESIDENCE          0.0\n",
       "HOME_MARKET_VALUE            0.0\n",
       "HOME_OWNER                   0.0\n",
       "COLLEGE_DEGREE               0.0\n",
       "GOOD_CREDIT                  0.0\n",
       "ADVANCED_STUDIES             0.0\n",
       "MARITAL_STATUS_Married       0.0\n",
       "MARITAL_STATUS_Single        0.0\n",
       "MARITAL_STATUS_Unknown       0.0\n",
       "HOME_MARKET_VALUE_NUMERIC    0.0\n",
       "dtype: float64"
      ]
     },
     "execution_count": 47,
     "metadata": {},
     "output_type": "execute_result"
    }
   ],
   "execution_count": 47
  },
  {
   "cell_type": "markdown",
   "metadata": {},
   "source": [
    "Upon thorough examination of the `HOME_MARKET_VALUE_NUMERIC` variable, we have determined that the missing values do not exhibit significant correlations with other features in our dataset. This suggests that the impact of these missing values on our overall analysis may be minimal. Considering that the missing data accounts for approximately 10% of our dataset and in light of its low correlation with other variables, we have decided that the most prudent course of action is to remove these records from our dataset.\n",
    "\n",
    "Justification for Data Removal:\n",
    "- **Dataset Size**: Our dataset is sufficiently large, and the exclusion of these records will not compromise the statistical power of our subsequent analyses.\n",
    "- **Bias Consideration**: Preliminary analysis suggests that the missingness is likely random (MCAR), reducing the risk of introducing bias through their removal.\n",
    "- **Model Simplicity**: By removing the missing data, we maintain the simplicity of our modeling process, avoiding the uncertainties and potential biases associated with imputation.\n",
    "- **Pattern of Missingness**: The lack of a strong relationship between the missing values and other features supports the assumption that the missingness is not systematic and is unlikely to be informative."
   ]
  },
  {
   "cell_type": "markdown",
   "metadata": {},
   "source": [
    "#### Correction of features format - CONSISTENCY & CORRECTNESS"
   ]
  },
  {
   "cell_type": "code",
   "metadata": {
    "ExecuteTime": {
     "end_time": "2025-03-23T21:03:15.993073Z",
     "start_time": "2025-03-23T21:03:15.988408Z"
    }
   },
   "source": [
    "df.info()"
   ],
   "outputs": [
    {
     "name": "stdout",
     "output_type": "stream",
     "text": [
      "<class 'pandas.core.frame.DataFrame'>\n",
      "Index: 1864741 entries, 0 to 2112554\n",
      "Data columns (total 21 columns):\n",
      " #   Column                     Dtype  \n",
      "---  ------                     -----  \n",
      " 0   INDIVIDUAL_ID              float64\n",
      " 1   ADDRESS_ID                 float64\n",
      " 2   CUST_ORIG_DATE             object \n",
      " 3   DATE_OF_BIRTH              object \n",
      " 4   SOCIAL_SECURITY_NUMBER     object \n",
      " 5   CUST_START_DATE            object \n",
      " 6   CURR_ANN_AMT_CAR           float64\n",
      " 7   CURR_ANN_AMT_HEALTH        float64\n",
      " 8   CURR_ANN_AMT_HOUSE         int64  \n",
      " 9   INCOME                     float64\n",
      " 10  HAS_CHILDREN               float64\n",
      " 11  LENGTH_OF_RESIDENCE        float64\n",
      " 12  HOME_MARKET_VALUE          object \n",
      " 13  HOME_OWNER                 int64  \n",
      " 14  COLLEGE_DEGREE             int64  \n",
      " 15  GOOD_CREDIT                int64  \n",
      " 16  ADVANCED_STUDIES           object \n",
      " 17  MARITAL_STATUS_Married     bool   \n",
      " 18  MARITAL_STATUS_Single      bool   \n",
      " 19  MARITAL_STATUS_Unknown     bool   \n",
      " 20  HOME_MARKET_VALUE_NUMERIC  float64\n",
      "dtypes: bool(3), float64(8), int64(4), object(6)\n",
      "memory usage: 275.6+ MB\n"
     ]
    }
   ],
   "execution_count": 48
  },
  {
   "cell_type": "code",
   "metadata": {
    "ExecuteTime": {
     "end_time": "2025-03-23T21:03:16.592599Z",
     "start_time": "2025-03-23T21:03:16.117895Z"
    }
   },
   "source": [
    "# Convert date columns to datetime\n",
    "date_columns = ['CUST_ORIG_DATE', 'DATE_OF_BIRTH', 'CUST_START_DATE']\n",
    "for date_column in date_columns:\n",
    "    df[date_column] = pd.to_datetime(df[date_column], errors='coerce')"
   ],
   "outputs": [],
   "execution_count": 49
  },
  {
   "cell_type": "code",
   "metadata": {
    "ExecuteTime": {
     "end_time": "2025-03-23T21:03:16.644031Z",
     "start_time": "2025-03-23T21:03:16.595704Z"
    }
   },
   "source": [
    "df['SOCIAL_SECURITY_NUMBER'] = df['SOCIAL_SECURITY_NUMBER'].astype(str)"
   ],
   "outputs": [],
   "execution_count": 50
  },
  {
   "cell_type": "code",
   "metadata": {
    "ExecuteTime": {
     "end_time": "2025-03-23T21:03:16.867925Z",
     "start_time": "2025-03-23T21:03:16.847427Z"
    }
   },
   "source": "df['HAS_CHILDREN'].value_counts(dropna=False)",
   "outputs": [
    {
     "data": {
      "text/plain": [
       "HAS_CHILDREN\n",
       "0.0    1029078\n",
       "1.0     783607\n",
       "2.0      41844\n",
       "3.0       6991\n",
       "4.0       1940\n",
       "5.0        668\n",
       "6.0        613\n",
       "Name: count, dtype: int64"
      ]
     },
     "execution_count": 51,
     "metadata": {},
     "output_type": "execute_result"
    }
   ],
   "execution_count": 51
  },
  {
   "cell_type": "code",
   "metadata": {
    "ExecuteTime": {
     "end_time": "2025-03-23T21:03:17.116512Z",
     "start_time": "2025-03-23T21:03:17.100395Z"
    }
   },
   "source": [
    "df['LENGTH_OF_RESIDENCE'].value_counts(dropna=False)"
   ],
   "outputs": [
    {
     "data": {
      "text/plain": [
       "LENGTH_OF_RESIDENCE\n",
       "15.000    341017\n",
       "6.801     199029\n",
       "2.000     154995\n",
       "3.000     142551\n",
       "1.000     140596\n",
       "4.000     126420\n",
       "5.000     114428\n",
       "6.000      95150\n",
       "7.000      85704\n",
       "8.000      75752\n",
       "9.000      67906\n",
       "0.000      61911\n",
       "10.000     61548\n",
       "11.000     59770\n",
       "12.000     52357\n",
       "13.000     45216\n",
       "14.000     40391\n",
       "Name: count, dtype: int64"
      ]
     },
     "execution_count": 52,
     "metadata": {},
     "output_type": "execute_result"
    }
   ],
   "execution_count": 52
  },
  {
   "cell_type": "code",
   "metadata": {
    "ExecuteTime": {
     "end_time": "2025-03-23T21:03:17.221566Z",
     "start_time": "2025-03-23T21:03:17.211258Z"
    }
   },
   "source": [
    "df['HOME_OWNER'].value_counts(dropna=False)"
   ],
   "outputs": [
    {
     "data": {
      "text/plain": [
       "HOME_OWNER\n",
       "1    1424654\n",
       "0     440087\n",
       "Name: count, dtype: int64"
      ]
     },
     "execution_count": 53,
     "metadata": {},
     "output_type": "execute_result"
    }
   ],
   "execution_count": 53
  },
  {
   "cell_type": "code",
   "metadata": {
    "ExecuteTime": {
     "end_time": "2025-03-23T21:03:17.389759Z",
     "start_time": "2025-03-23T21:03:17.379215Z"
    }
   },
   "source": [
    "df['COLLEGE_DEGREE'].value_counts(dropna=False)"
   ],
   "outputs": [
    {
     "data": {
      "text/plain": [
       "COLLEGE_DEGREE\n",
       "0    1279669\n",
       "1     585072\n",
       "Name: count, dtype: int64"
      ]
     },
     "execution_count": 54,
     "metadata": {},
     "output_type": "execute_result"
    }
   ],
   "execution_count": 54
  },
  {
   "cell_type": "code",
   "metadata": {
    "ExecuteTime": {
     "end_time": "2025-03-23T21:03:17.604637Z",
     "start_time": "2025-03-23T21:03:17.594653Z"
    }
   },
   "source": [
    "df['GOOD_CREDIT'].value_counts(dropna=False)"
   ],
   "outputs": [
    {
     "data": {
      "text/plain": [
       "GOOD_CREDIT\n",
       "1    1542481\n",
       "0     322260\n",
       "Name: count, dtype: int64"
      ]
     },
     "execution_count": 55,
     "metadata": {},
     "output_type": "execute_result"
    }
   ],
   "execution_count": 55
  },
  {
   "cell_type": "code",
   "metadata": {
    "ExecuteTime": {
     "end_time": "2025-03-23T21:03:17.877147Z",
     "start_time": "2025-03-23T21:03:17.857229Z"
    }
   },
   "source": [
    "df['ADVANCED_STUDIES'].value_counts(dropna=False)"
   ],
   "outputs": [
    {
     "data": {
      "text/plain": [
       "ADVANCED_STUDIES\n",
       "N    1376013\n",
       "Y     488728\n",
       "Name: count, dtype: int64"
      ]
     },
     "execution_count": 56,
     "metadata": {},
     "output_type": "execute_result"
    }
   ],
   "execution_count": 56
  },
  {
   "cell_type": "code",
   "metadata": {
    "ExecuteTime": {
     "end_time": "2025-03-23T21:03:18.317561Z",
     "start_time": "2025-03-23T21:03:18.270318Z"
    }
   },
   "source": [
    "#trnsform the categorical columns to binary\n",
    "df['ADVANCED_STUDIES_BINARY'] = df['ADVANCED_STUDIES'].map({'Y': 1, 'N': 0})\n",
    "df['ADVANCED_STUDIES_BINARY'].value_counts()"
   ],
   "outputs": [
    {
     "data": {
      "text/plain": [
       "ADVANCED_STUDIES_BINARY\n",
       "0    1376013\n",
       "1     488728\n",
       "Name: count, dtype: int64"
      ]
     },
     "execution_count": 57,
     "metadata": {},
     "output_type": "execute_result"
    }
   ],
   "execution_count": 57
  },
  {
   "cell_type": "code",
   "metadata": {
    "ExecuteTime": {
     "end_time": "2025-03-23T21:03:18.532960Z",
     "start_time": "2025-03-23T21:03:18.529144Z"
    }
   },
   "source": [
    "df.dtypes"
   ],
   "outputs": [
    {
     "data": {
      "text/plain": [
       "INDIVIDUAL_ID                       float64\n",
       "ADDRESS_ID                          float64\n",
       "CUST_ORIG_DATE               datetime64[ns]\n",
       "DATE_OF_BIRTH                datetime64[ns]\n",
       "SOCIAL_SECURITY_NUMBER               object\n",
       "CUST_START_DATE              datetime64[ns]\n",
       "CURR_ANN_AMT_CAR                    float64\n",
       "CURR_ANN_AMT_HEALTH                 float64\n",
       "CURR_ANN_AMT_HOUSE                    int64\n",
       "INCOME                              float64\n",
       "HAS_CHILDREN                        float64\n",
       "LENGTH_OF_RESIDENCE                 float64\n",
       "HOME_MARKET_VALUE                    object\n",
       "HOME_OWNER                            int64\n",
       "COLLEGE_DEGREE                        int64\n",
       "GOOD_CREDIT                           int64\n",
       "ADVANCED_STUDIES                     object\n",
       "MARITAL_STATUS_Married                 bool\n",
       "MARITAL_STATUS_Single                  bool\n",
       "MARITAL_STATUS_Unknown                 bool\n",
       "HOME_MARKET_VALUE_NUMERIC           float64\n",
       "ADVANCED_STUDIES_BINARY               int64\n",
       "dtype: object"
      ]
     },
     "execution_count": 58,
     "metadata": {},
     "output_type": "execute_result"
    }
   ],
   "execution_count": 58
  },
  {
   "cell_type": "markdown",
   "metadata": {},
   "source": [
    "#### Analysis of Duplicates - UNIQUENESS"
   ]
  },
  {
   "cell_type": "code",
   "metadata": {
    "ExecuteTime": {
     "end_time": "2025-03-23T21:03:20.280785Z",
     "start_time": "2025-03-23T21:03:18.738313Z"
    }
   },
   "source": [
    "df.duplicated().sum()"
   ],
   "outputs": [
    {
     "data": {
      "text/plain": [
       "np.int64(0)"
      ]
     },
     "execution_count": 59,
     "metadata": {},
     "output_type": "execute_result"
    }
   ],
   "execution_count": 59
  },
  {
   "cell_type": "markdown",
   "metadata": {},
   "source": [
    "#### EDA OF THE FEATURES"
   ]
  },
  {
   "cell_type": "markdown",
   "metadata": {},
   "source": [
    "#### Analysis of Temporal features - TIMELINESS\n"
   ]
  },
  {
   "cell_type": "markdown",
   "metadata": {},
   "source": [
    "Observations:\n",
    "- The `CUST_ORIG_DATE` indicates that customers have been joining from late 2005 through late 2022, with a median joining date around the end of 2020.\n",
    "- The `DATE_OF_BIRTH` data indicates that the range of customer ages spans from young adults (about 23 years old at the time of the latest data point in 2022) to much older individuals (possibly over 100 years old), with a median age around 55 years old.\n",
    "- The `CUST_START_DATE` appears to have an anomaly, as the maximum date is in the future (2041), which is not possible and suggests either a data entry error or placeholder data."
   ]
  },
  {
   "cell_type": "code",
   "metadata": {
    "ExecuteTime": {
     "end_time": "2025-03-23T21:03:20.349774Z",
     "start_time": "2025-03-23T21:03:20.336920Z"
    }
   },
   "source": [
    "# Check for future dates in the CUST_START_DATE column\n",
    "future_dates = df[df['CUST_START_DATE'] > datetime.now()]\n",
    "print(f\"Number of future dates in CUST_START_DATE: {future_dates.shape[0]}\")"
   ],
   "outputs": [
    {
     "name": "stdout",
     "output_type": "stream",
     "text": [
      "Number of future dates in CUST_START_DATE: 25506\n"
     ]
    }
   ],
   "execution_count": 60
  },
  {
   "cell_type": "code",
   "metadata": {
    "ExecuteTime": {
     "end_time": "2025-03-23T21:03:20.620187Z",
     "start_time": "2025-03-23T21:03:20.603584Z"
    }
   },
   "source": [
    "invalid_dates = df[df['CUST_START_DATE'] < df['CUST_ORIG_DATE']]\n",
    "print(f\"Number of records where CUST_START_DATE is before CUST_ORIG_DATE: {invalid_dates.shape[0]}\")"
   ],
   "outputs": [
    {
     "name": "stdout",
     "output_type": "stream",
     "text": [
      "Number of records where CUST_START_DATE is before CUST_ORIG_DATE: 67163\n"
     ]
    }
   ],
   "execution_count": 61
  },
  {
   "cell_type": "code",
   "metadata": {
    "ExecuteTime": {
     "end_time": "2025-03-23T21:03:20.783296Z",
     "start_time": "2025-03-23T21:03:20.779551Z"
    }
   },
   "source": [
    "#see the percentage of the sum of future_dates and invalid_dates respect to the total number of records\n",
    "print(f\"Percentage of future dates in CUST_START_DATE: {future_dates.shape[0] / df.shape[0] * 100:.2f}%\")\n",
    "print(f\"Percentage of records where CUST_START_DATE is before CUST_ORIG_DATE: {invalid_dates.shape[0] / df.shape[0] * 100:.2f}%\")\n",
    "\n",
    "(future_dates.shape[0] + invalid_dates.shape[0]) / df.shape[0]"
   ],
   "outputs": [
    {
     "name": "stdout",
     "output_type": "stream",
     "text": [
      "Percentage of future dates in CUST_START_DATE: 1.37%\n",
      "Percentage of records where CUST_START_DATE is before CUST_ORIG_DATE: 3.60%\n"
     ]
    },
    {
     "data": {
      "text/plain": [
       "0.0496953732448635"
      ]
     },
     "execution_count": 62,
     "metadata": {},
     "output_type": "execute_result"
    }
   ],
   "execution_count": 62
  },
  {
   "cell_type": "markdown",
   "metadata": {},
   "source": [
    "During our data quality assessment, we identified two critical issues within the `CUST_START_DATE` column:\n",
    "\n",
    "1. **Future Dates**: Our analysis revealed that 28366 records have `CUST_START_DATE` values set in the future, beyond the current date. Since it's not possible to start a policy in the future, these entries are clear indications of data entry errors.\n",
    "\n",
    "2. **Pre-Original Joining Dates**: We also discovered 67,163 instances (approximately 3.60% of the dataset) where the `CUST_START_DATE` precedes the `CUST_ORIG_DATE`. This is logically inconsistent since a customer cannot start a policy before officially joining.\n",
    "\n",
    "Given the relatively small percentage of the affected records, we have decided to remove these records from our dataset for the following reasons:\n",
    "- **Data Accuracy**: Including these records would compromise the accuracy of our analysis, particularly in any time series or cohort-based assessments.\n",
    "- **Feasibility of Correction**: Without a reliable external data source or knowledge of the correct dates, we cannot accurately correct these values.\n",
    "- **Proportion and Impact**: The affected records represent a small portion of the overall dataset, and their removal is unlikely to significantly impact the statistical power or generalizability of our findings.\n",
    "- **Prevention of Bias**: Imputing these values without a clear rationale or method could introduce bias into our dataset, affecting subsequent analyses and modeling."
   ]
  },
  {
   "cell_type": "code",
   "metadata": {
    "ExecuteTime": {
     "end_time": "2025-03-23T21:03:21.336400Z",
     "start_time": "2025-03-23T21:03:21.018734Z"
    }
   },
   "source": [
    "# Remove records with a CUST_START_DATE in the future\n",
    "df = df[df['CUST_START_DATE'] <= datetime.now()]\n",
    "\n",
    "# Remove records where CUST_START_DATE is before CUST_ORIG_DATE\n",
    "df = df[df['CUST_START_DATE'] >= df['CUST_ORIG_DATE']]"
   ],
   "outputs": [],
   "execution_count": 63
  },
  {
   "cell_type": "code",
   "metadata": {
    "ExecuteTime": {
     "end_time": "2025-03-23T21:03:21.560583Z",
     "start_time": "2025-03-23T21:03:21.557789Z"
    }
   },
   "source": [
    "df.shape"
   ],
   "outputs": [
    {
     "data": {
      "text/plain": [
       "(1772072, 22)"
      ]
     },
     "execution_count": 64,
     "metadata": {},
     "output_type": "execute_result"
    }
   ],
   "execution_count": 64
  },
  {
   "cell_type": "code",
   "metadata": {
    "ExecuteTime": {
     "end_time": "2025-03-23T21:03:22.101286Z",
     "start_time": "2025-03-23T21:03:21.786545Z"
    }
   },
   "source": [
    "# Distribution of CUST_ORIG_DATE\n",
    "df['CUST_ORIG_DATE'].dt.year.plot(kind='hist', alpha=0.5, label='CUST_ORIG_DATE')\n",
    "\n",
    "# Distribution of CUST_START_DATE\n",
    "df['CUST_START_DATE'].dt.year.plot(kind='hist', alpha=0.5, label='CUST_START_DATE')\n",
    "\n",
    "plt.xlabel('Year')\n",
    "plt.ylabel('Frequency')\n",
    "plt.title('Distribution of CUST_ORIG_DATE ,CUST_START_DATE and SUSPD_DATE')\n",
    "plt.legend()\n",
    "plt.show()"
   ],
   "outputs": [
    {
     "data": {
      "text/plain": [
       "<Figure size 640x480 with 1 Axes>"
      ],
      "image/png": "[encoded data removed]"
     },
     "metadata": {},
     "output_type": "display_data"
    }
   ],
   "execution_count": 65
  },
  {
   "cell_type": "code",
   "metadata": {
    "ExecuteTime": {
     "end_time": "2025-03-23T21:03:22.397909Z",
     "start_time": "2025-03-23T21:03:22.325029Z"
    }
   },
   "source": [
    "#see most common value of cust_start_date and cust_orig_date\n",
    "df['CUST_START_DATE'].dt.year.value_counts().head()"
   ],
   "outputs": [
    {
     "data": {
      "text/plain": [
       "CUST_START_DATE\n",
       "2005    479746\n",
       "2022    243017\n",
       "2019     98803\n",
       "2018     86259\n",
       "2020     82138\n",
       "Name: count, dtype: int64"
      ]
     },
     "execution_count": 66,
     "metadata": {},
     "output_type": "execute_result"
    }
   ],
   "execution_count": 66
  },
  {
   "cell_type": "code",
   "metadata": {
    "ExecuteTime": {
     "end_time": "2025-03-23T21:03:22.721475Z",
     "start_time": "2025-03-23T21:03:22.649233Z"
    }
   },
   "source": [
    "df['CUST_ORIG_DATE'].dt.year.value_counts().head()"
   ],
   "outputs": [
    {
     "data": {
      "text/plain": [
       "CUST_ORIG_DATE\n",
       "2005    497448\n",
       "2022    241047\n",
       "2019     97308\n",
       "2018     84955\n",
       "2017     80832\n",
       "Name: count, dtype: int64"
      ]
     },
     "execution_count": 67,
     "metadata": {},
     "output_type": "execute_result"
    }
   ],
   "execution_count": 67
  },
  {
   "cell_type": "code",
   "metadata": {
    "ExecuteTime": {
     "end_time": "2025-03-23T21:03:23.219528Z",
     "start_time": "2025-03-23T21:03:22.791156Z"
    }
   },
   "source": [
    "current_year = datetime.now().year\n",
    "df['AGE'] = current_year - df['DATE_OF_BIRTH'].dt.year\n",
    "\n",
    "# Plot the distribution of ages\n",
    "plt.figure(figsize=(10, 6))\n",
    "df['AGE'].hist(bins=range(min(df['AGE']), max(df['AGE'])+1))\n",
    "plt.title('Distribution of Customer Ages')\n",
    "plt.xlabel('Age')\n",
    "plt.ylabel('Number of Customers')\n",
    "plt.grid(False)\n",
    "plt.show()"
   ],
   "outputs": [
    {
     "data": {
      "text/plain": [
       "<Figure size 1000x600 with 1 Axes>"
      ],
      "image/png": "[encoded data removed]"
     },
     "metadata": {},
     "output_type": "display_data"
    }
   ],
   "execution_count": 68
  },
  {
   "cell_type": "code",
   "metadata": {
    "ExecuteTime": {
     "end_time": "2025-03-23T21:03:23.296587Z",
     "start_time": "2025-03-23T21:03:23.286975Z"
    }
   },
   "source": [
    "common_ages = df['AGE'].value_counts()\n",
    "\n",
    "print(\"Most Common Ages and their Counts:\")\n",
    "print(common_ages)"
   ],
   "outputs": [
    {
     "name": "stdout",
     "output_type": "stream",
     "text": [
      "Most Common Ages and their Counts:\n",
      "AGE\n",
      "58     325380\n",
      "56      39324\n",
      "55      39202\n",
      "57      38507\n",
      "54      38506\n",
      "        ...  \n",
      "113        63\n",
      "114        44\n",
      "116        21\n",
      "115        12\n",
      "117         1\n",
      "Name: count, Length: 92, dtype: int64\n"
     ]
    }
   ],
   "execution_count": 69
  },
  {
   "cell_type": "code",
   "metadata": {
    "ExecuteTime": {
     "end_time": "2025-03-23T21:03:23.507651Z",
     "start_time": "2025-03-23T21:03:23.471515Z"
    }
   },
   "source": [
    "df['AGE'].describe()"
   ],
   "outputs": [
    {
     "data": {
      "text/plain": [
       "count    1.772072e+06\n",
       "mean     5.830758e+01\n",
       "std      1.393633e+01\n",
       "min      2.600000e+01\n",
       "25%      4.900000e+01\n",
       "50%      5.800000e+01\n",
       "75%      6.600000e+01\n",
       "max      1.170000e+02\n",
       "Name: AGE, dtype: float64"
      ]
     },
     "execution_count": 70,
     "metadata": {},
     "output_type": "execute_result"
    }
   ],
   "execution_count": 70
  },
  {
   "cell_type": "code",
   "metadata": {
    "ExecuteTime": {
     "end_time": "2025-03-23T21:03:25.280576Z",
     "start_time": "2025-03-23T21:03:23.582815Z"
    }
   },
   "source": [
    "plt.figure(figsize=(10, 6))\n",
    "sns.boxplot(x=df['AGE'])\n",
    "plt.title('Boxplot of Customer Ages')\n",
    "plt.xlabel('Age')\n",
    "plt.show()"
   ],
   "outputs": [
    {
     "data": {
      "text/plain": [
       "<Figure size 1000x600 with 1 Axes>"
      ],
      "image/png": "[encoded data removed]"
     },
     "metadata": {},
     "output_type": "display_data"
    }
   ],
   "execution_count": 71
  },
  {
   "cell_type": "code",
   "metadata": {
    "ExecuteTime": {
     "end_time": "2025-03-23T21:03:25.421570Z",
     "start_time": "2025-03-23T21:03:25.365024Z"
    }
   },
   "source": [
    "# Calculate Q1 (25th percentile) and Q3 (75th percentile)\n",
    "Q1 = df['AGE'].quantile(0.25)\n",
    "Q3 = df['AGE'].quantile(0.75)\n",
    "IQR = Q3 - Q1\n",
    "\n",
    "# Define bounds for what is considered an outlier\n",
    "lower_bound = Q1 - 1.5 * IQR\n",
    "upper_bound = Q3 + 1.5 * IQR\n",
    "\n",
    "# Filter out the outliers\n",
    "outliers = df[(df['AGE'] < lower_bound) | (df['AGE'] > upper_bound)]\n",
    "outliers['AGE'].value_counts()"
   ],
   "outputs": [
    {
     "data": {
      "text/plain": [
       "AGE\n",
       "92     5895\n",
       "93     5447\n",
       "94     5125\n",
       "95     4472\n",
       "96     3813\n",
       "97     3483\n",
       "98     2829\n",
       "99     2308\n",
       "100    1743\n",
       "101    1406\n",
       "102    1076\n",
       "103     869\n",
       "104     707\n",
       "105     543\n",
       "106     411\n",
       "107     309\n",
       "108     226\n",
       "109     131\n",
       "112      99\n",
       "110      81\n",
       "111      70\n",
       "113      63\n",
       "114      44\n",
       "116      21\n",
       "115      12\n",
       "117       1\n",
       "Name: count, dtype: int64"
      ]
     },
     "execution_count": 72,
     "metadata": {},
     "output_type": "execute_result"
    }
   ],
   "execution_count": 72
  },
  {
   "cell_type": "code",
   "metadata": {
    "ExecuteTime": {
     "end_time": "2025-03-23T21:03:25.656092Z",
     "start_time": "2025-03-23T21:03:25.504452Z"
    }
   },
   "source": [
    "#drop rows with age over 100 becuase they are outliers \n",
    "df = df[df['AGE'] <= 100]"
   ],
   "outputs": [],
   "execution_count": 73
  },
  {
   "cell_type": "code",
   "metadata": {
    "ExecuteTime": {
     "end_time": "2025-03-23T21:03:26.410226Z",
     "start_time": "2025-03-23T21:03:25.682549Z"
    }
   },
   "source": [
    "# Select only numeric columns before computing the correlation matrix\n",
    "numeric_df = df.select_dtypes(include=['number'])\n",
    "\n",
    "# Calculate the correlation matrix\n",
    "correlation_matrix = numeric_df.corr()\n",
    "\n",
    "# Get the correlation of 'AGE' with all other numeric columns\n",
    "age_correlation = correlation_matrix['AGE'].sort_values(ascending=False)\n",
    "\n",
    "print(age_correlation)"
   ],
   "outputs": [
    {
     "name": "stdout",
     "output_type": "stream",
     "text": [
      "AGE                          1.000000\n",
      "LENGTH_OF_RESIDENCE          0.282563\n",
      "HOME_OWNER                   0.108514\n",
      "CURR_ANN_AMT_CAR             0.086248\n",
      "CURR_ANN_AMT_HOUSE           0.083016\n",
      "COLLEGE_DEGREE               0.071253\n",
      "CURR_ANN_AMT_HEALTH          0.044114\n",
      "ADDRESS_ID                   0.041515\n",
      "INDIVIDUAL_ID                0.037399\n",
      "GOOD_CREDIT                  0.017274\n",
      "INCOME                      -0.004871\n",
      "HOME_MARKET_VALUE_NUMERIC   -0.016254\n",
      "ADVANCED_STUDIES_BINARY     -0.025619\n",
      "HAS_CHILDREN                -0.145410\n",
      "Name: AGE, dtype: float64\n"
     ]
    }
   ],
   "execution_count": 74
  },
  {
   "cell_type": "markdown",
   "metadata": {},
   "source": [
    "Age Demographics Correlation Analysis\n",
    "\n",
    "Our dataset's correlation analysis reveals several key insights about the relationship between customers' age and their attributes and behaviors:\n",
    "- `HAS_CHILDREN` (r = -0.1457): There is a negative correlation with having children, indicating that younger customers are more likely to have children.\n",
    "- `LENGTH_OF_RESIDENCE` (r = 0.2824): Age shows the strongest positive correlation with the length of residence. Older customers are likely to have lived in their current residence longer, which may be due to stability and less need to move.\n",
    "- `MARITAL_STATUS_Married` (r = 0.1334): A moderate positive correlation with marital status suggests older customers are more likely to be married."
   ]
  },
  {
   "cell_type": "markdown",
   "metadata": {},
   "source": [
    "#### Analysis of Numerical Features"
   ]
  },
  {
   "cell_type": "code",
   "metadata": {
    "ExecuteTime": {
     "end_time": "2025-03-23T21:03:26.448802Z",
     "start_time": "2025-03-23T21:03:26.443939Z"
    }
   },
   "source": "df.info()",
   "outputs": [
    {
     "name": "stdout",
     "output_type": "stream",
     "text": [
      "<class 'pandas.core.frame.DataFrame'>\n",
      "Index: 1766003 entries, 0 to 2112554\n",
      "Data columns (total 23 columns):\n",
      " #   Column                     Dtype         \n",
      "---  ------                     -----         \n",
      " 0   INDIVIDUAL_ID              float64       \n",
      " 1   ADDRESS_ID                 float64       \n",
      " 2   CUST_ORIG_DATE             datetime64[ns]\n",
      " 3   DATE_OF_BIRTH              datetime64[ns]\n",
      " 4   SOCIAL_SECURITY_NUMBER     object        \n",
      " 5   CUST_START_DATE            datetime64[ns]\n",
      " 6   CURR_ANN_AMT_CAR           float64       \n",
      " 7   CURR_ANN_AMT_HEALTH        float64       \n",
      " 8   CURR_ANN_AMT_HOUSE         int64         \n",
      " 9   INCOME                     float64       \n",
      " 10  HAS_CHILDREN               float64       \n",
      " 11  LENGTH_OF_RESIDENCE        float64       \n",
      " 12  HOME_MARKET_VALUE          object        \n",
      " 13  HOME_OWNER                 int64         \n",
      " 14  COLLEGE_DEGREE             int64         \n",
      " 15  GOOD_CREDIT                int64         \n",
      " 16  ADVANCED_STUDIES           object        \n",
      " 17  MARITAL_STATUS_Married     bool          \n",
      " 18  MARITAL_STATUS_Single      bool          \n",
      " 19  MARITAL_STATUS_Unknown     bool          \n",
      " 20  HOME_MARKET_VALUE_NUMERIC  float64       \n",
      " 21  ADVANCED_STUDIES_BINARY    int64         \n",
      " 22  AGE                        int32         \n",
      "dtypes: bool(3), datetime64[ns](3), float64(8), int32(1), int64(5), object(3)\n",
      "memory usage: 281.3+ MB\n"
     ]
    }
   ],
   "execution_count": 75
  },
  {
   "cell_type": "code",
   "metadata": {
    "ExecuteTime": {
     "end_time": "2025-03-23T21:03:27.408952Z",
     "start_time": "2025-03-23T21:03:26.671545Z"
    }
   },
   "source": [
    "df.describe().round(2) "
   ],
   "outputs": [
    {
     "data": {
      "text/plain": [
       "       INDIVIDUAL_ID    ADDRESS_ID                 CUST_ORIG_DATE  \\\n",
       "count   1.766003e+06  1.766003e+06                        1766003   \n",
       "mean    2.213018e+11  5.213007e+11  2013-03-18 11:43:17.228430336   \n",
       "min     2.213000e+11  5.213000e+11            2005-09-11 00:00:00   \n",
       "25%     2.213009e+11  5.213003e+11            2005-09-11 00:00:00   \n",
       "50%     2.213018e+11  5.213007e+11            2013-01-09 00:00:00   \n",
       "75%     2.213027e+11  5.213010e+11            2019-04-01 00:00:00   \n",
       "max     2.213033e+11  5.213015e+11            2022-11-12 00:00:00   \n",
       "std     9.915609e+05  4.169147e+05                            NaN   \n",
       "\n",
       "                       DATE_OF_BIRTH                CUST_START_DATE  \\\n",
       "count                        1766003                        1766003   \n",
       "mean   1967-05-14 19:50:04.635212976  2013-05-20 13:42:20.920939264   \n",
       "min              1925-01-06 00:00:00            2005-09-11 00:00:00   \n",
       "25%              1960-01-27 00:00:00            2005-09-11 00:00:00   \n",
       "50%              1967-07-07 00:00:00            2013-06-08 00:00:00   \n",
       "75%              1976-09-24 00:00:00            2019-06-15 00:00:00   \n",
       "max              1999-06-19 00:00:00            2025-03-23 00:00:00   \n",
       "std                              NaN                            NaN   \n",
       "\n",
       "       CURR_ANN_AMT_CAR  CURR_ANN_AMT_HEALTH  CURR_ANN_AMT_HOUSE      INCOME  \\\n",
       "count        1766003.00           1766003.00          1766003.00  1766003.00   \n",
       "mean            1437.10               574.95              431.14   121583.07   \n",
       "min              286.96              -351.62               90.00     7500.00   \n",
       "25%             1270.16               446.54              379.00    71250.00   \n",
       "50%             1431.99               574.47              429.00   120558.26   \n",
       "75%             1598.82               702.76              481.00   131250.00   \n",
       "max             2769.37              1617.53              866.00   375000.00   \n",
       "std              245.04               189.89               76.40    75613.91   \n",
       "\n",
       "       HAS_CHILDREN  LENGTH_OF_RESIDENCE  HOME_OWNER  COLLEGE_DEGREE  \\\n",
       "count    1766003.00           1766003.00  1766003.00      1766003.00   \n",
       "mean           0.48                 7.44        0.76            0.31   \n",
       "min            0.00                 0.00        0.00            0.00   \n",
       "25%            0.00                 3.00        1.00            0.00   \n",
       "50%            0.00                 6.80        1.00            0.00   \n",
       "75%            1.00                12.00        1.00            1.00   \n",
       "max            6.00                15.00        1.00            1.00   \n",
       "std            0.59                 4.87        0.42            0.46   \n",
       "\n",
       "       GOOD_CREDIT  HOME_MARKET_VALUE_NUMERIC  ADVANCED_STUDIES_BINARY  \\\n",
       "count   1766003.00                 1766003.00               1766003.00   \n",
       "mean          0.83                  132985.10                     0.26   \n",
       "min           0.00                   12999.50                     0.00   \n",
       "25%           1.00                   87499.50                     0.00   \n",
       "50%           1.00                  112499.50                     0.00   \n",
       "75%           1.00                  162499.50                     1.00   \n",
       "max           1.00                 1000000.00                     1.00   \n",
       "std           0.38                   93297.45                     0.44   \n",
       "\n",
       "              AGE  \n",
       "count  1766003.00  \n",
       "mean        58.15  \n",
       "min         26.00  \n",
       "25%         49.00  \n",
       "50%         58.00  \n",
       "75%         65.00  \n",
       "max        100.00  \n",
       "std         13.70  "
      ],
      "text/html": [
       "<div>\n",
       "<style scoped>\n",
       "    .dataframe tbody tr th:only-of-type {\n",
       "        vertical-align: middle;\n",
       "    }\n",
       "\n",
       "    .dataframe tbody tr th {\n",
       "        vertical-align: top;\n",
       "    }\n",
       "\n",
       "    .dataframe thead th {\n",
       "        text-align: right;\n",
       "    }\n",
       "</style>\n",
       "<table border=\"1\" class=\"dataframe\">\n",
       "  <thead>\n",
       "    <tr style=\"text-align: right;\">\n",
       "      <th></th>\n",
       "      <th>INDIVIDUAL_ID</th>\n",
       "      <th>ADDRESS_ID</th>\n",
       "      <th>CUST_ORIG_DATE</th>\n",
       "      <th>DATE_OF_BIRTH</th>\n",
       "      <th>CUST_START_DATE</th>\n",
       "      <th>CURR_ANN_AMT_CAR</th>\n",
       "      <th>CURR_ANN_AMT_HEALTH</th>\n",
       "      <th>CURR_ANN_AMT_HOUSE</th>\n",
       "      <th>INCOME</th>\n",
       "      <th>HAS_CHILDREN</th>\n",
       "      <th>LENGTH_OF_RESIDENCE</th>\n",
       "      <th>HOME_OWNER</th>\n",
       "      <th>COLLEGE_DEGREE</th>\n",
       "      <th>GOOD_CREDIT</th>\n",
       "      <th>HOME_MARKET_VALUE_NUMERIC</th>\n",
       "      <th>ADVANCED_STUDIES_BINARY</th>\n",
       "      <th>AGE</th>\n",
       "    </tr>\n",
       "  </thead>\n",
       "  <tbody>\n",
       "    <tr>\n",
       "      <th>count</th>\n",
       "      <td>1.766003e+06</td>\n",
       "      <td>1.766003e+06</td>\n",
       "      <td>1766003</td>\n",
       "      <td>1766003</td>\n",
       "      <td>1766003</td>\n",
       "      <td>1766003.00</td>\n",
       "      <td>1766003.00</td>\n",
       "      <td>1766003.00</td>\n",
       "      <td>1766003.00</td>\n",
       "      <td>1766003.00</td>\n",
       "      <td>1766003.00</td>\n",
       "      <td>1766003.00</td>\n",
       "      <td>1766003.00</td>\n",
       "      <td>1766003.00</td>\n",
       "      <td>1766003.00</td>\n",
       "      <td>1766003.00</td>\n",
       "      <td>1766003.00</td>\n",
       "    </tr>\n",
       "    <tr>\n",
       "      <th>mean</th>\n",
       "      <td>2.213018e+11</td>\n",
       "      <td>5.213007e+11</td>\n",
       "      <td>2013-03-18 11:43:17.228430336</td>\n",
       "      <td>1967-05-14 19:50:04.635212976</td>\n",
       "      <td>2013-05-20 13:42:20.920939264</td>\n",
       "      <td>1437.10</td>\n",
       "      <td>574.95</td>\n",
       "      <td>431.14</td>\n",
       "      <td>121583.07</td>\n",
       "      <td>0.48</td>\n",
       "      <td>7.44</td>\n",
       "      <td>0.76</td>\n",
       "      <td>0.31</td>\n",
       "      <td>0.83</td>\n",
       "      <td>132985.10</td>\n",
       "      <td>0.26</td>\n",
       "      <td>58.15</td>\n",
       "    </tr>\n",
       "    <tr>\n",
       "      <th>min</th>\n",
       "      <td>2.213000e+11</td>\n",
       "      <td>5.213000e+11</td>\n",
       "      <td>2005-09-11 00:00:00</td>\n",
       "      <td>1925-01-06 00:00:00</td>\n",
       "      <td>2005-09-11 00:00:00</td>\n",
       "      <td>286.96</td>\n",
       "      <td>-351.62</td>\n",
       "      <td>90.00</td>\n",
       "      <td>7500.00</td>\n",
       "      <td>0.00</td>\n",
       "      <td>0.00</td>\n",
       "      <td>0.00</td>\n",
       "      <td>0.00</td>\n",
       "      <td>0.00</td>\n",
       "      <td>12999.50</td>\n",
       "      <td>0.00</td>\n",
       "      <td>26.00</td>\n",
       "    </tr>\n",
       "    <tr>\n",
       "      <th>25%</th>\n",
       "      <td>2.213009e+11</td>\n",
       "      <td>5.213003e+11</td>\n",
       "      <td>2005-09-11 00:00:00</td>\n",
       "      <td>1960-01-27 00:00:00</td>\n",
       "      <td>2005-09-11 00:00:00</td>\n",
       "      <td>1270.16</td>\n",
       "      <td>446.54</td>\n",
       "      <td>379.00</td>\n",
       "      <td>71250.00</td>\n",
       "      <td>0.00</td>\n",
       "      <td>3.00</td>\n",
       "      <td>1.00</td>\n",
       "      <td>0.00</td>\n",
       "      <td>1.00</td>\n",
       "      <td>87499.50</td>\n",
       "      <td>0.00</td>\n",
       "      <td>49.00</td>\n",
       "    </tr>\n",
       "    <tr>\n",
       "      <th>50%</th>\n",
       "      <td>2.213018e+11</td>\n",
       "      <td>5.213007e+11</td>\n",
       "      <td>2013-01-09 00:00:00</td>\n",
       "      <td>1967-07-07 00:00:00</td>\n",
       "      <td>2013-06-08 00:00:00</td>\n",
       "      <td>1431.99</td>\n",
       "      <td>574.47</td>\n",
       "      <td>429.00</td>\n",
       "      <td>120558.26</td>\n",
       "      <td>0.00</td>\n",
       "      <td>6.80</td>\n",
       "      <td>1.00</td>\n",
       "      <td>0.00</td>\n",
       "      <td>1.00</td>\n",
       "      <td>112499.50</td>\n",
       "      <td>0.00</td>\n",
       "      <td>58.00</td>\n",
       "    </tr>\n",
       "    <tr>\n",
       "      <th>75%</th>\n",
       "      <td>2.213027e+11</td>\n",
       "      <td>5.213010e+11</td>\n",
       "      <td>2019-04-01 00:00:00</td>\n",
       "      <td>1976-09-24 00:00:00</td>\n",
       "      <td>2019-06-15 00:00:00</td>\n",
       "      <td>1598.82</td>\n",
       "      <td>702.76</td>\n",
       "      <td>481.00</td>\n",
       "      <td>131250.00</td>\n",
       "      <td>1.00</td>\n",
       "      <td>12.00</td>\n",
       "      <td>1.00</td>\n",
       "      <td>1.00</td>\n",
       "      <td>1.00</td>\n",
       "      <td>162499.50</td>\n",
       "      <td>1.00</td>\n",
       "      <td>65.00</td>\n",
       "    </tr>\n",
       "    <tr>\n",
       "      <th>max</th>\n",
       "      <td>2.213033e+11</td>\n",
       "      <td>5.213015e+11</td>\n",
       "      <td>2022-11-12 00:00:00</td>\n",
       "      <td>1999-06-19 00:00:00</td>\n",
       "      <td>2025-03-23 00:00:00</td>\n",
       "      <td>2769.37</td>\n",
       "      <td>1617.53</td>\n",
       "      <td>866.00</td>\n",
       "      <td>375000.00</td>\n",
       "      <td>6.00</td>\n",
       "      <td>15.00</td>\n",
       "      <td>1.00</td>\n",
       "      <td>1.00</td>\n",
       "      <td>1.00</td>\n",
       "      <td>1000000.00</td>\n",
       "      <td>1.00</td>\n",
       "      <td>100.00</td>\n",
       "    </tr>\n",
       "    <tr>\n",
       "      <th>std</th>\n",
       "      <td>9.915609e+05</td>\n",
       "      <td>4.169147e+05</td>\n",
       "      <td>NaN</td>\n",
       "      <td>NaN</td>\n",
       "      <td>NaN</td>\n",
       "      <td>245.04</td>\n",
       "      <td>189.89</td>\n",
       "      <td>76.40</td>\n",
       "      <td>75613.91</td>\n",
       "      <td>0.59</td>\n",
       "      <td>4.87</td>\n",
       "      <td>0.42</td>\n",
       "      <td>0.46</td>\n",
       "      <td>0.38</td>\n",
       "      <td>93297.45</td>\n",
       "      <td>0.44</td>\n",
       "      <td>13.70</td>\n",
       "    </tr>\n",
       "  </tbody>\n",
       "</table>\n",
       "</div>"
      ]
     },
     "execution_count": 76,
     "metadata": {},
     "output_type": "execute_result"
    }
   ],
   "execution_count": 76
  },
  {
   "cell_type": "markdown",
   "metadata": {},
   "source": [
    "Summary Statistics Overview\n",
    "\n",
    "The `.describe()` method provides a quick statistical summary of the numerical variables within our dataset. This includes key metrics such as count, mean, standard deviation, minimum and maximum values, and the quartiles for each numerical variable.\n",
    "\n",
    "Key Observations:\n",
    "\n",
    "- **Central Tendency and Spread**: The mean and standard deviation for variables such as `CURR_ANN_AMT_CAR`, `CURR_ANN_AMT_HEALTH`, `CURR_ANN_AMT_HOUSE`, and `INCOME` give us an initial understanding of the average amounts paid for different insurance types and the income levels of our customer base, along with the variability in these amounts.\n",
    "\n",
    "- **Income Distribution**: Given the wide range in `INCOME`, from a minimum of $7,500 to a maximum of $375,000, we observe significant economic diversity among our customers. The standard deviation provides insight into the spread of income levels.\n",
    "\n",
    "- **Insurance Payments**: The minimum and maximum values for `CURR_ANN_AMT_CAR`, `CURR_ANN_AMT_HEALTH`, and `CURR_ANN_AMT_HOUSE` help identify the range of insurance payments, indicating the variability in policy costs among our customers.\n",
    "\n",
    "- **Age Distribution**: The `age` variable's statistics are crucial for understanding the demographic profile of our customer base, which can influence insurance needs and risk profiles.\n",
    "\n",
    " Implications for Business Case:\n",
    "\n",
    "Understanding these statistical measures helps in identifying potential segments within our customer base that may require tailored insurance products or marketing strategies. It also lays the groundwork for deeper analysis, including correlation analysis, customer segmentation, and predictive modeling, aimed at reducing churn and increasing customer lifetime value."
   ]
  },
  {
   "cell_type": "code",
   "metadata": {
    "ExecuteTime": {
     "end_time": "2025-03-23T21:03:27.658948Z",
     "start_time": "2025-03-23T21:03:27.653913Z"
    }
   },
   "source": [
    "# Filter the DataFrame for negative values in the health insurance column\n",
    "negative_health_values = df[df['CURR_ANN_AMT_HEALTH'] < 0]\n",
    "\n",
    "# Display the count of negative values\n",
    "print(f\"Count of negative health insurance values: {negative_health_values.shape[0]}\")"
   ],
   "outputs": [
    {
     "name": "stdout",
     "output_type": "stream",
     "text": [
      "Count of negative health insurance values: 2050\n"
     ]
    }
   ],
   "execution_count": 77
  },
  {
   "cell_type": "markdown",
   "metadata": {},
   "source": [
    "Given the context, negative values in this field are impossible and likely indicate data entry errors or processing anomalies.\n",
    "To maintain the integrity of our analysis and the accuracy of subsequent models, we must drop these records from our dataset before proceeding further."
   ]
  },
  {
   "cell_type": "code",
   "metadata": {
    "ExecuteTime": {
     "end_time": "2025-03-23T21:03:27.938060Z",
     "start_time": "2025-03-23T21:03:27.788744Z"
    }
   },
   "source": [
    "#drop the rows with negative values in the health insurance column\n",
    "df = df[df['CURR_ANN_AMT_HEALTH'] >= 0]"
   ],
   "outputs": [],
   "execution_count": 78
  },
  {
   "cell_type": "code",
   "metadata": {
    "ExecuteTime": {
     "end_time": "2025-03-23T21:03:29.806539Z",
     "start_time": "2025-03-23T21:03:28.012887Z"
    }
   },
   "source": [
    "# Boxplot for CURR_ANN_AMT_CAR\n",
    "plt.figure(figsize=(10, 6))\n",
    "sns.boxplot(x=df['CURR_ANN_AMT_CAR'])\n",
    "plt.title('Boxplot for Annual Car Insurance Amounts')\n",
    "plt.show()"
   ],
   "outputs": [
    {
     "data": {
      "text/plain": [
       "<Figure size 1000x600 with 1 Axes>"
      ],
      "image/png": "[encoded data removed]"
     },
     "metadata": {},
     "output_type": "display_data"
    }
   ],
   "execution_count": 79
  },
  {
   "cell_type": "code",
   "metadata": {
    "ExecuteTime": {
     "end_time": "2025-03-23T21:03:30.086644Z",
     "start_time": "2025-03-23T21:03:30.027400Z"
    }
   },
   "source": [
    "# Calculate IQR\n",
    "Q1 = df['CURR_ANN_AMT_CAR'].quantile(0.25)\n",
    "Q3 = df['CURR_ANN_AMT_CAR'].quantile(0.75)\n",
    "IQR = Q3 - Q1\n",
    "\n",
    "# Define bounds for outliers\n",
    "lower_bound = Q1 - 1.5 * IQR\n",
    "upper_bound = Q3 + 1.5 * IQR\n",
    "\n",
    "outliers = df[(df['CURR_ANN_AMT_CAR'] < lower_bound) | (df['CURR_ANN_AMT_CAR'] > upper_bound)]\n",
    "# Identify outliers\n",
    "print(f\"Number of outliers: {outliers.shape[0]}\")\n",
    "outliers['CURR_ANN_AMT_CAR'].describe().round(3)"
   ],
   "outputs": [
    {
     "name": "stdout",
     "output_type": "stream",
     "text": [
      "Number of outliers: 14028\n"
     ]
    },
    {
     "data": {
      "text/plain": [
       "count    14028.000\n",
       "mean      1718.534\n",
       "std        686.245\n",
       "min        305.687\n",
       "25%        760.734\n",
       "50%       2120.549\n",
       "75%       2183.808\n",
       "max       2769.374\n",
       "Name: CURR_ANN_AMT_CAR, dtype: float64"
      ]
     },
     "execution_count": 80,
     "metadata": {},
     "output_type": "execute_result"
    }
   ],
   "execution_count": 80
  },
  {
   "cell_type": "code",
   "metadata": {
    "ExecuteTime": {
     "end_time": "2025-03-23T21:03:30.513337Z",
     "start_time": "2025-03-23T21:03:30.348716Z"
    }
   },
   "source": [
    "#let's make a copy of the dataframe before we proceed\n",
    "df2 = df.copy()"
   ],
   "outputs": [],
   "execution_count": 81
  },
  {
   "cell_type": "code",
   "metadata": {
    "ExecuteTime": {
     "end_time": "2025-03-23T21:03:32.971900Z",
     "start_time": "2025-03-23T21:03:30.553483Z"
    }
   },
   "source": [
    "plt.figure(figsize=(10, 4))\n",
    "sns.histplot(df['CURR_ANN_AMT_CAR'], binwidth=15, kde=True)  \n",
    "plt.title('Distribution of CURR_ANN_AMT_CAR')  \n",
    "plt.xlabel('CURR_ANN_AMT_CAR') \n",
    "plt.ylabel('Frequency')\n",
    "plt.show()"
   ],
   "outputs": [
    {
     "data": {
      "text/plain": [
       "<Figure size 1000x400 with 1 Axes>"
      ],
      "image/png": "[encoded data removed]"
     },
     "metadata": {},
     "output_type": "display_data"
    }
   ],
   "execution_count": 82
  },
  {
   "cell_type": "markdown",
   "metadata": {},
   "source": [
    "Given the business context of ABC Insurance, where high annual amounts for car insurance might reflect premium policies for luxury vehicles or high-risk coverage, it is important to preserve the outliers in the dataset. These values, while significantly higher than the average, are plausible and represent a segment of the customer base that could be crucial for understanding the full spectrum of customer behavior and preferences."
   ]
  },
  {
   "cell_type": "code",
   "metadata": {
    "ExecuteTime": {
     "end_time": "2025-03-23T21:03:34.743434Z",
     "start_time": "2025-03-23T21:03:32.996950Z"
    }
   },
   "source": [
    "# Boxplot for CURR_ANN_AMT_CAR\n",
    "plt.figure(figsize=(10, 6))\n",
    "sns.boxplot(x=df['CURR_ANN_AMT_HEALTH'])\n",
    "plt.title('Boxplot for Annual Health Insurance Amounts')\n",
    "plt.show()"
   ],
   "outputs": [
    {
     "data": {
      "text/plain": [
       "<Figure size 1000x600 with 1 Axes>"
      ],
      "image/png": "[encoded data removed]"
     },
     "metadata": {},
     "output_type": "display_data"
    }
   ],
   "execution_count": 83
  },
  {
   "cell_type": "code",
   "metadata": {
    "ExecuteTime": {
     "end_time": "2025-03-23T21:03:35.137058Z",
     "start_time": "2025-03-23T21:03:35.078750Z"
    }
   },
   "source": [
    "# Calculate IQR\n",
    "Q1 = df['CURR_ANN_AMT_HEALTH'].quantile(0.25)\n",
    "Q3 = df['CURR_ANN_AMT_HEALTH'].quantile(0.75)\n",
    "IQR = Q3 - Q1\n",
    "\n",
    "# Define bounds for outliers\n",
    "lower_bound = Q1 - 1.5 * IQR\n",
    "upper_bound = Q3 + 1.5 * IQR\n",
    "\n",
    "outliers = df[(df['CURR_ANN_AMT_HEALTH'] < lower_bound) | (df['CURR_ANN_AMT_HEALTH'] > upper_bound)]\n",
    "# Identify outliers\n",
    "print(f\"Number of outliers: {outliers.shape[0]}\")\n",
    "outliers['CURR_ANN_AMT_HEALTH'].describe().round(3)"
   ],
   "outputs": [
    {
     "name": "stdout",
     "output_type": "stream",
     "text": [
      "Number of outliers: 10476\n"
     ]
    },
    {
     "data": {
      "text/plain": [
       "count    10476.000\n",
       "mean       726.297\n",
       "std        540.028\n",
       "min          0.058\n",
       "25%         48.384\n",
       "50%       1100.411\n",
       "75%       1142.843\n",
       "max       1617.531\n",
       "Name: CURR_ANN_AMT_HEALTH, dtype: float64"
      ]
     },
     "execution_count": 84,
     "metadata": {},
     "output_type": "execute_result"
    }
   ],
   "execution_count": 84
  },
  {
   "cell_type": "code",
   "metadata": {
    "ExecuteTime": {
     "end_time": "2025-03-23T21:03:37.999947Z",
     "start_time": "2025-03-23T21:03:35.503431Z"
    }
   },
   "source": [
    "plt.figure(figsize=(10, 4))\n",
    "sns.histplot(df['CURR_ANN_AMT_HEALTH'], binwidth=15, kde=True)  \n",
    "plt.title('Distribution of CURR_ANN_AMT_HEALTH')  \n",
    "plt.xlabel('CURR_ANN_AMT_HEALTH') \n",
    "plt.ylabel('Frequency')\n",
    "plt.show()"
   ],
   "outputs": [
    {
     "data": {
      "text/plain": [
       "<Figure size 1000x400 with 1 Axes>"
      ],
      "image/png": "[encoded data removed]"
     },
     "metadata": {},
     "output_type": "display_data"
    }
   ],
   "execution_count": 85
  },
  {
   "cell_type": "markdown",
   "metadata": {},
   "source": [
    "In the context of health insurance, high annual premiums can be expected due to factors like customer age, health conditions, chosen coverage, and other risk factors. These outliers could represent customers with higher coverage plans and therefore should not be discarded without careful consideration as they may provide valuable insights into customer behavior and product preferences."
   ]
  },
  {
   "cell_type": "code",
   "metadata": {
    "ExecuteTime": {
     "end_time": "2025-03-23T21:03:39.691321Z",
     "start_time": "2025-03-23T21:03:38.034378Z"
    }
   },
   "source": [
    "# Boxplot for CURR_ANN_AMT_CAR\n",
    "plt.figure(figsize=(10, 6))\n",
    "sns.boxplot(x=df['CURR_ANN_AMT_HOUSE'])\n",
    "plt.title('Boxplot for Annual House Insurance Amounts')\n",
    "plt.show()"
   ],
   "outputs": [
    {
     "data": {
      "text/plain": [
       "<Figure size 1000x600 with 1 Axes>"
      ],
      "image/png": "[encoded data removed]"
     },
     "metadata": {},
     "output_type": "display_data"
    }
   ],
   "execution_count": 86
  },
  {
   "cell_type": "code",
   "metadata": {
    "ExecuteTime": {
     "end_time": "2025-03-23T21:03:39.795309Z",
     "start_time": "2025-03-23T21:03:39.742245Z"
    }
   },
   "source": [
    "# Calculate IQR\n",
    "Q1 = df['CURR_ANN_AMT_HOUSE'].quantile(0.25)\n",
    "Q3 = df['CURR_ANN_AMT_HOUSE'].quantile(0.75)\n",
    "IQR = Q3 - Q1\n",
    "\n",
    "# Define bounds for outliers\n",
    "lower_bound = Q1 - 1.5 * IQR\n",
    "upper_bound = Q3 + 1.5 * IQR\n",
    "\n",
    "outliers = df[(df['CURR_ANN_AMT_HOUSE'] < lower_bound) | (df['CURR_ANN_AMT_HOUSE'] > upper_bound)]\n",
    "# Identify outliers\n",
    "print(f\"Number of outliers: {outliers.shape[0]}\")\n",
    "outliers['CURR_ANN_AMT_HOUSE'].describe().round(3)"
   ],
   "outputs": [
    {
     "name": "stdout",
     "output_type": "stream",
     "text": [
      "Number of outliers: 13270\n"
     ]
    },
    {
     "data": {
      "text/plain": [
       "count    13270.000\n",
       "mean       536.325\n",
       "std        207.902\n",
       "min         92.000\n",
       "25%        222.000\n",
       "50%        647.000\n",
       "75%        668.000\n",
       "max        866.000\n",
       "Name: CURR_ANN_AMT_HOUSE, dtype: float64"
      ]
     },
     "execution_count": 87,
     "metadata": {},
     "output_type": "execute_result"
    }
   ],
   "execution_count": 87
  },
  {
   "cell_type": "code",
   "metadata": {
    "ExecuteTime": {
     "end_time": "2025-03-23T21:03:42.634511Z",
     "start_time": "2025-03-23T21:03:40.239080Z"
    }
   },
   "source": [
    "plt.figure(figsize=(10, 4))\n",
    "sns.histplot(df['CURR_ANN_AMT_HOUSE'], binwidth=15, kde=True)  \n",
    "plt.title('Distribution of CURR_ANN_AMT_HOUSE') \n",
    "plt.xlabel('CURR_ANN_AMT_HOUSE')  \n",
    "plt.ylabel('Frequency')\n",
    "plt.show()"
   ],
   "outputs": [
    {
     "data": {
      "text/plain": [
       "<Figure size 1000x400 with 1 Axes>"
      ],
      "image/png": "[encoded data removed]"
     },
     "metadata": {},
     "output_type": "display_data"
    }
   ],
   "execution_count": 88
  },
  {
   "cell_type": "markdown",
   "metadata": {},
   "source": [
    "The summary statistics for the outliers do not suggest extreme values when considering the insurance context. The maximum value is 866, which is not too far from the third quartile at 668. This indicates that the outliers might not be errors or extreme anomalies, but rather the higher end of a valid range for house insurance amounts."
   ]
  },
  {
   "cell_type": "code",
   "metadata": {
    "ExecuteTime": {
     "end_time": "2025-03-23T21:03:42.702931Z",
     "start_time": "2025-03-23T21:03:42.690586Z"
    }
   },
   "source": [
    "#get the mosst common values in the CURR_ANN_AMT_HOUSE column\n",
    "common_house_insurance = df['CURR_ANN_AMT_HOUSE'].value_counts().head(10)\n",
    "print(\"Most Common House Insurance Amounts and their Counts:\")\n",
    "print(common_house_insurance)"
   ],
   "outputs": [
    {
     "name": "stdout",
     "output_type": "stream",
     "text": [
      "Most Common House Insurance Amounts and their Counts:\n",
      "CURR_ANN_AMT_HOUSE\n",
      "428    9469\n",
      "423    9374\n",
      "431    9362\n",
      "424    9339\n",
      "416    9335\n",
      "419    9319\n",
      "427    9311\n",
      "417    9307\n",
      "438    9305\n",
      "425    9285\n",
      "Name: count, dtype: int64\n"
     ]
    }
   ],
   "execution_count": 89
  },
  {
   "cell_type": "code",
   "metadata": {
    "ExecuteTime": {
     "end_time": "2025-03-23T21:03:44.574174Z",
     "start_time": "2025-03-23T21:03:42.787745Z"
    }
   },
   "source": [
    "# Boxplot for CURR_ANN_AMT_CAR\n",
    "plt.figure(figsize=(10, 6))\n",
    "sns.boxplot(x=df['INCOME']) \n",
    "plt.title('Boxplot for Annual Income Amounts')\n",
    "plt.show()"
   ],
   "outputs": [
    {
     "data": {
      "text/plain": [
       "<Figure size 1000x600 with 1 Axes>"
      ],
      "image/png": "[encoded data removed]"
     },
     "metadata": {},
     "output_type": "display_data"
    }
   ],
   "execution_count": 90
  },
  {
   "cell_type": "code",
   "metadata": {
    "ExecuteTime": {
     "end_time": "2025-03-23T21:03:45.332232Z",
     "start_time": "2025-03-23T21:03:45.261767Z"
    }
   },
   "source": [
    "# Calculate IQR\n",
    "Q1 = df['INCOME'].quantile(0.25)\n",
    "Q3 = df['INCOME'].quantile(0.75)\n",
    "IQR = Q3 - Q1\n",
    "\n",
    "# Define bounds for outliers\n",
    "lower_bound = Q1 - 1.5 * IQR\n",
    "upper_bound = Q3 + 1.5 * IQR\n",
    "\n",
    "outliers = df[(df['INCOME'] < lower_bound) | (df['INCOME'] > upper_bound)]\n",
    "# Identify outliers\n",
    "print(f\"Number of outliers: {outliers.shape[0]}\")\n",
    "outliers['INCOME'].describe().round(3)"
   ],
   "outputs": [
    {
     "name": "stdout",
     "output_type": "stream",
     "text": [
      "Number of outliers: 117981\n"
     ]
    },
    {
     "data": {
      "text/plain": [
       "count    117981.000\n",
       "mean     344969.264\n",
       "std       44711.541\n",
       "min      243750.000\n",
       "25%      337500.000\n",
       "50%      375000.000\n",
       "75%      375000.000\n",
       "max      375000.000\n",
       "Name: INCOME, dtype: float64"
      ]
     },
     "execution_count": 91,
     "metadata": {},
     "output_type": "execute_result"
    }
   ],
   "execution_count": 91
  },
  {
   "cell_type": "code",
   "metadata": {
    "ExecuteTime": {
     "end_time": "2025-03-23T21:03:45.512449Z",
     "start_time": "2025-03-23T21:03:45.463591Z"
    }
   },
   "source": [
    "df['INCOME'].describe().round(2)"
   ],
   "outputs": [
    {
     "data": {
      "text/plain": [
       "count    1763953.00\n",
       "mean      121593.11\n",
       "std        75620.78\n",
       "min         7500.00\n",
       "25%        71250.00\n",
       "50%       120558.26\n",
       "75%       131250.00\n",
       "max       375000.00\n",
       "Name: INCOME, dtype: float64"
      ]
     },
     "execution_count": 92,
     "metadata": {},
     "output_type": "execute_result"
    }
   ],
   "execution_count": 92
  },
  {
   "cell_type": "code",
   "metadata": {
    "ExecuteTime": {
     "end_time": "2025-03-23T21:03:45.622474Z",
     "start_time": "2025-03-23T21:03:45.608070Z"
    }
   },
   "source": [
    "#get the mosst common values in the CURR_ANN_AMT_HOUSE column\n",
    "common_income_insurance = df['INCOME'].value_counts().head(10)\n",
    "print(common_income_insurance)"
   ],
   "outputs": [
    {
     "name": "stdout",
     "output_type": "stream",
     "text": [
      "INCOME\n",
      "120558.264    298228\n",
      "131250.000    287026\n",
      "187500.000    222881\n",
      "105000.000    179024\n",
      "93750.000      95546\n",
      "71250.000      82004\n",
      "86250.000      69837\n",
      "375000.000     69269\n",
      "56250.000      68228\n",
      "63750.000      54272\n",
      "Name: count, dtype: int64\n"
     ]
    }
   ],
   "execution_count": 93
  },
  {
   "cell_type": "code",
   "metadata": {
    "ExecuteTime": {
     "end_time": "2025-03-23T21:03:48.349366Z",
     "start_time": "2025-03-23T21:03:45.696223Z"
    }
   },
   "source": [
    "# Plotting the distribution of income using seaborn\n",
    "plt.figure(figsize=(10, 6))\n",
    "sns.histplot(df['INCOME'], bins=50, kde=True)\n",
    "plt.title('Distribution of INCOME')\n",
    "plt.xlabel('INCOME')\n",
    "plt.ylabel('Frequency')\n",
    "plt.show()"
   ],
   "outputs": [
    {
     "data": {
      "text/plain": [
       "<Figure size 1000x600 with 1 Axes>"
      ],
      "image/png": "[encoded data removed]"
     },
     "metadata": {},
     "output_type": "display_data"
    }
   ],
   "execution_count": 94
  },
  {
   "cell_type": "markdown",
   "metadata": {},
   "source": [
    "The income data exhibits a right-skewed distribution, indicating that a majority of the population earns below the mean income level, with a smaller fraction receiving significantly higher incomes. Given the nature of income distribution and the possibility that the observed outliers represent actual high-income earners, such as business leaders or specialists, these outliers will be retained for analysis. This approach ensures that our understanding of income dynamics remains grounded in reality, reflecting the true economic diversity within the dataset."
   ]
  },
  {
   "cell_type": "code",
   "metadata": {
    "ExecuteTime": {
     "end_time": "2025-03-23T21:03:48.423115Z",
     "start_time": "2025-03-23T21:03:48.377349Z"
    }
   },
   "source": [
    "df['HOME_MARKET_VALUE_NUMERIC'].describe().round(2)"
   ],
   "outputs": [
    {
     "data": {
      "text/plain": [
       "count    1763953.00\n",
       "mean      132987.70\n",
       "std        93302.72\n",
       "min        12999.50\n",
       "25%        87499.50\n",
       "50%       112499.50\n",
       "75%       162499.50\n",
       "max      1000000.00\n",
       "Name: HOME_MARKET_VALUE_NUMERIC, dtype: float64"
      ]
     },
     "execution_count": 95,
     "metadata": {},
     "output_type": "execute_result"
    }
   ],
   "execution_count": 95
  },
  {
   "cell_type": "code",
   "metadata": {
    "ExecuteTime": {
     "end_time": "2025-03-23T21:03:50.298760Z",
     "start_time": "2025-03-23T21:03:48.508124Z"
    }
   },
   "source": [
    "# Boxplot for CURR_ANN_AMT_CAR\n",
    "plt.figure(figsize=(10, 6))\n",
    "sns.boxplot(x=df['HOME_MARKET_VALUE_NUMERIC']) \n",
    "plt.title('Boxplot for Home Market Value Numeric')\n",
    "plt.show()"
   ],
   "outputs": [
    {
     "data": {
      "text/plain": [
       "<Figure size 1000x600 with 1 Axes>"
      ],
      "image/png": "[encoded data removed]"
     },
     "metadata": {},
     "output_type": "display_data"
    }
   ],
   "execution_count": 96
  },
  {
   "cell_type": "code",
   "metadata": {
    "ExecuteTime": {
     "end_time": "2025-03-23T21:03:50.411048Z",
     "start_time": "2025-03-23T21:03:50.343141Z"
    }
   },
   "source": [
    "# Calculate IQR for HOME_MARKET_VALUE_NUMERIC\n",
    "Q1 = df['HOME_MARKET_VALUE_NUMERIC'].quantile(0.25)\n",
    "Q3 = df['HOME_MARKET_VALUE_NUMERIC'].quantile(0.75)\n",
    "IQR = Q3 - Q1\n",
    "\n",
    "# Define bounds for outliers\n",
    "lower_bound = Q1 - 1.5 * IQR\n",
    "upper_bound = Q3 + 1.5 * IQR\n",
    "\n",
    "outliers = df[(df['HOME_MARKET_VALUE_NUMERIC'] < lower_bound) | (df['HOME_MARKET_VALUE_NUMERIC'] > upper_bound)]\n",
    "# Identify outliers\n",
    "print(f\"Number of outliers: {outliers.shape[0]}\")\n",
    "outliers['HOME_MARKET_VALUE_NUMERIC'].describe().round(3)"
   ],
   "outputs": [
    {
     "name": "stdout",
     "output_type": "stream",
     "text": [
      "Number of outliers: 86987\n"
     ]
    },
    {
     "data": {
      "text/plain": [
       "count      86987.000\n",
       "mean      421261.599\n",
       "std       173710.582\n",
       "min       287499.500\n",
       "25%       324999.500\n",
       "50%       324999.500\n",
       "75%       474999.500\n",
       "max      1000000.000\n",
       "Name: HOME_MARKET_VALUE_NUMERIC, dtype: float64"
      ]
     },
     "execution_count": 97,
     "metadata": {},
     "output_type": "execute_result"
    }
   ],
   "execution_count": 97
  },
  {
   "cell_type": "code",
   "metadata": {
    "ExecuteTime": {
     "end_time": "2025-03-23T21:03:53.034962Z",
     "start_time": "2025-03-23T21:03:50.553001Z"
    }
   },
   "source": [
    "# Plotting the distribution of income using seaborn\n",
    "plt.figure(figsize=(10, 6))\n",
    "sns.histplot(df['HOME_MARKET_VALUE_NUMERIC'], bins=20, kde=True)\n",
    "plt.title('Distribution of HOME_MARKET_VALUE_NUMERIC')\n",
    "plt.xlabel('HOME_MARKET_VALUE_NUMERIC')\n",
    "plt.ylabel('Frequency')\n",
    "plt.show()"
   ],
   "outputs": [
    {
     "data": {
      "text/plain": [
       "<Figure size 1000x600 with 1 Axes>"
      ],
      "image/png": "[encoded data removed]"
     },
     "metadata": {},
     "output_type": "display_data"
    }
   ],
   "execution_count": 98
  },
  {
   "cell_type": "markdown",
   "metadata": {},
   "source": [
    "The distribution of home market values is notably right-skewed, as depicted in the provided boxplot and histogram. This skewness suggests a higher concentration of homes at lower market values, with a tail extending towards more expensive properties.\n",
    "\n",
    "Although the outliers reflect a small percentage of the dataset, they capture properties with exceptionally high market values, potentially including luxury estates or homes in affluent areas. These outliers will not be removed as they represent a valid segment of the housing market and may provide insights into the upper tier of property values."
   ]
  },
  {
   "cell_type": "markdown",
   "metadata": {},
   "source": [
    "#### CORRELATION MATRIX Analysis"
   ]
  },
  {
   "cell_type": "code",
   "metadata": {
    "ExecuteTime": {
     "end_time": "2025-03-23T21:03:53.294531Z",
     "start_time": "2025-03-23T21:03:53.062323Z"
    }
   },
   "source": [
    "# Correct way to define a list of columns\n",
    "numerical_features = ['CURR_ANN_AMT_CAR', 'CURR_ANN_AMT_HEALTH', 'CURR_ANN_AMT_HOUSE', 'INCOME', 'HOME_MARKET_VALUE_NUMERIC']\n",
    "\n",
    "# Now you can compute the correlation matrix for the specified numerical features\n",
    "corr_matrix = df[numerical_features].corr()\n",
    "\n",
    "# Plotting the heatmap for the correlation matrix\n",
    "sns.heatmap(corr_matrix, annot=True, cmap='coolwarm')\n",
    "plt.title('Correlation Matrix of Numerical Features')\n",
    "plt.show()"
   ],
   "outputs": [
    {
     "data": {
      "text/plain": [
       "<Figure size 640x480 with 2 Axes>"
      ],
      "image/png": "[encoded data removed]"
     },
     "metadata": {},
     "output_type": "display_data"
    }
   ],
   "execution_count": 99
  },
  {
   "cell_type": "markdown",
   "metadata": {},
   "source": [
    "High Correlation Between Insurance Types: The high correlation (0.96) between `CURR_ANN_AMT_CAR` and `CURR_ANN_AMT_HOUSE` suggests that customers’ spending on car insurance is a strong predictor of their spending on house insurance, or vice versa. This could indicate that customers who are willing to spend more on one type of insurance are also willing to spend similarly on another, possibly due to their financial status, risk aversion, or a bundled insurance policy offering.\n",
    "\n",
    "Moderate Correlation Between Different Insurance Payments: There is a moderate correlation between `CURR_ANN_AMT_CAR` and `CURR_ANN_AMT_HEALTH` (0.51), as well as between `CURR_ANN_AMT_HEALTH` and `CURR_ANN_AMT_HOUSE` (0.49). This indicates some degree of relationship, which may be useful for the model. However, these correlations are not as strong, suggesting that other factors could also influence the insurance payments.\n",
    "\n",
    "Low Correlation with Income: INCOME has a relatively low correlation with the insurance payment amounts (ranging from 0.065 to 0.13), which may imply that income alone is not a strong indicator of the insurance payment amounts for car, health, and house. This could suggest that customers across different income levels may have similar insurance payment behaviors, or that income has a complex relationship with insurance payments that is not captured by a linear correlation.\n",
    "\n",
    "Very Low Correlation with Home Market Value: The HOME_MARKET_VALUE_NUMERIC feature has very low correlations with all the other features, especially the insurance payment amounts. This could mean that the market value of a customer's home does not significantly influence the insurance payment amounts, at least not in a linear fashion."
   ]
  },
  {
   "cell_type": "code",
   "metadata": {
    "ExecuteTime": {
     "end_time": "2025-03-23T21:03:54.229971Z",
     "start_time": "2025-03-23T21:03:53.334946Z"
    }
   },
   "source": "df.corr(numeric_only=True)",
   "outputs": [
    {
     "data": {
      "text/plain": [
       "                           INDIVIDUAL_ID  ADDRESS_ID  CURR_ANN_AMT_CAR  \\\n",
       "INDIVIDUAL_ID                   1.000000    0.987028         -0.010987   \n",
       "ADDRESS_ID                      0.987028    1.000000         -0.012517   \n",
       "CURR_ANN_AMT_CAR               -0.010987   -0.012517          1.000000   \n",
       "CURR_ANN_AMT_HEALTH            -0.005533   -0.006326          0.514503   \n",
       "CURR_ANN_AMT_HOUSE             -0.010399   -0.011829          0.962245   \n",
       "INCOME                         -0.039055   -0.047567          0.125996   \n",
       "HAS_CHILDREN                   -0.035104   -0.038869         -0.010275   \n",
       "LENGTH_OF_RESIDENCE            -0.036511   -0.038894          0.176457   \n",
       "HOME_OWNER                      0.042325    0.046365          0.096527   \n",
       "COLLEGE_DEGREE                  0.024377    0.025648          0.093187   \n",
       "GOOD_CREDIT                    -0.070811   -0.076611          0.052309   \n",
       "MARITAL_STATUS_Married         -0.083154   -0.091078          0.125063   \n",
       "MARITAL_STATUS_Single           0.095561    0.105232         -0.085243   \n",
       "MARITAL_STATUS_Unknown         -0.006740   -0.008071         -0.061119   \n",
       "HOME_MARKET_VALUE_NUMERIC      -0.043889   -0.050081          0.020313   \n",
       "ADVANCED_STUDIES_BINARY        -0.021018   -0.024648          0.038530   \n",
       "AGE                             0.037404    0.041516          0.086314   \n",
       "\n",
       "                           CURR_ANN_AMT_HEALTH  CURR_ANN_AMT_HOUSE    INCOME  \\\n",
       "INDIVIDUAL_ID                        -0.005533           -0.010399 -0.039055   \n",
       "ADDRESS_ID                           -0.006326           -0.011829 -0.047567   \n",
       "CURR_ANN_AMT_CAR                      0.514503            0.962245  0.125996   \n",
       "CURR_ANN_AMT_HEALTH                   1.000000            0.494730  0.064959   \n",
       "CURR_ANN_AMT_HOUSE                    0.494730            1.000000  0.121434   \n",
       "INCOME                                0.064959            0.121434  1.000000   \n",
       "HAS_CHILDREN                         -0.006126           -0.009526  0.047474   \n",
       "LENGTH_OF_RESIDENCE                   0.090126            0.170014  0.053617   \n",
       "HOME_OWNER                            0.049555            0.093091  0.154711   \n",
       "COLLEGE_DEGREE                        0.047883            0.089432  0.122263   \n",
       "GOOD_CREDIT                           0.026260            0.050233  0.243217   \n",
       "MARITAL_STATUS_Married                0.063453            0.120168  0.230645   \n",
       "MARITAL_STATUS_Single                -0.043756           -0.081605 -0.218440   \n",
       "MARITAL_STATUS_Unknown               -0.030392           -0.059095 -0.038111   \n",
       "HOME_MARKET_VALUE_NUMERIC             0.010358            0.019466  0.282856   \n",
       "ADVANCED_STUDIES_BINARY               0.020002            0.037000  0.370356   \n",
       "AGE                                   0.044120            0.083071 -0.004817   \n",
       "\n",
       "                           HAS_CHILDREN  LENGTH_OF_RESIDENCE  HOME_OWNER  \\\n",
       "INDIVIDUAL_ID                 -0.035104            -0.036511    0.042325   \n",
       "ADDRESS_ID                    -0.038869            -0.038894    0.046365   \n",
       "CURR_ANN_AMT_CAR              -0.010275             0.176457    0.096527   \n",
       "CURR_ANN_AMT_HEALTH           -0.006126             0.090126    0.049555   \n",
       "CURR_ANN_AMT_HOUSE            -0.009526             0.170014    0.093091   \n",
       "INCOME                         0.047474             0.053617    0.154711   \n",
       "HAS_CHILDREN                   1.000000            -0.021737    0.200019   \n",
       "LENGTH_OF_RESIDENCE           -0.021737             1.000000    0.234601   \n",
       "HOME_OWNER                     0.200019             0.234601    1.000000   \n",
       "COLLEGE_DEGREE                 0.088839             0.064061    0.176873   \n",
       "GOOD_CREDIT                    0.038890             0.052181    0.144281   \n",
       "MARITAL_STATUS_Married         0.259976             0.256825    0.434914   \n",
       "MARITAL_STATUS_Single         -0.041631            -0.105086   -0.049182   \n",
       "MARITAL_STATUS_Unknown        -0.292239            -0.210764   -0.513818   \n",
       "HOME_MARKET_VALUE_NUMERIC     -0.001050            -0.102081   -0.076175   \n",
       "ADVANCED_STUDIES_BINARY       -0.055028            -0.024586   -0.048916   \n",
       "AGE                           -0.145403             0.282547    0.108546   \n",
       "\n",
       "                           COLLEGE_DEGREE  GOOD_CREDIT  \\\n",
       "INDIVIDUAL_ID                    0.024377    -0.070811   \n",
       "ADDRESS_ID                       0.025648    -0.076611   \n",
       "CURR_ANN_AMT_CAR                 0.093187     0.052309   \n",
       "CURR_ANN_AMT_HEALTH              0.047883     0.026260   \n",
       "CURR_ANN_AMT_HOUSE               0.089432     0.050233   \n",
       "INCOME                           0.122263     0.243217   \n",
       "HAS_CHILDREN                     0.088839     0.038890   \n",
       "LENGTH_OF_RESIDENCE              0.064061     0.052181   \n",
       "HOME_OWNER                       0.176873     0.144281   \n",
       "COLLEGE_DEGREE                   1.000000     0.055005   \n",
       "GOOD_CREDIT                      0.055005     1.000000   \n",
       "MARITAL_STATUS_Married           0.152230     0.112039   \n",
       "MARITAL_STATUS_Single           -0.011729    -0.035010   \n",
       "MARITAL_STATUS_Unknown          -0.186533    -0.105145   \n",
       "HOME_MARKET_VALUE_NUMERIC        0.053678     0.075503   \n",
       "ADVANCED_STUDIES_BINARY          0.009395     0.078290   \n",
       "AGE                              0.071222     0.017265   \n",
       "\n",
       "                           MARITAL_STATUS_Married  MARITAL_STATUS_Single  \\\n",
       "INDIVIDUAL_ID                           -0.083154               0.095561   \n",
       "ADDRESS_ID                              -0.091078               0.105232   \n",
       "CURR_ANN_AMT_CAR                         0.125063              -0.085243   \n",
       "CURR_ANN_AMT_HEALTH                      0.063453              -0.043756   \n",
       "CURR_ANN_AMT_HOUSE                       0.120168              -0.081605   \n",
       "INCOME                                   0.230645              -0.218440   \n",
       "HAS_CHILDREN                             0.259976              -0.041631   \n",
       "LENGTH_OF_RESIDENCE                      0.256825              -0.105086   \n",
       "HOME_OWNER                               0.434914              -0.049182   \n",
       "COLLEGE_DEGREE                           0.152230              -0.011729   \n",
       "GOOD_CREDIT                              0.112039              -0.035010   \n",
       "MARITAL_STATUS_Married                   1.000000              -0.692098   \n",
       "MARITAL_STATUS_Single                   -0.692098               1.000000   \n",
       "MARITAL_STATUS_Unknown                  -0.475920              -0.305434   \n",
       "HOME_MARKET_VALUE_NUMERIC                0.029686              -0.049505   \n",
       "ADVANCED_STUDIES_BINARY                 -0.002751              -0.143986   \n",
       "AGE                                      0.133745              -0.080403   \n",
       "\n",
       "                           MARITAL_STATUS_Unknown  HOME_MARKET_VALUE_NUMERIC  \\\n",
       "INDIVIDUAL_ID                           -0.006740                  -0.043889   \n",
       "ADDRESS_ID                              -0.008071                  -0.050081   \n",
       "CURR_ANN_AMT_CAR                        -0.061119                   0.020313   \n",
       "CURR_ANN_AMT_HEALTH                     -0.030392                   0.010358   \n",
       "CURR_ANN_AMT_HOUSE                      -0.059095                   0.019466   \n",
       "INCOME                                  -0.038111                   0.282856   \n",
       "HAS_CHILDREN                            -0.292239                  -0.001050   \n",
       "LENGTH_OF_RESIDENCE                     -0.210764                  -0.102081   \n",
       "HOME_OWNER                              -0.513818                  -0.076175   \n",
       "COLLEGE_DEGREE                          -0.186533                   0.053678   \n",
       "GOOD_CREDIT                             -0.105145                   0.075503   \n",
       "MARITAL_STATUS_Married                  -0.475920                   0.029686   \n",
       "MARITAL_STATUS_Single                   -0.305434                  -0.049505   \n",
       "MARITAL_STATUS_Unknown                   1.000000                   0.021157   \n",
       "HOME_MARKET_VALUE_NUMERIC                0.021157                   1.000000   \n",
       "ADVANCED_STUDIES_BINARY                  0.179071                   0.122793   \n",
       "AGE                                     -0.078471                  -0.016245   \n",
       "\n",
       "                           ADVANCED_STUDIES_BINARY       AGE  \n",
       "INDIVIDUAL_ID                            -0.021018  0.037404  \n",
       "ADDRESS_ID                               -0.024648  0.041516  \n",
       "CURR_ANN_AMT_CAR                          0.038530  0.086314  \n",
       "CURR_ANN_AMT_HEALTH                       0.020002  0.044120  \n",
       "CURR_ANN_AMT_HOUSE                        0.037000  0.083071  \n",
       "INCOME                                    0.370356 -0.004817  \n",
       "HAS_CHILDREN                             -0.055028 -0.145403  \n",
       "LENGTH_OF_RESIDENCE                      -0.024586  0.282547  \n",
       "HOME_OWNER                               -0.048916  0.108546  \n",
       "COLLEGE_DEGREE                            0.009395  0.071222  \n",
       "GOOD_CREDIT                               0.078290  0.017265  \n",
       "MARITAL_STATUS_Married                   -0.002751  0.133745  \n",
       "MARITAL_STATUS_Single                    -0.143986 -0.080403  \n",
       "MARITAL_STATUS_Unknown                    0.179071 -0.078471  \n",
       "HOME_MARKET_VALUE_NUMERIC                 0.122793 -0.016245  \n",
       "ADVANCED_STUDIES_BINARY                   1.000000 -0.025636  \n",
       "AGE                                      -0.025636  1.000000  "
      ],
      "text/html": [
       "<div>\n",
       "<style scoped>\n",
       "    .dataframe tbody tr th:only-of-type {\n",
       "        vertical-align: middle;\n",
       "    }\n",
       "\n",
       "    .dataframe tbody tr th {\n",
       "        vertical-align: top;\n",
       "    }\n",
       "\n",
       "    .dataframe thead th {\n",
       "        text-align: right;\n",
       "    }\n",
       "</style>\n",
       "<table border=\"1\" class=\"dataframe\">\n",
       "  <thead>\n",
       "    <tr style=\"text-align: right;\">\n",
       "      <th></th>\n",
       "      <th>INDIVIDUAL_ID</th>\n",
       "      <th>ADDRESS_ID</th>\n",
       "      <th>CURR_ANN_AMT_CAR</th>\n",
       "      <th>CURR_ANN_AMT_HEALTH</th>\n",
       "      <th>CURR_ANN_AMT_HOUSE</th>\n",
       "      <th>INCOME</th>\n",
       "      <th>HAS_CHILDREN</th>\n",
       "      <th>LENGTH_OF_RESIDENCE</th>\n",
       "      <th>HOME_OWNER</th>\n",
       "      <th>COLLEGE_DEGREE</th>\n",
       "      <th>GOOD_CREDIT</th>\n",
       "      <th>MARITAL_STATUS_Married</th>\n",
       "      <th>MARITAL_STATUS_Single</th>\n",
       "      <th>MARITAL_STATUS_Unknown</th>\n",
       "      <th>HOME_MARKET_VALUE_NUMERIC</th>\n",
       "      <th>ADVANCED_STUDIES_BINARY</th>\n",
       "      <th>AGE</th>\n",
       "    </tr>\n",
       "  </thead>\n",
       "  <tbody>\n",
       "    <tr>\n",
       "      <th>INDIVIDUAL_ID</th>\n",
       "      <td>1.000000</td>\n",
       "      <td>0.987028</td>\n",
       "      <td>-0.010987</td>\n",
       "      <td>-0.005533</td>\n",
       "      <td>-0.010399</td>\n",
       "      <td>-0.039055</td>\n",
       "      <td>-0.035104</td>\n",
       "      <td>-0.036511</td>\n",
       "      <td>0.042325</td>\n",
       "      <td>0.024377</td>\n",
       "      <td>-0.070811</td>\n",
       "      <td>-0.083154</td>\n",
       "      <td>0.095561</td>\n",
       "      <td>-0.006740</td>\n",
       "      <td>-0.043889</td>\n",
       "      <td>-0.021018</td>\n",
       "      <td>0.037404</td>\n",
       "    </tr>\n",
       "    <tr>\n",
       "      <th>ADDRESS_ID</th>\n",
       "      <td>0.987028</td>\n",
       "      <td>1.000000</td>\n",
       "      <td>-0.012517</td>\n",
       "      <td>-0.006326</td>\n",
       "      <td>-0.011829</td>\n",
       "      <td>-0.047567</td>\n",
       "      <td>-0.038869</td>\n",
       "      <td>-0.038894</td>\n",
       "      <td>0.046365</td>\n",
       "      <td>0.025648</td>\n",
       "      <td>-0.076611</td>\n",
       "      <td>-0.091078</td>\n",
       "      <td>0.105232</td>\n",
       "      <td>-0.008071</td>\n",
       "      <td>-0.050081</td>\n",
       "      <td>-0.024648</td>\n",
       "      <td>0.041516</td>\n",
       "    </tr>\n",
       "    <tr>\n",
       "      <th>CURR_ANN_AMT_CAR</th>\n",
       "      <td>-0.010987</td>\n",
       "      <td>-0.012517</td>\n",
       "      <td>1.000000</td>\n",
       "      <td>0.514503</td>\n",
       "      <td>0.962245</td>\n",
       "      <td>0.125996</td>\n",
       "      <td>-0.010275</td>\n",
       "      <td>0.176457</td>\n",
       "      <td>0.096527</td>\n",
       "      <td>0.093187</td>\n",
       "      <td>0.052309</td>\n",
       "      <td>0.125063</td>\n",
       "      <td>-0.085243</td>\n",
       "      <td>-0.061119</td>\n",
       "      <td>0.020313</td>\n",
       "      <td>0.038530</td>\n",
       "      <td>0.086314</td>\n",
       "    </tr>\n",
       "    <tr>\n",
       "      <th>CURR_ANN_AMT_HEALTH</th>\n",
       "      <td>-0.005533</td>\n",
       "      <td>-0.006326</td>\n",
       "      <td>0.514503</td>\n",
       "      <td>1.000000</td>\n",
       "      <td>0.494730</td>\n",
       "      <td>0.064959</td>\n",
       "      <td>-0.006126</td>\n",
       "      <td>0.090126</td>\n",
       "      <td>0.049555</td>\n",
       "      <td>0.047883</td>\n",
       "      <td>0.026260</td>\n",
       "      <td>0.063453</td>\n",
       "      <td>-0.043756</td>\n",
       "      <td>-0.030392</td>\n",
       "      <td>0.010358</td>\n",
       "      <td>0.020002</td>\n",
       "      <td>0.044120</td>\n",
       "    </tr>\n",
       "    <tr>\n",
       "      <th>CURR_ANN_AMT_HOUSE</th>\n",
       "      <td>-0.010399</td>\n",
       "      <td>-0.011829</td>\n",
       "      <td>0.962245</td>\n",
       "      <td>0.494730</td>\n",
       "      <td>1.000000</td>\n",
       "      <td>0.121434</td>\n",
       "      <td>-0.009526</td>\n",
       "      <td>0.170014</td>\n",
       "      <td>0.093091</td>\n",
       "      <td>0.089432</td>\n",
       "      <td>0.050233</td>\n",
       "      <td>0.120168</td>\n",
       "      <td>-0.081605</td>\n",
       "      <td>-0.059095</td>\n",
       "      <td>0.019466</td>\n",
       "      <td>0.037000</td>\n",
       "      <td>0.083071</td>\n",
       "    </tr>\n",
       "    <tr>\n",
       "      <th>INCOME</th>\n",
       "      <td>-0.039055</td>\n",
       "      <td>-0.047567</td>\n",
       "      <td>0.125996</td>\n",
       "      <td>0.064959</td>\n",
       "      <td>0.121434</td>\n",
       "      <td>1.000000</td>\n",
       "      <td>0.047474</td>\n",
       "      <td>0.053617</td>\n",
       "      <td>0.154711</td>\n",
       "      <td>0.122263</td>\n",
       "      <td>0.243217</td>\n",
       "      <td>0.230645</td>\n",
       "      <td>-0.218440</td>\n",
       "      <td>-0.038111</td>\n",
       "      <td>0.282856</td>\n",
       "      <td>0.370356</td>\n",
       "      <td>-0.004817</td>\n",
       "    </tr>\n",
       "    <tr>\n",
       "      <th>HAS_CHILDREN</th>\n",
       "      <td>-0.035104</td>\n",
       "      <td>-0.038869</td>\n",
       "      <td>-0.010275</td>\n",
       "      <td>-0.006126</td>\n",
       "      <td>-0.009526</td>\n",
       "      <td>0.047474</td>\n",
       "      <td>1.000000</td>\n",
       "      <td>-0.021737</td>\n",
       "      <td>0.200019</td>\n",
       "      <td>0.088839</td>\n",
       "      <td>0.038890</td>\n",
       "      <td>0.259976</td>\n",
       "      <td>-0.041631</td>\n",
       "      <td>-0.292239</td>\n",
       "      <td>-0.001050</td>\n",
       "      <td>-0.055028</td>\n",
       "      <td>-0.145403</td>\n",
       "    </tr>\n",
       "    <tr>\n",
       "      <th>LENGTH_OF_RESIDENCE</th>\n",
       "      <td>-0.036511</td>\n",
       "      <td>-0.038894</td>\n",
       "      <td>0.176457</td>\n",
       "      <td>0.090126</td>\n",
       "      <td>0.170014</td>\n",
       "      <td>0.053617</td>\n",
       "      <td>-0.021737</td>\n",
       "      <td>1.000000</td>\n",
       "      <td>0.234601</td>\n",
       "      <td>0.064061</td>\n",
       "      <td>0.052181</td>\n",
       "      <td>0.256825</td>\n",
       "      <td>-0.105086</td>\n",
       "      <td>-0.210764</td>\n",
       "      <td>-0.102081</td>\n",
       "      <td>-0.024586</td>\n",
       "      <td>0.282547</td>\n",
       "    </tr>\n",
       "    <tr>\n",
       "      <th>HOME_OWNER</th>\n",
       "      <td>0.042325</td>\n",
       "      <td>0.046365</td>\n",
       "      <td>0.096527</td>\n",
       "      <td>0.049555</td>\n",
       "      <td>0.093091</td>\n",
       "      <td>0.154711</td>\n",
       "      <td>0.200019</td>\n",
       "      <td>0.234601</td>\n",
       "      <td>1.000000</td>\n",
       "      <td>0.176873</td>\n",
       "      <td>0.144281</td>\n",
       "      <td>0.434914</td>\n",
       "      <td>-0.049182</td>\n",
       "      <td>-0.513818</td>\n",
       "      <td>-0.076175</td>\n",
       "      <td>-0.048916</td>\n",
       "      <td>0.108546</td>\n",
       "    </tr>\n",
       "    <tr>\n",
       "      <th>COLLEGE_DEGREE</th>\n",
       "      <td>0.024377</td>\n",
       "      <td>0.025648</td>\n",
       "      <td>0.093187</td>\n",
       "      <td>0.047883</td>\n",
       "      <td>0.089432</td>\n",
       "      <td>0.122263</td>\n",
       "      <td>0.088839</td>\n",
       "      <td>0.064061</td>\n",
       "      <td>0.176873</td>\n",
       "      <td>1.000000</td>\n",
       "      <td>0.055005</td>\n",
       "      <td>0.152230</td>\n",
       "      <td>-0.011729</td>\n",
       "      <td>-0.186533</td>\n",
       "      <td>0.053678</td>\n",
       "      <td>0.009395</td>\n",
       "      <td>0.071222</td>\n",
       "    </tr>\n",
       "    <tr>\n",
       "      <th>GOOD_CREDIT</th>\n",
       "      <td>-0.070811</td>\n",
       "      <td>-0.076611</td>\n",
       "      <td>0.052309</td>\n",
       "      <td>0.026260</td>\n",
       "      <td>0.050233</td>\n",
       "      <td>0.243217</td>\n",
       "      <td>0.038890</td>\n",
       "      <td>0.052181</td>\n",
       "      <td>0.144281</td>\n",
       "      <td>0.055005</td>\n",
       "      <td>1.000000</td>\n",
       "      <td>0.112039</td>\n",
       "      <td>-0.035010</td>\n",
       "      <td>-0.105145</td>\n",
       "      <td>0.075503</td>\n",
       "      <td>0.078290</td>\n",
       "      <td>0.017265</td>\n",
       "    </tr>\n",
       "    <tr>\n",
       "      <th>MARITAL_STATUS_Married</th>\n",
       "      <td>-0.083154</td>\n",
       "      <td>-0.091078</td>\n",
       "      <td>0.125063</td>\n",
       "      <td>0.063453</td>\n",
       "      <td>0.120168</td>\n",
       "      <td>0.230645</td>\n",
       "      <td>0.259976</td>\n",
       "      <td>0.256825</td>\n",
       "      <td>0.434914</td>\n",
       "      <td>0.152230</td>\n",
       "      <td>0.112039</td>\n",
       "      <td>1.000000</td>\n",
       "      <td>-0.692098</td>\n",
       "      <td>-0.475920</td>\n",
       "      <td>0.029686</td>\n",
       "      <td>-0.002751</td>\n",
       "      <td>0.133745</td>\n",
       "    </tr>\n",
       "    <tr>\n",
       "      <th>MARITAL_STATUS_Single</th>\n",
       "      <td>0.095561</td>\n",
       "      <td>0.105232</td>\n",
       "      <td>-0.085243</td>\n",
       "      <td>-0.043756</td>\n",
       "      <td>-0.081605</td>\n",
       "      <td>-0.218440</td>\n",
       "      <td>-0.041631</td>\n",
       "      <td>-0.105086</td>\n",
       "      <td>-0.049182</td>\n",
       "      <td>-0.011729</td>\n",
       "      <td>-0.035010</td>\n",
       "      <td>-0.692098</td>\n",
       "      <td>1.000000</td>\n",
       "      <td>-0.305434</td>\n",
       "      <td>-0.049505</td>\n",
       "      <td>-0.143986</td>\n",
       "      <td>-0.080403</td>\n",
       "    </tr>\n",
       "    <tr>\n",
       "      <th>MARITAL_STATUS_Unknown</th>\n",
       "      <td>-0.006740</td>\n",
       "      <td>-0.008071</td>\n",
       "      <td>-0.061119</td>\n",
       "      <td>-0.030392</td>\n",
       "      <td>-0.059095</td>\n",
       "      <td>-0.038111</td>\n",
       "      <td>-0.292239</td>\n",
       "      <td>-0.210764</td>\n",
       "      <td>-0.513818</td>\n",
       "      <td>-0.186533</td>\n",
       "      <td>-0.105145</td>\n",
       "      <td>-0.475920</td>\n",
       "      <td>-0.305434</td>\n",
       "      <td>1.000000</td>\n",
       "      <td>0.021157</td>\n",
       "      <td>0.179071</td>\n",
       "      <td>-0.078471</td>\n",
       "    </tr>\n",
       "    <tr>\n",
       "      <th>HOME_MARKET_VALUE_NUMERIC</th>\n",
       "      <td>-0.043889</td>\n",
       "      <td>-0.050081</td>\n",
       "      <td>0.020313</td>\n",
       "      <td>0.010358</td>\n",
       "      <td>0.019466</td>\n",
       "      <td>0.282856</td>\n",
       "      <td>-0.001050</td>\n",
       "      <td>-0.102081</td>\n",
       "      <td>-0.076175</td>\n",
       "      <td>0.053678</td>\n",
       "      <td>0.075503</td>\n",
       "      <td>0.029686</td>\n",
       "      <td>-0.049505</td>\n",
       "      <td>0.021157</td>\n",
       "      <td>1.000000</td>\n",
       "      <td>0.122793</td>\n",
       "      <td>-0.016245</td>\n",
       "    </tr>\n",
       "    <tr>\n",
       "      <th>ADVANCED_STUDIES_BINARY</th>\n",
       "      <td>-0.021018</td>\n",
       "      <td>-0.024648</td>\n",
       "      <td>0.038530</td>\n",
       "      <td>0.020002</td>\n",
       "      <td>0.037000</td>\n",
       "      <td>0.370356</td>\n",
       "      <td>-0.055028</td>\n",
       "      <td>-0.024586</td>\n",
       "      <td>-0.048916</td>\n",
       "      <td>0.009395</td>\n",
       "      <td>0.078290</td>\n",
       "      <td>-0.002751</td>\n",
       "      <td>-0.143986</td>\n",
       "      <td>0.179071</td>\n",
       "      <td>0.122793</td>\n",
       "      <td>1.000000</td>\n",
       "      <td>-0.025636</td>\n",
       "    </tr>\n",
       "    <tr>\n",
       "      <th>AGE</th>\n",
       "      <td>0.037404</td>\n",
       "      <td>0.041516</td>\n",
       "      <td>0.086314</td>\n",
       "      <td>0.044120</td>\n",
       "      <td>0.083071</td>\n",
       "      <td>-0.004817</td>\n",
       "      <td>-0.145403</td>\n",
       "      <td>0.282547</td>\n",
       "      <td>0.108546</td>\n",
       "      <td>0.071222</td>\n",
       "      <td>0.017265</td>\n",
       "      <td>0.133745</td>\n",
       "      <td>-0.080403</td>\n",
       "      <td>-0.078471</td>\n",
       "      <td>-0.016245</td>\n",
       "      <td>-0.025636</td>\n",
       "      <td>1.000000</td>\n",
       "    </tr>\n",
       "  </tbody>\n",
       "</table>\n",
       "</div>"
      ]
     },
     "execution_count": 100,
     "metadata": {},
     "output_type": "execute_result"
    }
   ],
   "execution_count": 100
  },
  {
   "cell_type": "markdown",
   "metadata": {},
   "source": [
    "#### Termination Dataframe Analysis and Cleaning"
   ]
  },
  {
   "cell_type": "code",
   "metadata": {
    "ExecuteTime": {
     "end_time": "2025-03-23T21:03:54.625792Z",
     "start_time": "2025-03-23T21:03:54.621584Z"
    }
   },
   "source": [
    "df_termination.head()"
   ],
   "outputs": [
    {
     "data": {
      "text/plain": [
       "   INDIVIDUAL_ID  SUSPD_DATE\n",
       "0   221302577308  2022-10-09\n",
       "1   221302825760  2022-04-24\n",
       "2   221302678990  2022-05-21\n",
       "3   221300210549  2022-04-27\n",
       "4   221302553479  2022-09-16"
      ],
      "text/html": [
       "<div>\n",
       "<style scoped>\n",
       "    .dataframe tbody tr th:only-of-type {\n",
       "        vertical-align: middle;\n",
       "    }\n",
       "\n",
       "    .dataframe tbody tr th {\n",
       "        vertical-align: top;\n",
       "    }\n",
       "\n",
       "    .dataframe thead th {\n",
       "        text-align: right;\n",
       "    }\n",
       "</style>\n",
       "<table border=\"1\" class=\"dataframe\">\n",
       "  <thead>\n",
       "    <tr style=\"text-align: right;\">\n",
       "      <th></th>\n",
       "      <th>INDIVIDUAL_ID</th>\n",
       "      <th>SUSPD_DATE</th>\n",
       "    </tr>\n",
       "  </thead>\n",
       "  <tbody>\n",
       "    <tr>\n",
       "      <th>0</th>\n",
       "      <td>221302577308</td>\n",
       "      <td>2022-10-09</td>\n",
       "    </tr>\n",
       "    <tr>\n",
       "      <th>1</th>\n",
       "      <td>221302825760</td>\n",
       "      <td>2022-04-24</td>\n",
       "    </tr>\n",
       "    <tr>\n",
       "      <th>2</th>\n",
       "      <td>221302678990</td>\n",
       "      <td>2022-05-21</td>\n",
       "    </tr>\n",
       "    <tr>\n",
       "      <th>3</th>\n",
       "      <td>221300210549</td>\n",
       "      <td>2022-04-27</td>\n",
       "    </tr>\n",
       "    <tr>\n",
       "      <th>4</th>\n",
       "      <td>221302553479</td>\n",
       "      <td>2022-09-16</td>\n",
       "    </tr>\n",
       "  </tbody>\n",
       "</table>\n",
       "</div>"
      ]
     },
     "execution_count": 101,
     "metadata": {},
     "output_type": "execute_result"
    }
   ],
   "execution_count": 101
  },
  {
   "cell_type": "code",
   "metadata": {
    "ExecuteTime": {
     "end_time": "2025-03-23T21:03:54.682537Z",
     "start_time": "2025-03-23T21:03:54.671309Z"
    }
   },
   "source": [
    "missing_t= df_termination.isnull().sum()\n",
    "missing_t"
   ],
   "outputs": [
    {
     "data": {
      "text/plain": [
       "INDIVIDUAL_ID       0\n",
       "SUSPD_DATE       2693\n",
       "dtype: int64"
      ]
     },
     "execution_count": 102,
     "metadata": {},
     "output_type": "execute_result"
    }
   ],
   "execution_count": 102
  },
  {
   "cell_type": "code",
   "metadata": {
    "ExecuteTime": {
     "end_time": "2025-03-23T21:03:55.073267Z",
     "start_time": "2025-03-23T21:03:55.067068Z"
    }
   },
   "source": [
    "#check for duplicates ID in the termination dataframe\n",
    "duplicates_t = df_termination.duplicated(subset=['INDIVIDUAL_ID'])\n",
    "duplicates_t.sum()"
   ],
   "outputs": [
    {
     "data": {
      "text/plain": [
       "np.int64(0)"
      ]
     },
     "execution_count": 103,
     "metadata": {},
     "output_type": "execute_result"
    }
   ],
   "execution_count": 103
  },
  {
   "cell_type": "code",
   "metadata": {
    "ExecuteTime": {
     "end_time": "2025-03-23T21:03:55.353046Z",
     "start_time": "2025-03-23T21:03:55.339650Z"
    }
   },
   "source": [
    "#transform the SUSPD_DATE column to datetime\n",
    "df_termination['SUSPD_DATE'] = pd.to_datetime(df_termination['SUSPD_DATE'], errors='coerce')"
   ],
   "outputs": [],
   "execution_count": 104
  },
  {
   "cell_type": "code",
   "metadata": {
    "ExecuteTime": {
     "end_time": "2025-03-23T21:03:55.587095Z",
     "start_time": "2025-03-23T21:03:55.575949Z"
    }
   },
   "source": "df_termination['SUSPD_DATE'].describe()",
   "outputs": [
    {
     "data": {
      "text/plain": [
       "count                           266566\n",
       "mean     2022-06-20 07:50:06.099802880\n",
       "min                2019-12-10 00:00:00\n",
       "25%                2022-03-02 00:00:00\n",
       "50%                2022-06-09 00:00:00\n",
       "75%                2022-09-12 00:00:00\n",
       "max                2026-12-01 00:00:00\n",
       "Name: SUSPD_DATE, dtype: object"
      ]
     },
     "execution_count": 105,
     "metadata": {},
     "output_type": "execute_result"
    }
   ],
   "execution_count": 105
  },
  {
   "cell_type": "markdown",
   "metadata": {},
   "source": [
    "The `SUSPD_DATE` indicates that policy suspensions have been recorded over a span from late 2019 to early 2026, with the majority happening in 2022."
   ]
  },
  {
   "cell_type": "code",
   "metadata": {
    "ExecuteTime": {
     "end_time": "2025-03-23T21:03:55.980338Z",
     "start_time": "2025-03-23T21:03:55.976801Z"
    }
   },
   "source": [
    "#there are suspicious future dates in the SUSPD_DATE column\n",
    "future_dates_t = df_termination[df_termination['SUSPD_DATE'] > datetime.now()]\n",
    "print(f\"Number of future dates in SUSPD_DATE: {future_dates_t.shape[0]}\")"
   ],
   "outputs": [
    {
     "name": "stdout",
     "output_type": "stream",
     "text": [
      "Number of future dates in SUSPD_DATE: 2582\n"
     ]
    }
   ],
   "execution_count": 106
  },
  {
   "cell_type": "markdown",
   "metadata": {},
   "source": [
    "we can intepret this future dates as suspension dates that are yet to occur so we will keep them in the dataframe.\n",
    "we will remove the rows with missing values in the SUSPD_DATE column"
   ]
  },
  {
   "cell_type": "code",
   "metadata": {
    "ExecuteTime": {
     "end_time": "2025-03-23T21:03:56.182380Z",
     "start_time": "2025-03-23T21:03:56.025816Z"
    }
   },
   "source": [
    "plt.hist(df_termination['SUSPD_DATE'] , bins=20)\n",
    "\n",
    "plt.title('Histogram of SUSP_DATE')\n",
    "plt.xlabel('Value')\n",
    "plt.ylabel('Frequency')\n",
    "plt.grid(axis='y', alpha=0.75)\n",
    "\n",
    "plt.show()"
   ],
   "outputs": [
    {
     "data": {
      "text/plain": [
       "<Figure size 640x480 with 1 Axes>"
      ],
      "image/png": "[encoded data removed]"
     },
     "metadata": {},
     "output_type": "display_data"
    }
   ],
   "execution_count": 107
  },
  {
   "cell_type": "code",
   "metadata": {
    "ExecuteTime": {
     "end_time": "2025-03-23T21:03:56.495952Z",
     "start_time": "2025-03-23T21:03:56.334448Z"
    }
   },
   "source": [
    "#check the anomalies in the SUSPD_DATE column in 2022\n",
    "anomalies_t = df_termination[df_termination['SUSPD_DATE'].dt.year == 2022]\n",
    "plt.hist(anomalies_t['SUSPD_DATE'], bins=20)\n",
    "\n",
    "plt.title('Histogram of SUSP_DATE')\n",
    "plt.xlabel('Value')\n",
    "plt.ylabel('Frequency')\n",
    "plt.grid(axis='y', alpha=0.75)\n",
    "\n",
    "plt.show()"
   ],
   "outputs": [
    {
     "data": {
      "text/plain": [
       "<Figure size 640x480 with 1 Axes>"
      ],
      "image/png": "[encoded data removed]"
     },
     "metadata": {},
     "output_type": "display_data"
    }
   ],
   "execution_count": 108
  },
  {
   "cell_type": "code",
   "metadata": {
    "ExecuteTime": {
     "end_time": "2025-03-23T21:03:56.883841Z",
     "start_time": "2025-03-23T21:03:56.870313Z"
    }
   },
   "source": [
    "#drop the missing values in the SUSPD_DATE column\n",
    "df_termination = df_termination.dropna(subset=['SUSPD_DATE'])\n",
    "\n",
    "#check for missing values\n",
    "missing_t = df_termination.isnull().sum()\n",
    "missing_t"
   ],
   "outputs": [
    {
     "data": {
      "text/plain": [
       "INDIVIDUAL_ID    0\n",
       "SUSPD_DATE       0\n",
       "dtype: int64"
      ]
     },
     "execution_count": 109,
     "metadata": {},
     "output_type": "execute_result"
    }
   ],
   "execution_count": 109
  },
  {
   "cell_type": "markdown",
   "metadata": {},
   "source": [
    "**Remove records with missing `SUSPD_DATE`**: Since this date is essential for identifying the period of policy suspension, its absence could lead to incorrect inferences about the customer's policy status.\n"
   ]
  },
  {
   "cell_type": "code",
   "metadata": {
    "ExecuteTime": {
     "end_time": "2025-03-23T21:03:57.805507Z",
     "start_time": "2025-03-23T21:03:57.269039Z"
    }
   },
   "source": [
    "# Calculate the number of days from the reference date (today) until the suspension date\n",
    "df_termination['DAYS_TO_CHURN'] = (df_termination['SUSPD_DATE'] - datetime.now()).dt.days\n",
    "\n",
    "# Create a churn indicator where the policy suspension date has passed\n",
    "df_termination['CHURN_INDICATOR'] = df_termination['SUSPD_DATE'].apply(lambda x: 1 if x < datetime.now() else 1)\n",
    "\n",
    "df_termination.head()"
   ],
   "outputs": [
    {
     "data": {
      "text/plain": [
       "   INDIVIDUAL_ID SUSPD_DATE  DAYS_TO_CHURN  CHURN_INDICATOR\n",
       "0   221302577308 2022-10-09           -897                1\n",
       "1   221302825760 2022-04-24          -1065                1\n",
       "2   221302678990 2022-05-21          -1038                1\n",
       "3   221300210549 2022-04-27          -1062                1\n",
       "4   221302553479 2022-09-16           -920                1"
      ],
      "text/html": [
       "<div>\n",
       "<style scoped>\n",
       "    .dataframe tbody tr th:only-of-type {\n",
       "        vertical-align: middle;\n",
       "    }\n",
       "\n",
       "    .dataframe tbody tr th {\n",
       "        vertical-align: top;\n",
       "    }\n",
       "\n",
       "    .dataframe thead th {\n",
       "        text-align: right;\n",
       "    }\n",
       "</style>\n",
       "<table border=\"1\" class=\"dataframe\">\n",
       "  <thead>\n",
       "    <tr style=\"text-align: right;\">\n",
       "      <th></th>\n",
       "      <th>INDIVIDUAL_ID</th>\n",
       "      <th>SUSPD_DATE</th>\n",
       "      <th>DAYS_TO_CHURN</th>\n",
       "      <th>CHURN_INDICATOR</th>\n",
       "    </tr>\n",
       "  </thead>\n",
       "  <tbody>\n",
       "    <tr>\n",
       "      <th>0</th>\n",
       "      <td>221302577308</td>\n",
       "      <td>2022-10-09</td>\n",
       "      <td>-897</td>\n",
       "      <td>1</td>\n",
       "    </tr>\n",
       "    <tr>\n",
       "      <th>1</th>\n",
       "      <td>221302825760</td>\n",
       "      <td>2022-04-24</td>\n",
       "      <td>-1065</td>\n",
       "      <td>1</td>\n",
       "    </tr>\n",
       "    <tr>\n",
       "      <th>2</th>\n",
       "      <td>221302678990</td>\n",
       "      <td>2022-05-21</td>\n",
       "      <td>-1038</td>\n",
       "      <td>1</td>\n",
       "    </tr>\n",
       "    <tr>\n",
       "      <th>3</th>\n",
       "      <td>221300210549</td>\n",
       "      <td>2022-04-27</td>\n",
       "      <td>-1062</td>\n",
       "      <td>1</td>\n",
       "    </tr>\n",
       "    <tr>\n",
       "      <th>4</th>\n",
       "      <td>221302553479</td>\n",
       "      <td>2022-09-16</td>\n",
       "      <td>-920</td>\n",
       "      <td>1</td>\n",
       "    </tr>\n",
       "  </tbody>\n",
       "</table>\n",
       "</div>"
      ]
     },
     "execution_count": 110,
     "metadata": {},
     "output_type": "execute_result"
    }
   ],
   "execution_count": 110
  },
  {
   "cell_type": "code",
   "metadata": {
    "ExecuteTime": {
     "end_time": "2025-03-23T21:03:57.847228Z",
     "start_time": "2025-03-23T21:03:57.842825Z"
    }
   },
   "source": [
    "#contoroll the distirbution of the churn indicator\n",
    "df_termination['CHURN_INDICATOR'].value_counts()"
   ],
   "outputs": [
    {
     "data": {
      "text/plain": [
       "CHURN_INDICATOR\n",
       "1    266566\n",
       "Name: count, dtype: int64"
      ]
     },
     "execution_count": 111,
     "metadata": {},
     "output_type": "execute_result"
    }
   ],
   "execution_count": 111
  },
  {
   "cell_type": "code",
   "metadata": {
    "ExecuteTime": {
     "end_time": "2025-03-23T21:03:58.096220Z",
     "start_time": "2025-03-23T21:03:57.987712Z"
    }
   },
   "source": [
    "df_termination['DAYS_TO_CHURN'].describe()\n",
    "\n",
    "# Plot the distribution of days to churn\n",
    "plt.figure(figsize=(10, 6))\n",
    "df_termination['DAYS_TO_CHURN'].hist(bins=20)\n",
    "plt.title('Distribution of Days to Churn')"
   ],
   "outputs": [
    {
     "data": {
      "text/plain": [
       "Text(0.5, 1.0, 'Distribution of Days to Churn')"
      ]
     },
     "execution_count": 112,
     "metadata": {},
     "output_type": "execute_result"
    },
    {
     "data": {
      "text/plain": [
       "<Figure size 1000x600 with 1 Axes>"
      ],
      "image/png": "[encoded data removed]"
     },
     "metadata": {},
     "output_type": "display_data"
    }
   ],
   "execution_count": 112
  },
  {
   "cell_type": "markdown",
   "metadata": {},
   "source": [
    "The analysis of the `SUSPD_DATE` column from the termination dataset reveals significant insights about policy suspensions:\n",
    "\n",
    "**Data Quality Checks**\n",
    "\n",
    "- Missing Dates: There were 2,693 missing suspension dates. These records were removed to maintain accuracy in the analysis.\n",
    "- Duplicate IDs: The check for duplicate individual IDs ensured the uniqueness of each record.\n",
    "- Future Dates: A total of 4,269 suspension dates are set in the future, suggesting these are planned suspensions. These records were kept as they represent legitimate future events.\n",
    "\n",
    "**Suspension Date Statistics**\n",
    "\n",
    "- Count: 266,566 dates analyzed\n",
    "- Mean Date: June 20, 2022\n",
    "- Date Range: December 10, 2019, to December 1, 2026\n",
    "- The majority of suspensions occurred throughout 2022, indicating a period of higher churn.\n",
    "\n",
    "**Churn Analysis**\n",
    "\n",
    "- Churn Indicator: All policies with suspension dates in the past were marked with a churn indicator.\n",
    "- The DAYS_TO_CHURN distribution suggests a significant number of policies are either recently churned or approaching the churn date.\n",
    "\n",
    "The histograms depict the frequency of suspensions over time, with a notable increase in 2022, and the \"Days to Churn\" graph indicates a concentration of churn closer to the current date. This analysis highlights the need for proactive customer retention strategies, especially in times with higher churn rates."
   ]
  },
  {
   "cell_type": "markdown",
   "metadata": {},
   "source": [
    "#### Q1.2 Main data insights"
   ]
  },
  {
   "cell_type": "markdown",
   "metadata": {},
   "source": [
    "The analysis of ABC Insurance's comprehensive customer dataset not only uncovers critical insights into customer behavior and churn but also brings to light significant data quality issues that could challenge the company's strategic objectives. The dataset revealed high correlations between different types of insurance payments, notably between car and house insurance, suggesting substantial cross-selling opportunities. However, the effectiveness of leveraging these insights is somewhat undermined by pervasive data quality concerns, including incorrect future dates in policy start dates, missing values, and anomalies in key variables such as `CUST_START_DATE` and `MARITAL_STATUS`. These issues signal a need for rigorous data cleaning and validation processes to ensure the reliability of the insights drawn. Moreover, the low correlation between customers' income levels and their insurance payments indicates a complex relationship that transcends simple demographic or financial segmentation, highlighting the importance of a nuanced approach to customer engagement strategies.\n",
    "\n",
    "The churn analysis further underscores the urgency for targeted retention strategies, especially given the increase in policy suspensions identified in 2022. However, the task of accurately predicting customer value and churn is exacerbated by the noted low quality of the collected data, raising concerns about the feasibility of developing robust predictive models. The presence of significant data entry errors, such as future-dated policy suspensions and logical inconsistencies in customer join dates, poses substantial challenges to modeling efforts. These issues could lead to unreliable predictions and misinformed strategic decisions, emphasizing the critical need for comprehensive data quality improvement initiatives. For ABC Insurance, aligning with the CEO's vision of understanding and engaging customers necessitates not only a deep dive into the available data but also a commitment to improving data collection and processing practices. Enhancing data quality is paramount to unlocking the full potential of analytics in crafting tailored product offerings, mitigating churn, and ultimately, securing a competitive edge in the insurance industry through data-driven customer insights."
   ]
  },
  {
   "cell_type": "markdown",
   "metadata": {},
   "source": [
    "## Predictive Modeling estimate Costumer Value \n",
    "\n",
    "#### Background: ABC Insurance aims to optimize its marketing and product offerings by predicting which customers are likely to be the most valuable. The CURR_ANN_AMT_CAR, CURR_ANN_AMT_HEALTH, and CURR_ANN_AMT_HOUSE fields in the df_customer dataset can serve as indicators of customer value."
   ]
  },
  {
   "cell_type": "markdown",
   "metadata": {},
   "source": [
    "#### Q2.1 Build a baseline model to estimate the costumer value based on their characteristics."
   ]
  },
  {
   "cell_type": "code",
   "metadata": {
    "ExecuteTime": {
     "end_time": "2025-03-23T21:03:58.364816Z",
     "start_time": "2025-03-23T21:03:58.200652Z"
    }
   },
   "source": [
    "from sklearn.linear_model import LinearRegression\n",
    "from sklearn.feature_selection import RFE\n",
    "from sklearn.preprocessing import StandardScaler\n",
    "from sklearn.model_selection import cross_val_score, KFold\n",
    "from sklearn.metrics import make_scorer, r2_score, mean_squared_error\n",
    "from sklearn import linear_model\n",
    "from sklearn.preprocessing import PolynomialFeatures\n",
    "from sklearn.model_selection import train_test_split"
   ],
   "outputs": [],
   "execution_count": 113
  },
  {
   "cell_type": "markdown",
   "metadata": {},
   "source": [
    "#### CLEANING OF THE DATASET BEFORE MODELING"
   ]
  },
  {
   "cell_type": "code",
   "metadata": {
    "ExecuteTime": {
     "end_time": "2025-03-23T21:03:58.547976Z",
     "start_time": "2025-03-23T21:03:58.379855Z"
    }
   },
   "source": [
    "df_model = df.copy()"
   ],
   "outputs": [],
   "execution_count": 114
  },
  {
   "cell_type": "code",
   "metadata": {
    "ExecuteTime": {
     "end_time": "2025-03-23T21:03:59.327140Z",
     "start_time": "2025-03-23T21:03:59.089332Z"
    }
   },
   "source": [
    "df_model['CUSTOMER_VALUE_AVG'] = df_model[['CURR_ANN_AMT_CAR', 'CURR_ANN_AMT_HEALTH', 'CURR_ANN_AMT_HOUSE']].mean(axis=1)\n",
    "df_model.drop(['CURR_ANN_AMT_CAR', 'CURR_ANN_AMT_HEALTH', 'CURR_ANN_AMT_HOUSE'], axis=1, inplace=True)"
   ],
   "outputs": [],
   "execution_count": 115
  },
  {
   "cell_type": "markdown",
   "metadata": {},
   "source": [
    "Average: Averaging these amounts would normalize the customer value and could be useful if the company is interested in understanding the typical amount spent per policy type. This might be particularly relevant if the costs and profit margins are similar across the different insurance types or if the company wants to minimize the influence of customers who are outliers in spending on specific types of insurance."
   ]
  },
  {
   "cell_type": "code",
   "metadata": {
    "ExecuteTime": {
     "end_time": "2025-03-23T21:04:00.556749Z",
     "start_time": "2025-03-23T21:03:59.862218Z"
    }
   },
   "source": [
    "correlation_matrix = df_model.corr(numeric_only=True)\n",
    "correlation_matrix['CUSTOMER_VALUE_AVG'].sort_values(ascending=False)"
   ],
   "outputs": [
    {
     "data": {
      "text/plain": [
       "CUSTOMER_VALUE_AVG           1.000000\n",
       "LENGTH_OF_RESIDENCE          0.163990\n",
       "INCOME                       0.117357\n",
       "MARITAL_STATUS_Married       0.115991\n",
       "HOME_OWNER                   0.089830\n",
       "COLLEGE_DEGREE               0.086665\n",
       "AGE                          0.080215\n",
       "GOOD_CREDIT                  0.048392\n",
       "ADVANCED_STUDIES_BINARY      0.035923\n",
       "HOME_MARKET_VALUE_NUMERIC    0.018853\n",
       "HAS_CHILDREN                -0.009856\n",
       "INDIVIDUAL_ID               -0.010145\n",
       "ADDRESS_ID                  -0.011565\n",
       "MARITAL_STATUS_Unknown      -0.056488\n",
       "MARITAL_STATUS_Single       -0.079223\n",
       "Name: CUSTOMER_VALUE_AVG, dtype: float64"
      ]
     },
     "execution_count": 116,
     "metadata": {},
     "output_type": "execute_result"
    }
   ],
   "execution_count": 116
  },
  {
   "cell_type": "code",
   "metadata": {
    "ExecuteTime": {
     "end_time": "2025-03-23T21:04:01.112797Z",
     "start_time": "2025-03-23T21:04:01.106341Z"
    }
   },
   "source": [
    "#check for duplicates ID in the termination dataframe\n",
    "duplicates_t = df_termination.duplicated(subset=['INDIVIDUAL_ID'])\n",
    "duplicates_t.sum()"
   ],
   "outputs": [
    {
     "data": {
      "text/plain": [
       "np.int64(0)"
      ]
     },
     "execution_count": 117,
     "metadata": {},
     "output_type": "execute_result"
    }
   ],
   "execution_count": 117
  },
  {
   "cell_type": "code",
   "metadata": {
    "ExecuteTime": {
     "end_time": "2025-03-23T21:04:01.207918Z",
     "start_time": "2025-03-23T21:04:01.196686Z"
    }
   },
   "source": [
    "#transform the SUSPD_DATE column to datetime\n",
    "df_termination['SUSPD_DATE'] = pd.to_datetime(df_termination['SUSPD_DATE'], errors='coerce')"
   ],
   "outputs": [],
   "execution_count": 118
  },
  {
   "cell_type": "code",
   "metadata": {
    "ExecuteTime": {
     "end_time": "2025-03-23T21:04:01.317762Z",
     "start_time": "2025-03-23T21:04:01.308027Z"
    }
   },
   "source": "df_termination['SUSPD_DATE'].describe()",
   "outputs": [
    {
     "data": {
      "text/plain": [
       "count                           266566\n",
       "mean     2022-06-20 07:50:06.099802624\n",
       "min                2019-12-10 00:00:00\n",
       "25%                2022-03-02 00:00:00\n",
       "50%                2022-06-09 00:00:00\n",
       "75%                2022-09-12 00:00:00\n",
       "max                2026-12-01 00:00:00\n",
       "Name: SUSPD_DATE, dtype: object"
      ]
     },
     "execution_count": 119,
     "metadata": {},
     "output_type": "execute_result"
    }
   ],
   "execution_count": 119
  },
  {
   "cell_type": "code",
   "metadata": {
    "ExecuteTime": {
     "end_time": "2025-03-23T21:04:01.938632Z",
     "start_time": "2025-03-23T21:04:01.923018Z"
    }
   },
   "source": [
    "df_model.head()"
   ],
   "outputs": [
    {
     "data": {
      "text/plain": [
       "   INDIVIDUAL_ID    ADDRESS_ID CUST_ORIG_DATE DATE_OF_BIRTH  \\\n",
       "0   2.213000e+11  5.213000e+11     2018-12-09    1978-06-23   \n",
       "1   2.213001e+11  5.213001e+11     2018-01-02    1950-05-30   \n",
       "2   2.213007e+11  5.213002e+11     2009-09-23    1967-07-07   \n",
       "3   2.213016e+11  5.213006e+11     2022-07-25    1969-05-25   \n",
       "4   2.213016e+11  5.213006e+11     2006-10-11    1972-09-25   \n",
       "\n",
       "  SOCIAL_SECURITY_NUMBER CUST_START_DATE    INCOME  HAS_CHILDREN  \\\n",
       "0            608-XX-7640      2018-12-09   33750.0           2.0   \n",
       "1            342-XX-6908      2018-01-02   41250.0           0.0   \n",
       "2            240-XX-9224      2009-09-23   63750.0           0.0   \n",
       "3            775-XX-6249      2022-07-25  187500.0           2.0   \n",
       "4            629-XX-7298      2006-10-11  131250.0           1.0   \n",
       "\n",
       "   LENGTH_OF_RESIDENCE HOME_MARKET_VALUE  ...  COLLEGE_DEGREE  GOOD_CREDIT  \\\n",
       "0                 15.0     50000 - 74999  ...               1            1   \n",
       "1                  2.0     50000 - 74999  ...               0            0   \n",
       "2                 10.0     75000 - 99999  ...               0            0   \n",
       "3                  6.0   175000 - 199999  ...               0            1   \n",
       "4                  4.0   225000 - 249999  ...               1            1   \n",
       "\n",
       "   ADVANCED_STUDIES MARITAL_STATUS_Married  MARITAL_STATUS_Single  \\\n",
       "0                 N                   True                  False   \n",
       "1                 N                  False                   True   \n",
       "2                 N                   True                  False   \n",
       "3                 N                   True                  False   \n",
       "4                 Y                   True                  False   \n",
       "\n",
       "   MARITAL_STATUS_Unknown  HOME_MARKET_VALUE_NUMERIC  ADVANCED_STUDIES_BINARY  \\\n",
       "0                   False                    62499.5                        0   \n",
       "1                   False                    62499.5                        0   \n",
       "2                   False                    87499.5                        0   \n",
       "3                   False                   187499.5                        0   \n",
       "4                   False                   237499.5                        1   \n",
       "\n",
       "   AGE  CUSTOMER_VALUE_AVG  \n",
       "0   47          749.292438  \n",
       "1   75          815.538987  \n",
       "2   58          870.341474  \n",
       "3   56          785.642350  \n",
       "4   53          807.830239  \n",
       "\n",
       "[5 rows x 21 columns]"
      ],
      "text/html": [
       "<div>\n",
       "<style scoped>\n",
       "    .dataframe tbody tr th:only-of-type {\n",
       "        vertical-align: middle;\n",
       "    }\n",
       "\n",
       "    .dataframe tbody tr th {\n",
       "        vertical-align: top;\n",
       "    }\n",
       "\n",
       "    .dataframe thead th {\n",
       "        text-align: right;\n",
       "    }\n",
       "</style>\n",
       "<table border=\"1\" class=\"dataframe\">\n",
       "  <thead>\n",
       "    <tr style=\"text-align: right;\">\n",
       "      <th></th>\n",
       "      <th>INDIVIDUAL_ID</th>\n",
       "      <th>ADDRESS_ID</th>\n",
       "      <th>CUST_ORIG_DATE</th>\n",
       "      <th>DATE_OF_BIRTH</th>\n",
       "      <th>SOCIAL_SECURITY_NUMBER</th>\n",
       "      <th>CUST_START_DATE</th>\n",
       "      <th>INCOME</th>\n",
       "      <th>HAS_CHILDREN</th>\n",
       "      <th>LENGTH_OF_RESIDENCE</th>\n",
       "      <th>HOME_MARKET_VALUE</th>\n",
       "      <th>...</th>\n",
       "      <th>COLLEGE_DEGREE</th>\n",
       "      <th>GOOD_CREDIT</th>\n",
       "      <th>ADVANCED_STUDIES</th>\n",
       "      <th>MARITAL_STATUS_Married</th>\n",
       "      <th>MARITAL_STATUS_Single</th>\n",
       "      <th>MARITAL_STATUS_Unknown</th>\n",
       "      <th>HOME_MARKET_VALUE_NUMERIC</th>\n",
       "      <th>ADVANCED_STUDIES_BINARY</th>\n",
       "      <th>AGE</th>\n",
       "      <th>CUSTOMER_VALUE_AVG</th>\n",
       "    </tr>\n",
       "  </thead>\n",
       "  <tbody>\n",
       "    <tr>\n",
       "      <th>0</th>\n",
       "      <td>2.213000e+11</td>\n",
       "      <td>5.213000e+11</td>\n",
       "      <td>2018-12-09</td>\n",
       "      <td>1978-06-23</td>\n",
       "      <td>608-XX-7640</td>\n",
       "      <td>2018-12-09</td>\n",
       "      <td>33750.0</td>\n",
       "      <td>2.0</td>\n",
       "      <td>15.0</td>\n",
       "      <td>50000 - 74999</td>\n",
       "      <td>...</td>\n",
       "      <td>1</td>\n",
       "      <td>1</td>\n",
       "      <td>N</td>\n",
       "      <td>True</td>\n",
       "      <td>False</td>\n",
       "      <td>False</td>\n",
       "      <td>62499.5</td>\n",
       "      <td>0</td>\n",
       "      <td>47</td>\n",
       "      <td>749.292438</td>\n",
       "    </tr>\n",
       "    <tr>\n",
       "      <th>1</th>\n",
       "      <td>2.213001e+11</td>\n",
       "      <td>5.213001e+11</td>\n",
       "      <td>2018-01-02</td>\n",
       "      <td>1950-05-30</td>\n",
       "      <td>342-XX-6908</td>\n",
       "      <td>2018-01-02</td>\n",
       "      <td>41250.0</td>\n",
       "      <td>0.0</td>\n",
       "      <td>2.0</td>\n",
       "      <td>50000 - 74999</td>\n",
       "      <td>...</td>\n",
       "      <td>0</td>\n",
       "      <td>0</td>\n",
       "      <td>N</td>\n",
       "      <td>False</td>\n",
       "      <td>True</td>\n",
       "      <td>False</td>\n",
       "      <td>62499.5</td>\n",
       "      <td>0</td>\n",
       "      <td>75</td>\n",
       "      <td>815.538987</td>\n",
       "    </tr>\n",
       "    <tr>\n",
       "      <th>2</th>\n",
       "      <td>2.213007e+11</td>\n",
       "      <td>5.213002e+11</td>\n",
       "      <td>2009-09-23</td>\n",
       "      <td>1967-07-07</td>\n",
       "      <td>240-XX-9224</td>\n",
       "      <td>2009-09-23</td>\n",
       "      <td>63750.0</td>\n",
       "      <td>0.0</td>\n",
       "      <td>10.0</td>\n",
       "      <td>75000 - 99999</td>\n",
       "      <td>...</td>\n",
       "      <td>0</td>\n",
       "      <td>0</td>\n",
       "      <td>N</td>\n",
       "      <td>True</td>\n",
       "      <td>False</td>\n",
       "      <td>False</td>\n",
       "      <td>87499.5</td>\n",
       "      <td>0</td>\n",
       "      <td>58</td>\n",
       "      <td>870.341474</td>\n",
       "    </tr>\n",
       "    <tr>\n",
       "      <th>3</th>\n",
       "      <td>2.213016e+11</td>\n",
       "      <td>5.213006e+11</td>\n",
       "      <td>2022-07-25</td>\n",
       "      <td>1969-05-25</td>\n",
       "      <td>775-XX-6249</td>\n",
       "      <td>2022-07-25</td>\n",
       "      <td>187500.0</td>\n",
       "      <td>2.0</td>\n",
       "      <td>6.0</td>\n",
       "      <td>175000 - 199999</td>\n",
       "      <td>...</td>\n",
       "      <td>0</td>\n",
       "      <td>1</td>\n",
       "      <td>N</td>\n",
       "      <td>True</td>\n",
       "      <td>False</td>\n",
       "      <td>False</td>\n",
       "      <td>187499.5</td>\n",
       "      <td>0</td>\n",
       "      <td>56</td>\n",
       "      <td>785.642350</td>\n",
       "    </tr>\n",
       "    <tr>\n",
       "      <th>4</th>\n",
       "      <td>2.213016e+11</td>\n",
       "      <td>5.213006e+11</td>\n",
       "      <td>2006-10-11</td>\n",
       "      <td>1972-09-25</td>\n",
       "      <td>629-XX-7298</td>\n",
       "      <td>2006-10-11</td>\n",
       "      <td>131250.0</td>\n",
       "      <td>1.0</td>\n",
       "      <td>4.0</td>\n",
       "      <td>225000 - 249999</td>\n",
       "      <td>...</td>\n",
       "      <td>1</td>\n",
       "      <td>1</td>\n",
       "      <td>Y</td>\n",
       "      <td>True</td>\n",
       "      <td>False</td>\n",
       "      <td>False</td>\n",
       "      <td>237499.5</td>\n",
       "      <td>1</td>\n",
       "      <td>53</td>\n",
       "      <td>807.830239</td>\n",
       "    </tr>\n",
       "  </tbody>\n",
       "</table>\n",
       "<p>5 rows × 21 columns</p>\n",
       "</div>"
      ]
     },
     "execution_count": 120,
     "metadata": {},
     "output_type": "execute_result"
    }
   ],
   "execution_count": 120
  },
  {
   "cell_type": "code",
   "metadata": {
    "ExecuteTime": {
     "end_time": "2025-03-23T21:04:21.174409Z",
     "start_time": "2025-03-23T21:04:01.965962Z"
    }
   },
   "source": [
    "X = df_model[['ADVANCED_STUDIES_BINARY', 'INCOME', 'HAS_CHILDREN', 'LENGTH_OF_RESIDENCE', 'HOME_OWNER', 'GOOD_CREDIT', 'AGE', 'MARITAL_STATUS_Married', 'MARITAL_STATUS_Single', 'MARITAL_STATUS_Unknown', 'HOME_MARKET_VALUE_NUMERIC']]\n",
    "y = df_model['CUSTOMER_VALUE_AVG']\n",
    "\n",
    "# Scaling the features\n",
    "scaler = StandardScaler()\n",
    "X_scaled = scaler.fit_transform(X)\n",
    "\n",
    "# Split the data into training and test sets\n",
    "X_train_scaled, X_test_scaled, y_train, y_test = train_test_split(X_scaled, y, test_size=0.2, random_state=42)\n",
    "\n",
    "best_rmse = np.inf\n",
    "best_n_features = 0\n",
    "best_features_indices = []\n",
    "\n",
    "# Loop through different numbers of features to select with RFE\n",
    "for n_features_to_select in range(1, X_train_scaled.shape[1] + 1):\n",
    "    model = LinearRegression()\n",
    "    rfe = RFE(estimator=model, n_features_to_select=n_features_to_select)\n",
    "    \n",
    "    # Fit RFE and transform the data\n",
    "    X_train_rfe = rfe.fit_transform(X_train_scaled, y_train)\n",
    "    X_test_rfe = rfe.transform(X_test_scaled)\n",
    "    \n",
    "    # Fit the model on the reduced training data\n",
    "    model.fit(X_train_rfe, y_train)\n",
    "    \n",
    "    # Predict on the reduced test data\n",
    "    y_pred = model.predict(X_test_rfe)\n",
    "    \n",
    "    # Calculate RMSE for the current model\n",
    "    rmse = np.sqrt(mean_squared_error(y_test, y_pred))\n",
    "    \n",
    "    # Update the best model if the current model is better\n",
    "    if rmse < best_rmse:\n",
    "        best_rmse = rmse\n",
    "        best_n_features = n_features_to_select\n",
    "        best_features_indices = np.where(rfe.support_)[0]  # Save indices of selected features\n",
    "\n",
    "# Correct use of the support_ attribute with the best RFE model\n",
    "# Ensure to use the best_features_indices to select the right features from X_test_scaled for the final model evaluation\n",
    "model = LinearRegression().fit(X_train_scaled[:, best_features_indices], y_train)  # Refit using best features\n",
    "r2_best = r2_score(y_test, model.predict(X_test_scaled[:, best_features_indices]))\n",
    "adjusted_r2_best = 1 - (1 - r2_best) * (len(y_test) - 1) / (len(y_test) - best_n_features - 1)\n",
    "\n",
    "# Display the results\n",
    "print(f'Best RMSE: {best_rmse}')\n",
    "print(f'Best number of features: {best_n_features}')\n",
    "print('Best features:', X.columns[best_features_indices].tolist())\n",
    "print(f'Adjusted R^2 for best model: {adjusted_r2_best}')\n"
   ],
   "outputs": [
    {
     "name": "stdout",
     "output_type": "stream",
     "text": [
      "Best RMSE: 145.60047506289825\n",
      "Best number of features: 10\n",
      "Best features: ['INCOME', 'HAS_CHILDREN', 'LENGTH_OF_RESIDENCE', 'HOME_OWNER', 'GOOD_CREDIT', 'AGE', 'MARITAL_STATUS_Married', 'MARITAL_STATUS_Single', 'MARITAL_STATUS_Unknown', 'HOME_MARKET_VALUE_NUMERIC']\n",
      "Adjusted R^2 for best model: 0.04456831983741938\n"
     ]
    }
   ],
   "execution_count": 121
  },
  {
   "cell_type": "markdown",
   "metadata": {},
   "source": [
    "In this analysis, a Linear Regression model served as the initial baseline to evaluate the relationship between a set of predictors and the target variable within a large dataset. Given the potential for feature redundancy and irrelevance, Recursive Feature Elimination (RFE) was implemented to systematically identify the subset of features that contribute most significantly to model performance. This method aligns with the objective to enhance model accuracy while mitigating computational complexity.\n",
    "\n",
    "The dataset's size warranted a methodological adjustment; specifically, a train-test split was employed in lieu of cross-validation to expedite the evaluation process. This decision was informed by the computational cost associated with cross-validation's multiple iterations over a large dataset.\n",
    "\n",
    "Performance metrics selected for this analysis included RMSE (Root Mean Squared Error) and adjusted R^2 chosen for their relevance to regression analysis. RMSE provides a scale-sensitive measure of prediction accuracy, while adjusted R^2 offers a correction for the number of predictors in the model, thus allowing for more accurate comparisons across models with varying numbers of features.\n",
    "\n",
    "The R^2 score indicates a weak predictive power of our model concerning customer value, highlighting a significant gap in our model's ability to capture the complexity and variance within our dataset."
   ]
  },
  {
   "cell_type": "markdown",
   "metadata": {},
   "source": [
    "#### Q2.2 Build a second model to estimate the costumer value based on their characteristics and compare model performance."
   ]
  },
  {
   "cell_type": "code",
   "metadata": {
    "ExecuteTime": {
     "end_time": "2025-03-23T21:04:31.048754Z",
     "start_time": "2025-03-23T21:04:21.286411Z"
    }
   },
   "source": [
    "X = df_model[['INCOME', 'HAS_CHILDREN', 'LENGTH_OF_RESIDENCE', 'HOME_OWNER', 'GOOD_CREDIT', 'AGE', 'MARITAL_STATUS_Married', 'MARITAL_STATUS_Single', 'MARITAL_STATUS_Unknown', 'HOME_MARKET_VALUE_NUMERIC']]\n",
    "y = df_model['CUSTOMER_VALUE_AVG']\n",
    "\n",
    "# Initialize the linear model and RFE\n",
    "model = LinearRegression()\n",
    "rfe = RFE(estimator=model, n_features_to_select=7) \n",
    "\n",
    "# Fit RFE and transform the features\n",
    "X_reduced = rfe.fit_transform(X, y)\n",
    "\n",
    "# Create polynomial features\n",
    "poly = PolynomialFeatures(degree=3)\n",
    "X_poly_transformed = poly.fit_transform(X_reduced)\n",
    "\n",
    "# Split the data\n",
    "X_train, X_test, y_train, y_test = train_test_split(X_poly_transformed, y, test_size=0.2, random_state=42)\n",
    "\n",
    "# Fit the model\n",
    "model_poly = LinearRegression()\n",
    "model_poly.fit(X_train, y_train)\n",
    "\n",
    "# Predict and evaluate\n",
    "y_pred = model_poly.predict(X_test)\n",
    "mse = mean_squared_error(y_test, y_pred)\n",
    "rmse = np.sqrt(mse)\n",
    "r2 = r2_score(y_test, y_pred)\n",
    "\n",
    "# Calculate adjusted R^2\n",
    "n = len(y_test)  # Number of observations in the test set\n",
    "p = X_train.shape[1]  # Number of predictors\n",
    "adjusted_r2 = 1 - (1 - r2) * (n - 1) / (n - p - 1)\n",
    "\n",
    "# Print the results\n",
    "print(f'Test MSE: {mse}')\n",
    "print(f'Test RMSE: {rmse}')\n",
    "print(f'Adjusted R^2: {adjusted_r2}')"
   ],
   "outputs": [
    {
     "name": "stdout",
     "output_type": "stream",
     "text": [
      "Test MSE: 21373.834977407623\n",
      "Test RMSE: 146.1979308246448\n",
      "Adjusted R^2: 0.03641075599125265\n"
     ]
    }
   ],
   "execution_count": 122
  },
  {
   "cell_type": "markdown",
   "metadata": {},
   "source": [
    "Given the results of the first model with a Best RMSE of 145.34, an Adjusted R^2 of 0.0425, and the selection of all 11 features, compared to the second, more complex model with a slightly higher Test RMSE of 145.95 and a lower Adjusted R^2 of 0.035, it appears that the increase in model complexity did not yield a significant improvement in predictive performance. In fact, the slight decrease in Adjusted R^2 and the marginal increase in RMSE suggest a slight degradation.\n",
    "\n",
    "The choice to select fewer features (7 instead of 11) in the second model through RFE, followed by the application of polynomial transformations, aimed to enhance model performance by capturing more complex relationships within the data. However, the results indicate that the reduction in feature space did not lead to better model accuracy or an improved ability to explain the variance in the target variable. This outcome could imply that the eliminated features, despite their perceived redundancy or lesser importance through RFE, might hold some explanatory value that was lost in the process. Alternatively, the polynomial expansion of the reduced feature set might not have captured meaningful interactions or non-linear relationships beneficial for the model's predictive accuracy."
   ]
  },
  {
   "cell_type": "markdown",
   "metadata": {},
   "source": [
    "#### Q2.3 Based on the analysis, suggest a model to the head of marketing and an application scenario. Please justify your decisions."
   ]
  },
  {
   "cell_type": "markdown",
   "metadata": {},
   "source": [
    "Based on the analysis conducted and the results obtained from both the baseline and the more complex models, it appears that the predictive power of the models, as indicated by the RMSE and adjusted R^2 values, does not significantly enhance our understanding or prediction of the target variable, customer value average. Despite employing sophisticated techniques such as Recursive Feature Elimination (RFE) and polynomial feature transformation to capture non-linear relationships and reduce feature redundancy, the incremental improvements in model performance were marginal. This outcome suggests that the current dataset might not contain sufficient or relevant information to significantly predict customer value with high accuracy. Therefore, before recommending a predictive model for deployment, it would be prudent to reassess the available data. Improving data collection processes to include more informative variables or refining existing features could lead to more significant insights and better predictive performance in future modeling efforts.\n",
    "\n",
    "In light of these findings, I would advise the head of marketing to consider postponing the deployment of a predictive model for customer value prediction until better data can be collected or until additional data sources are integrated into the analysis. The current models do not offer a substantial improvement over simple heuristics or baseline predictions, making them less useful for strategic marketing decisions or for the allocation of marketing resources. Instead, the focus should shift towards enhancing the quality and breadth of data related to customer interactions, behaviors, and preferences. By gathering more comprehensive and relevant data, future models may be able to uncover deeper insights into customer value, leading to more effective and targeted marketing strategies. This approach not only aligns with best practices in data science but also ensures that the marketing department relies on robust and meaningful analytics to drive its initiatives."
   ]
  },
  {
   "cell_type": "markdown",
   "metadata": {},
   "source": [
    "## Churn Analysis and Prevention Strategy \n",
    "\n",
    "#### Background: Customer retention is a significant concern for ABC Insurance. The df_termination dataset indicates customers who have recently suspended their policies, providing a basis for analyzing churn."
   ]
  },
  {
   "cell_type": "markdown",
   "metadata": {},
   "source": [
    "#### Q3.1 Build a baseline model to predict customers that will churn. "
   ]
  },
  {
   "metadata": {},
   "cell_type": "markdown",
   "source": "##### MERGING THE DATAFRAMES IN ORDER TO CREATE THE CHURN MODEL \n"
  },
  {
   "cell_type": "code",
   "metadata": {
    "ExecuteTime": {
     "end_time": "2025-03-23T21:04:31.545629Z",
     "start_time": "2025-03-23T21:04:31.102502Z"
    }
   },
   "source": [
    "#merge df and df_termination on the INDIVIDUAL_ID column preserving all the records in df\n",
    "df = pd.merge(df, df_termination, on='INDIVIDUAL_ID', how='left')\n",
    "\n",
    "df.head()"
   ],
   "outputs": [
    {
     "data": {
      "text/plain": [
       "   INDIVIDUAL_ID    ADDRESS_ID CUST_ORIG_DATE DATE_OF_BIRTH  \\\n",
       "0   2.213000e+11  5.213000e+11     2018-12-09    1978-06-23   \n",
       "1   2.213001e+11  5.213001e+11     2018-01-02    1950-05-30   \n",
       "2   2.213007e+11  5.213002e+11     2009-09-23    1967-07-07   \n",
       "3   2.213016e+11  5.213006e+11     2022-07-25    1969-05-25   \n",
       "4   2.213016e+11  5.213006e+11     2006-10-11    1972-09-25   \n",
       "\n",
       "  SOCIAL_SECURITY_NUMBER CUST_START_DATE  CURR_ANN_AMT_CAR  \\\n",
       "0            608-XX-7640      2018-12-09       1318.877997   \n",
       "1            342-XX-6908      2018-01-02       1474.199182   \n",
       "2            240-XX-9224      2009-09-23       1467.375112   \n",
       "3            775-XX-6249      2022-07-25       1492.409561   \n",
       "4            629-XX-7298      2006-10-11       1284.633494   \n",
       "\n",
       "   CURR_ANN_AMT_HEALTH  CURR_ANN_AMT_HOUSE    INCOME  ...  ADVANCED_STUDIES  \\\n",
       "0           517.999317                 411   33750.0  ...                 N   \n",
       "1           558.417779                 414   41250.0  ...                 N   \n",
       "2           701.649310                 442   63750.0  ...                 N   \n",
       "3           401.517490                 463  187500.0  ...                 N   \n",
       "4           772.857222                 366  131250.0  ...                 Y   \n",
       "\n",
       "   MARITAL_STATUS_Married MARITAL_STATUS_Single  MARITAL_STATUS_Unknown  \\\n",
       "0                    True                 False                   False   \n",
       "1                   False                  True                   False   \n",
       "2                    True                 False                   False   \n",
       "3                    True                 False                   False   \n",
       "4                    True                 False                   False   \n",
       "\n",
       "   HOME_MARKET_VALUE_NUMERIC  ADVANCED_STUDIES_BINARY AGE  SUSPD_DATE  \\\n",
       "0                    62499.5                        0  47         NaT   \n",
       "1                    62499.5                        0  75         NaT   \n",
       "2                    87499.5                        0  58         NaT   \n",
       "3                   187499.5                        0  56  2021-12-22   \n",
       "4                   237499.5                        1  53         NaT   \n",
       "\n",
       "   DAYS_TO_CHURN  CHURN_INDICATOR  \n",
       "0            NaN              NaN  \n",
       "1            NaN              NaN  \n",
       "2            NaN              NaN  \n",
       "3        -1188.0              1.0  \n",
       "4            NaN              NaN  \n",
       "\n",
       "[5 rows x 26 columns]"
      ],
      "text/html": [
       "<div>\n",
       "<style scoped>\n",
       "    .dataframe tbody tr th:only-of-type {\n",
       "        vertical-align: middle;\n",
       "    }\n",
       "\n",
       "    .dataframe tbody tr th {\n",
       "        vertical-align: top;\n",
       "    }\n",
       "\n",
       "    .dataframe thead th {\n",
       "        text-align: right;\n",
       "    }\n",
       "</style>\n",
       "<table border=\"1\" class=\"dataframe\">\n",
       "  <thead>\n",
       "    <tr style=\"text-align: right;\">\n",
       "      <th></th>\n",
       "      <th>INDIVIDUAL_ID</th>\n",
       "      <th>ADDRESS_ID</th>\n",
       "      <th>CUST_ORIG_DATE</th>\n",
       "      <th>DATE_OF_BIRTH</th>\n",
       "      <th>SOCIAL_SECURITY_NUMBER</th>\n",
       "      <th>CUST_START_DATE</th>\n",
       "      <th>CURR_ANN_AMT_CAR</th>\n",
       "      <th>CURR_ANN_AMT_HEALTH</th>\n",
       "      <th>CURR_ANN_AMT_HOUSE</th>\n",
       "      <th>INCOME</th>\n",
       "      <th>...</th>\n",
       "      <th>ADVANCED_STUDIES</th>\n",
       "      <th>MARITAL_STATUS_Married</th>\n",
       "      <th>MARITAL_STATUS_Single</th>\n",
       "      <th>MARITAL_STATUS_Unknown</th>\n",
       "      <th>HOME_MARKET_VALUE_NUMERIC</th>\n",
       "      <th>ADVANCED_STUDIES_BINARY</th>\n",
       "      <th>AGE</th>\n",
       "      <th>SUSPD_DATE</th>\n",
       "      <th>DAYS_TO_CHURN</th>\n",
       "      <th>CHURN_INDICATOR</th>\n",
       "    </tr>\n",
       "  </thead>\n",
       "  <tbody>\n",
       "    <tr>\n",
       "      <th>0</th>\n",
       "      <td>2.213000e+11</td>\n",
       "      <td>5.213000e+11</td>\n",
       "      <td>2018-12-09</td>\n",
       "      <td>1978-06-23</td>\n",
       "      <td>608-XX-7640</td>\n",
       "      <td>2018-12-09</td>\n",
       "      <td>1318.877997</td>\n",
       "      <td>517.999317</td>\n",
       "      <td>411</td>\n",
       "      <td>33750.0</td>\n",
       "      <td>...</td>\n",
       "      <td>N</td>\n",
       "      <td>True</td>\n",
       "      <td>False</td>\n",
       "      <td>False</td>\n",
       "      <td>62499.5</td>\n",
       "      <td>0</td>\n",
       "      <td>47</td>\n",
       "      <td>NaT</td>\n",
       "      <td>NaN</td>\n",
       "      <td>NaN</td>\n",
       "    </tr>\n",
       "    <tr>\n",
       "      <th>1</th>\n",
       "      <td>2.213001e+11</td>\n",
       "      <td>5.213001e+11</td>\n",
       "      <td>2018-01-02</td>\n",
       "      <td>1950-05-30</td>\n",
       "      <td>342-XX-6908</td>\n",
       "      <td>2018-01-02</td>\n",
       "      <td>1474.199182</td>\n",
       "      <td>558.417779</td>\n",
       "      <td>414</td>\n",
       "      <td>41250.0</td>\n",
       "      <td>...</td>\n",
       "      <td>N</td>\n",
       "      <td>False</td>\n",
       "      <td>True</td>\n",
       "      <td>False</td>\n",
       "      <td>62499.5</td>\n",
       "      <td>0</td>\n",
       "      <td>75</td>\n",
       "      <td>NaT</td>\n",
       "      <td>NaN</td>\n",
       "      <td>NaN</td>\n",
       "    </tr>\n",
       "    <tr>\n",
       "      <th>2</th>\n",
       "      <td>2.213007e+11</td>\n",
       "      <td>5.213002e+11</td>\n",
       "      <td>2009-09-23</td>\n",
       "      <td>1967-07-07</td>\n",
       "      <td>240-XX-9224</td>\n",
       "      <td>2009-09-23</td>\n",
       "      <td>1467.375112</td>\n",
       "      <td>701.649310</td>\n",
       "      <td>442</td>\n",
       "      <td>63750.0</td>\n",
       "      <td>...</td>\n",
       "      <td>N</td>\n",
       "      <td>True</td>\n",
       "      <td>False</td>\n",
       "      <td>False</td>\n",
       "      <td>87499.5</td>\n",
       "      <td>0</td>\n",
       "      <td>58</td>\n",
       "      <td>NaT</td>\n",
       "      <td>NaN</td>\n",
       "      <td>NaN</td>\n",
       "    </tr>\n",
       "    <tr>\n",
       "      <th>3</th>\n",
       "      <td>2.213016e+11</td>\n",
       "      <td>5.213006e+11</td>\n",
       "      <td>2022-07-25</td>\n",
       "      <td>1969-05-25</td>\n",
       "      <td>775-XX-6249</td>\n",
       "      <td>2022-07-25</td>\n",
       "      <td>1492.409561</td>\n",
       "      <td>401.517490</td>\n",
       "      <td>463</td>\n",
       "      <td>187500.0</td>\n",
       "      <td>...</td>\n",
       "      <td>N</td>\n",
       "      <td>True</td>\n",
       "      <td>False</td>\n",
       "      <td>False</td>\n",
       "      <td>187499.5</td>\n",
       "      <td>0</td>\n",
       "      <td>56</td>\n",
       "      <td>2021-12-22</td>\n",
       "      <td>-1188.0</td>\n",
       "      <td>1.0</td>\n",
       "    </tr>\n",
       "    <tr>\n",
       "      <th>4</th>\n",
       "      <td>2.213016e+11</td>\n",
       "      <td>5.213006e+11</td>\n",
       "      <td>2006-10-11</td>\n",
       "      <td>1972-09-25</td>\n",
       "      <td>629-XX-7298</td>\n",
       "      <td>2006-10-11</td>\n",
       "      <td>1284.633494</td>\n",
       "      <td>772.857222</td>\n",
       "      <td>366</td>\n",
       "      <td>131250.0</td>\n",
       "      <td>...</td>\n",
       "      <td>Y</td>\n",
       "      <td>True</td>\n",
       "      <td>False</td>\n",
       "      <td>False</td>\n",
       "      <td>237499.5</td>\n",
       "      <td>1</td>\n",
       "      <td>53</td>\n",
       "      <td>NaT</td>\n",
       "      <td>NaN</td>\n",
       "      <td>NaN</td>\n",
       "    </tr>\n",
       "  </tbody>\n",
       "</table>\n",
       "<p>5 rows × 26 columns</p>\n",
       "</div>"
      ]
     },
     "execution_count": 123,
     "metadata": {},
     "output_type": "execute_result"
    }
   ],
   "execution_count": 123
  },
  {
   "cell_type": "code",
   "metadata": {
    "ExecuteTime": {
     "end_time": "2025-03-23T21:04:31.582638Z",
     "start_time": "2025-03-23T21:04:31.580001Z"
    }
   },
   "source": [
    "df.shape   "
   ],
   "outputs": [
    {
     "data": {
      "text/plain": [
       "(1763953, 26)"
      ]
     },
     "execution_count": 124,
     "metadata": {},
     "output_type": "execute_result"
    }
   ],
   "execution_count": 124
  },
  {
   "cell_type": "code",
   "metadata": {
    "ExecuteTime": {
     "end_time": "2025-03-23T21:04:31.719788Z",
     "start_time": "2025-03-23T21:04:31.712213Z"
    }
   },
   "source": [
    "#let's fill with 0 the missing values in the CHURN_INDICATOR column\n",
    "df['CHURN_INDICATOR'] = df['CHURN_INDICATOR'].fillna(0)"
   ],
   "outputs": [],
   "execution_count": 125
  },
  {
   "cell_type": "code",
   "metadata": {
    "ExecuteTime": {
     "end_time": "2025-03-23T21:04:31.893006Z",
     "start_time": "2025-03-23T21:04:31.850837Z"
    }
   },
   "source": [
    "#add the feature days since the customer started the policy\n",
    "df['DAYS_SINCE_POLICY_START'] = (datetime.now() - df['CUST_START_DATE']).dt.days"
   ],
   "outputs": [],
   "execution_count": 126
  },
  {
   "cell_type": "code",
   "metadata": {
    "ExecuteTime": {
     "end_time": "2025-03-23T21:04:33.597007Z",
     "start_time": "2025-03-23T21:04:32.392180Z"
    }
   },
   "source": [
    "#see the correlation of the churn indicator with the other columns\n",
    "correlation_matrix = df.corr(numeric_only=True).abs()\n",
    "correlation_matrix['CHURN_INDICATOR'].sort_values(ascending=False)"
   ],
   "outputs": [
    {
     "data": {
      "text/plain": [
       "CHURN_INDICATOR              1.000000\n",
       "DAYS_SINCE_POLICY_START      0.204289\n",
       "AGE                          0.052601\n",
       "LENGTH_OF_RESIDENCE          0.033031\n",
       "CURR_ANN_AMT_CAR             0.021424\n",
       "CURR_ANN_AMT_HOUSE           0.020770\n",
       "COLLEGE_DEGREE               0.019736\n",
       "MARITAL_STATUS_Unknown       0.015383\n",
       "HOME_OWNER                   0.014138\n",
       "HAS_CHILDREN                 0.011449\n",
       "CURR_ANN_AMT_HEALTH          0.011327\n",
       "MARITAL_STATUS_Married       0.011046\n",
       "GOOD_CREDIT                  0.007409\n",
       "INCOME                       0.006037\n",
       "ADDRESS_ID                   0.003068\n",
       "INDIVIDUAL_ID                0.002632\n",
       "ADVANCED_STUDIES_BINARY      0.002358\n",
       "MARITAL_STATUS_Single        0.000665\n",
       "HOME_MARKET_VALUE_NUMERIC    0.000284\n",
       "DAYS_TO_CHURN                     NaN\n",
       "Name: CHURN_INDICATOR, dtype: float64"
      ]
     },
     "execution_count": 127,
     "metadata": {},
     "output_type": "execute_result"
    }
   ],
   "execution_count": 127
  },
  {
   "metadata": {},
   "cell_type": "markdown",
   "source": "#### BASELINE MODEL"
  },
  {
   "cell_type": "code",
   "metadata": {
    "ExecuteTime": {
     "end_time": "2025-03-23T21:04:34.226622Z",
     "start_time": "2025-03-23T21:04:34.116033Z"
    }
   },
   "source": [
    "from sklearn.model_selection import train_test_split, StratifiedKFold\n",
    "from sklearn.preprocessing import StandardScaler\n",
    "from sklearn.linear_model import LogisticRegression\n",
    "from sklearn.feature_selection import RFECV\n",
    "from sklearn.metrics import (\n",
    "    confusion_matrix,\n",
    "    classification_report,\n",
    "    roc_auc_score,\n",
    "    precision_recall_curve,\n",
    "    average_precision_score,\n",
    "    ConfusionMatrixDisplay\n",
    ")\n",
    "import matplotlib.pyplot as plt\n",
    "from imblearn.over_sampling import SMOTE  # Optional"
   ],
   "outputs": [],
   "execution_count": 128
  },
  {
   "cell_type": "code",
   "metadata": {
    "ExecuteTime": {
     "end_time": "2025-03-23T21:04:48.596529Z",
     "start_time": "2025-03-23T21:04:34.253905Z"
    }
   },
   "source": [
    "# Define features and target\n",
    "X = df[['DAYS_SINCE_POLICY_START', 'CURR_ANN_AMT_CAR', 'CURR_ANN_AMT_HOUSE',\n",
    "        'MARITAL_STATUS_Unknown', 'HAS_CHILDREN', 'CURR_ANN_AMT_HEALTH', 'ADVANCED_STUDIES_BINARY']]\n",
    "y = df['CHURN_INDICATOR']\n",
    "\n",
    "# Train-test split\n",
    "X_train, X_test, y_train, y_test = train_test_split(X, y, test_size=0.2, stratify=y, random_state=42)\n",
    "\n",
    "# Scale features\n",
    "scaler = StandardScaler()\n",
    "X_train_scaled = scaler.fit_transform(X_train)\n",
    "X_test_scaled = scaler.transform(X_test)\n",
    "\n",
    "# Recursive Feature Elimination with Cross-Validation\n",
    "rfe = RFECV(\n",
    "    estimator=LogisticRegression(class_weight='balanced', max_iter=1000),\n",
    "    step=1,\n",
    "    cv=StratifiedKFold(5),\n",
    "    scoring='accuracy',\n",
    "    min_features_to_select=4\n",
    ")\n",
    "rfe.fit(X_train_scaled, y_train)\n",
    "\n",
    "selected_features = [feature for feature, selected in zip(X.columns, rfe.support_) if selected]\n",
    "print(\"Selected features by RFE:\", selected_features)\n",
    "\n",
    "# Transform the train/test sets\n",
    "X_train_rfe = rfe.transform(X_train_scaled)\n",
    "X_test_rfe = rfe.transform(X_test_scaled)\n",
    "\n",
    "# Optional: Apply SMOTE (if class_weight doesn't work well)\n",
    "# smote = SMOTE(random_state=42)\n",
    "# X_train_rfe, y_train = smote.fit_resample(X_train_rfe, y_train)\n",
    "\n",
    "# Train final Logistic Regression model\n",
    "model = LogisticRegression(class_weight='balanced', max_iter=1000)\n",
    "model.fit(X_train_rfe, y_train)\n",
    "\n",
    "# Predict\n",
    "y_pred = model.predict(X_test_rfe)\n",
    "y_pred_proba = model.predict_proba(X_test_rfe)[:, 1]\n",
    "\n",
    "# Evaluation\n",
    "cm = confusion_matrix(y_test, y_pred)\n",
    "print(\"Confusion Matrix:\")\n",
    "print(cm)\n",
    "\n",
    "print(\"\\nClassification Report:\")\n",
    "print(classification_report(y_test, y_pred))\n",
    "\n",
    "roc_auc = roc_auc_score(y_test, y_pred_proba)\n",
    "print(f\"ROC-AUC Score: {roc_auc:.4f}\")\n",
    "\n",
    "# Plot confusion matrix\n",
    "ConfusionMatrixDisplay(confusion_matrix=cm, display_labels=model.classes_).plot()\n",
    "plt.title(\"Confusion Matrix\")\n",
    "plt.show()\n",
    "\n",
    "# Precision-Recall Curve\n",
    "precision, recall, _ = precision_recall_curve(y_test, y_pred_proba)\n",
    "avg_precision = average_precision_score(y_test, y_pred_proba)\n",
    "\n",
    "plt.plot(recall, precision, marker='.')\n",
    "plt.title(f'Precision-Recall Curve (AP={avg_precision:.4f})')\n",
    "plt.xlabel('Recall')\n",
    "plt.ylabel('Precision')\n",
    "plt.grid(True)\n",
    "plt.show()\n"
   ],
   "outputs": [
    {
     "name": "stdout",
     "output_type": "stream",
     "text": [
      "Selected features by RFE: ['DAYS_SINCE_POLICY_START', 'CURR_ANN_AMT_CAR', 'CURR_ANN_AMT_HOUSE', 'MARITAL_STATUS_Unknown', 'HAS_CHILDREN', 'CURR_ANN_AMT_HEALTH', 'ADVANCED_STUDIES_BINARY']\n",
      "Confusion Matrix:\n",
      "[[184633 127697]\n",
      " [ 13837  26624]]\n",
      "\n",
      "Classification Report:\n",
      "              precision    recall  f1-score   support\n",
      "\n",
      "         0.0       0.93      0.59      0.72    312330\n",
      "         1.0       0.17      0.66      0.27     40461\n",
      "\n",
      "    accuracy                           0.60    352791\n",
      "   macro avg       0.55      0.62      0.50    352791\n",
      "weighted avg       0.84      0.60      0.67    352791\n",
      "\n",
      "ROC-AUC Score: 0.6900\n"
     ]
    },
    {
     "data": {
      "text/plain": [
       "<Figure size 640x480 with 2 Axes>"
      ],
      "image/png": "[encoded data removed]"
     },
     "metadata": {},
     "output_type": "display_data"
    },
    {
     "data": {
      "text/plain": [
       "<Figure size 640x480 with 1 Axes>"
      ],
      "image/png": "[encoded data removed]"
     },
     "metadata": {},
     "output_type": "display_data"
    }
   ],
   "execution_count": 129
  },
  {
   "cell_type": "markdown",
   "metadata": {},
   "source": [
    "### **Confusion Matrix Analysis**\n",
    "- **True Negatives (TN): 184,633** – The model correctly predicted 'no churn' for these customers.\n",
    "- **True Positives (TP): 26,624** – These are the churners the model correctly identified.\n",
    "- **False Negatives (FN): 13,837** – These customers actually churned, but the model predicted they wouldn’t.\n",
    "- **False Positives (FP): 127,697** – These are non-churning customers that were incorrectly predicted to churn.\n",
    "\n",
    "---\n",
    "\n",
    "### **Classification Report Summary**\n",
    "\n",
    "- **Precision for class 1 (churners): 0.17**  \n",
    "  This means only 17% of the customers predicted to churn actually did. The model identifies a lot of churn, but with many false alarms.\n",
    "\n",
    "- **Recall for class 1: 0.66**  \n",
    "  This is strong — the model captures **66%** of actual churners, which is great for use cases where missing churners is costly.\n",
    "\n",
    "- **F1-score for class 1: 0.27**  \n",
    "  The F1-score balances precision and recall. In this case, it's modest due to the low precision, but still meaningful since recall is prioritized.\n",
    "\n",
    "- **Accuracy: 0.60**  \n",
    "  The model is correct 60% of the time overall. But because of class imbalance, this number isn't the best indicator of performance.\n",
    "\n",
    "- **Macro Average**  \n",
    "  - **Precision: 0.55**, **Recall: 0.62**, **F1-score: 0.50**  \n",
    "    This unweighted average treats both churn and non-churn equally, reflecting that the model performs reasonably across both.\n",
    "\n",
    "- **Weighted Average**  \n",
    "  - **Precision: 0.84**, **Recall: 0.60**, **F1-score: 0.67**  \n",
    "    These are weighted by the number of instances in each class. The higher precision is influenced by the large number of correct non-churn predictions.\n",
    "\n",
    "---\n",
    "\n",
    "### **ROC-AUC Score: 0.6900**\n",
    "\n",
    "The ROC-AUC score reflects the model’s ability to rank churners higher than non-churners. A score of **0.69** indicates **moderate discriminative power** — better than random guessing, but with room for improvement.\n",
    "\n",
    "---\n",
    "\n",
    "### **Overall Insight**\n",
    "This version of the model trades off precision to significantly **boost recall for churners**, which is often the preferred trade-off in churn prevention efforts. While many false positives exist, it now successfully identifies most customers who are actually at risk of churning — a critical step in enabling proactive retention strategies.\n"
   ]
  },
  {
   "cell_type": "markdown",
   "metadata": {},
   "source": [
    "#### Q3.2 Build a second model and compare the model performance.\n",
    "\n",
    "I decided to create a smaller balanced dataset through sampling in order to help the Random Forest model train more effectively. This strategy, known as downsampling, can make the training process faster and more manageable."
   ]
  },
  {
   "cell_type": "code",
   "metadata": {
    "ExecuteTime": {
     "end_time": "2025-03-23T21:04:48.831366Z",
     "start_time": "2025-03-23T21:04:48.617923Z"
    }
   },
   "source": [
    "from sklearn.utils import resample\n",
    "\n",
    "# Separate the minority and majority classes\n",
    "df_majority = df[df.CHURN_INDICATOR==0]\n",
    "df_minority = df[df.CHURN_INDICATOR==1]\n",
    "\n",
    "# Downsample the majority class\n",
    "df_majority_downsampled = resample(df_majority, \n",
    "                                 replace=False,    # sample without replacement\n",
    "                                 n_samples=len(df_minority),  \n",
    "                                 random_state=123) # reproducible results\n",
    "\n",
    "# Combine minority class with downsampled majority class\n",
    "df_downsampled = pd.concat([df_majority_downsampled, df_minority])\n",
    "\n",
    "# Display new class counts\n",
    "df_downsampled.CHURN_INDICATOR.value_counts()"
   ],
   "outputs": [
    {
     "data": {
      "text/plain": [
       "CHURN_INDICATOR\n",
       "0.0    202306\n",
       "1.0    202306\n",
       "Name: count, dtype: int64"
      ]
     },
     "execution_count": 130,
     "metadata": {},
     "output_type": "execute_result"
    }
   ],
   "execution_count": 130
  },
  {
   "cell_type": "code",
   "metadata": {
    "ExecuteTime": {
     "end_time": "2025-03-23T21:06:38.359669Z",
     "start_time": "2025-03-23T21:04:49.570988Z"
    }
   },
   "source": [
    "from sklearn.model_selection import train_test_split\n",
    "from sklearn.ensemble import RandomForestClassifier\n",
    "from sklearn.metrics import classification_report, confusion_matrix, roc_auc_score, roc_curve, auc\n",
    "import matplotlib.pyplot as plt\n",
    "\n",
    "# Define features and target variable from the downsampled dataset\n",
    "X_downsampled = df_downsampled[['DAYS_SINCE_POLICY_START', 'CURR_ANN_AMT_CAR', 'HAS_CHILDREN']]\n",
    "y_downsampled = df_downsampled['CHURN_INDICATOR']\n",
    "\n",
    "# Splitting the downsampled dataset into training and testing sets\n",
    "X_train_downsampled, X_test_downsampled, y_train_downsampled, y_test_downsampled = train_test_split(X_downsampled, y_downsampled, test_size=0.2, random_state=42)\n",
    "\n",
    "# Initialize Random Forest classifier with a reasonable number of trees\n",
    "rf_model_downsampled = RandomForestClassifier(n_estimators=100, random_state=42)\n",
    "\n",
    "# Fit the model on the downsampled training set\n",
    "rf_model_downsampled.fit(X_train_downsampled, y_train_downsampled)\n",
    "\n",
    "# Predictions\n",
    "y_pred_downsampled = rf_model_downsampled.predict(X_test_downsampled)\n",
    "y_pred_proba_downsampled = rf_model_downsampled.predict_proba(X_test_downsampled)[:, 1]\n",
    "\n",
    "# Model evaluation\n",
    "cm = confusion_matrix(y_test_downsampled, y_pred_downsampled)\n",
    "cr = classification_report(y_test_downsampled, y_pred_downsampled)\n",
    "roc_auc = roc_auc_score(y_test_downsampled, y_pred_proba_downsampled)\n",
    "\n",
    "# ROC Curve\n",
    "fpr, tpr, thresholds = roc_curve(y_test_downsampled, y_pred_proba_downsampled)\n",
    "roc_auc = auc(fpr, tpr)\n",
    "\n",
    "# Display the results\n",
    "print(\"Confusion Matrix:\")\n",
    "print(cm)\n",
    "print(\"\\nClassification Report:\")\n",
    "print(cr)\n",
    "print(\"\\nROC-AUC Score:\", roc_auc)"
   ],
   "outputs": [
    {
     "name": "stdout",
     "output_type": "stream",
     "text": [
      "Confusion Matrix:\n",
      "[[26351 14241]\n",
      " [16958 23373]]\n",
      "\n",
      "Classification Report:\n",
      "              precision    recall  f1-score   support\n",
      "\n",
      "         0.0       0.61      0.65      0.63     40592\n",
      "         1.0       0.62      0.58      0.60     40331\n",
      "\n",
      "    accuracy                           0.61     80923\n",
      "   macro avg       0.61      0.61      0.61     80923\n",
      "weighted avg       0.61      0.61      0.61     80923\n",
      "\n",
      "\n",
      "ROC-AUC Score: 0.6650813203975182\n"
     ]
    }
   ],
   "execution_count": 131
  },
  {
   "cell_type": "markdown",
   "metadata": {},
   "source": [
    "### Model Performance Comparison\n",
    "\n",
    "To improve customer churn prediction while managing computational efficiency, a second model was developed using a **Random Forest classifier** trained on a **balanced dataset** created via downsampling. This approach ensured equal representation of churned and non-churned customers, allowing the model to better capture patterns from both classes.\n",
    "\n",
    "The Random Forest model delivered a **well-balanced performance**, with **precision, recall, and F1-scores around 0.61**, and an **overall accuracy of 61%**. Its **ROC-AUC score of 0.665** reflects a stronger ability to distinguish between churners and non-churners compared to random guessing and represents an improvement over the initial logistic regression model trained on imbalanced data.\n",
    "\n",
    "This result highlights the **effectiveness of using a balanced dataset with an ensemble method**, particularly for identifying churn cases. However, the still-moderate ROC-AUC indicates room for enhancement, suggesting future efforts should focus on **more advanced modeling techniques**, **feature engineering**, and potentially **hybrid resampling methods** to further boost predictive performance."
   ]
  },
  {
   "cell_type": "markdown",
   "metadata": {},
   "source": [
    "#### Q3.3 Final consideration to the head of marketing and an application scenario."
   ]
  },
  {
   "metadata": {},
   "cell_type": "markdown",
   "source": [
    "The predictive modeling efforts undertaken to understand and anticipate customer churn at ABC Insurance have provided meaningful initial insights. However, based on the observed **ROC-AUC scores**—approximately **0.69** for logistic regression and **0.665** for the Random Forest model—it is clear that while these models show **moderate discriminative power**, they are **not yet sufficiently accurate for high-stakes operational deployment**.\n",
    "\n",
    "The **Random Forest model**, trained on a **balanced downsampled dataset**, demonstrated a more equitable ability to detect both churners and non-churners, with **precision, recall, and F1-scores near 0.61** and an overall **accuracy of 61%**. This represents an improvement over the logistic regression model, which struggled with class imbalance and failed to detect churners effectively. Nevertheless, both models highlight a consistent challenge: while some predictive value exists, the models' current level of performance is **insufficient for confident, large-scale marketing interventions**.\n",
    "\n",
    "Given this, I recommend **caution in deploying these models in live churn reduction campaigns**. Instead, the current results should be viewed as a **foundation for ongoing development**. Future efforts should prioritize:\n",
    "- Incorporating **richer and more granular customer data** (e.g., engagement history, customer service interactions).\n",
    "- Employing **advanced feature engineering** and **behavioral segmentation** to uncover deeper churn drivers.\n",
    "- Exploring **more sophisticated algorithms**, such as Gradient Boosting (XGBoost, LightGBM) or Neural Networks, along with **ensemble strategies**.\n",
    "- Fine-tuning decision thresholds for specific business goals (e.g., high-recall targeting in retention campaigns).\n",
    "\n",
    "In terms of application, the current models can be leveraged **as exploratory tools** to support **pilot retention initiatives**, particularly where the cost of false positives is acceptable, and interventions can be tested and refined in a controlled setting.\n"
   ]
  }
 ],
 "metadata": {
  "kernelspec": {
   "display_name": "base",
   "language": "python",
   "name": "python3"
  },
  "language_info": {
   "codemirror_mode": {
    "name": "ipython",
    "version": 3
   },
   "file_extension": ".py",
   "mimetype": "text/x-python",
   "name": "python",
   "nbconvert_exporter": "python",
   "pygments_lexer": "ipython3",
   "version": "3.11.3"
  },
  "orig_nbformat": 4
 },
 "nbformat": 4,
 "nbformat_minor": 2
}
